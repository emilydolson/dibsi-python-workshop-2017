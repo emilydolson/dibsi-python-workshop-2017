{
 "cells": [
  {
   "cell_type": "code",
   "execution_count": 3,
   "metadata": {
    "collapsed": false
   },
   "outputs": [
    {
     "name": "stdout",
     "output_type": "stream",
     "text": [
      "Letter is h\n",
      "Letter is i\n",
      "Letter is  \n",
      "Letter is e\n",
      "Letter is v\n",
      "Letter is e\n",
      "Letter is r\n",
      "Letter is y\n",
      "Letter is o\n",
      "Letter is n\n",
      "Letter is e\n"
     ]
    }
   ],
   "source": [
    "for blah in \"hi everyone\":\n",
    "    print(\"Letter is\", blah)"
   ]
  },
  {
   "cell_type": "code",
   "execution_count": 4,
   "metadata": {
    "collapsed": true
   },
   "outputs": [],
   "source": [
    "my_list = [\"hello\", 5, 2.3]"
   ]
  },
  {
   "cell_type": "code",
   "execution_count": 5,
   "metadata": {
    "collapsed": false
   },
   "outputs": [
    {
     "data": {
      "text/plain": [
       "'hello'"
      ]
     },
     "execution_count": 5,
     "metadata": {},
     "output_type": "execute_result"
    }
   ],
   "source": [
    "my_list[0]"
   ]
  },
  {
   "cell_type": "code",
   "execution_count": 6,
   "metadata": {
    "collapsed": false
   },
   "outputs": [
    {
     "name": "stdout",
     "output_type": "stream",
     "text": [
      "hello\n",
      "5\n",
      "2.3\n"
     ]
    }
   ],
   "source": [
    "for item in my_list:\n",
    "    print(item)"
   ]
  },
  {
   "cell_type": "code",
   "execution_count": 7,
   "metadata": {
    "collapsed": true
   },
   "outputs": [],
   "source": [
    "letter_list = []\n",
    "for letter in \"an example string\":\n",
    "    letter_list.append(letter)"
   ]
  },
  {
   "cell_type": "code",
   "execution_count": 8,
   "metadata": {
    "collapsed": false
   },
   "outputs": [
    {
     "data": {
      "text/plain": [
       "['a',\n",
       " 'n',\n",
       " ' ',\n",
       " 'e',\n",
       " 'x',\n",
       " 'a',\n",
       " 'm',\n",
       " 'p',\n",
       " 'l',\n",
       " 'e',\n",
       " ' ',\n",
       " 's',\n",
       " 't',\n",
       " 'r',\n",
       " 'i',\n",
       " 'n',\n",
       " 'g']"
      ]
     },
     "execution_count": 8,
     "metadata": {},
     "output_type": "execute_result"
    }
   ],
   "source": [
    "letter_list"
   ]
  },
  {
   "cell_type": "code",
   "execution_count": 11,
   "metadata": {
    "collapsed": false
   },
   "outputs": [
    {
     "data": {
      "text/plain": [
       "[0, 1, 2, 3, 4, 5]"
      ]
     },
     "execution_count": 11,
     "metadata": {},
     "output_type": "execute_result"
    }
   ],
   "source": [
    "list(range(6))"
   ]
  },
  {
   "cell_type": "code",
   "execution_count": 12,
   "metadata": {
    "collapsed": false
   },
   "outputs": [
    {
     "data": {
      "text/plain": [
       "[3, 4, 5, 6, 7, 8]"
      ]
     },
     "execution_count": 12,
     "metadata": {},
     "output_type": "execute_result"
    }
   ],
   "source": [
    "list(range(3, 9))"
   ]
  },
  {
   "cell_type": "code",
   "execution_count": 13,
   "metadata": {
    "collapsed": false
   },
   "outputs": [
    {
     "data": {
      "text/plain": [
       "[2, 4, 6, 8, 10]"
      ]
     },
     "execution_count": 13,
     "metadata": {},
     "output_type": "execute_result"
    }
   ],
   "source": [
    "list(range(2, 12, 2))"
   ]
  },
  {
   "cell_type": "code",
   "execution_count": 14,
   "metadata": {
    "collapsed": false
   },
   "outputs": [
    {
     "data": {
      "text/plain": [
       "[2, 3, 4, 5, 6, 7, 8, 9, 10, 11]"
      ]
     },
     "execution_count": 14,
     "metadata": {},
     "output_type": "execute_result"
    }
   ],
   "source": [
    "list(range(2, 12))"
   ]
  },
  {
   "cell_type": "code",
   "execution_count": 15,
   "metadata": {
    "collapsed": false
   },
   "outputs": [
    {
     "name": "stdout",
     "output_type": "stream",
     "text": [
      "0\n",
      "2\n",
      "4\n",
      "6\n"
     ]
    }
   ],
   "source": [
    "for number in range(0, 7, 2):\n",
    "    print(number)"
   ]
  },
  {
   "cell_type": "code",
   "execution_count": 16,
   "metadata": {
    "collapsed": false
   },
   "outputs": [
    {
     "name": "stdout",
     "output_type": "stream",
     "text": [
      "h\n",
      "l\n",
      "u\n"
     ]
    }
   ],
   "source": [
    "for number in range(0, 5, 2):\n",
    "    print(\"helium\"[number])"
   ]
  },
  {
   "cell_type": "code",
   "execution_count": 17,
   "metadata": {
    "collapsed": false
   },
   "outputs": [
    {
     "name": "stdout",
     "output_type": "stream",
     "text": [
      "h\n",
      "e\n",
      "l\n",
      "i\n",
      "u\n",
      "m\n"
     ]
    }
   ],
   "source": [
    "my_string = \"helium\"\n",
    "for number in range(0, 6):\n",
    "    print(my_string[number])"
   ]
  },
  {
   "cell_type": "code",
   "execution_count": 22,
   "metadata": {
    "collapsed": false
   },
   "outputs": [
    {
     "name": "stdout",
     "output_type": "stream",
     "text": [
      "1 1\n",
      "1 2\n",
      "2 3\n",
      "6 4\n",
      "24 5\n",
      "120\n"
     ]
    }
   ],
   "source": [
    "current_number = 1\n",
    "#Loop over numbers from 1 to 5\n",
    "for number in range(1, 6):\n",
    "    print(current_number, number)\n",
    "    current_number = current_number * number\n",
    "#Inside that loop, multiply loop variable by the current_number\n",
    "print(current_number)"
   ]
  },
  {
   "cell_type": "code",
   "execution_count": 18,
   "metadata": {
    "collapsed": false
   },
   "outputs": [
    {
     "data": {
      "text/plain": [
       "30"
      ]
     },
     "execution_count": 18,
     "metadata": {},
     "output_type": "execute_result"
    }
   ],
   "source": [
    "#Multiplication\n",
    "5 * 6"
   ]
  },
  {
   "cell_type": "code",
   "execution_count": 26,
   "metadata": {
    "collapsed": false
   },
   "outputs": [
    {
     "name": "stdout",
     "output_type": "stream",
     "text": [
      " h\n",
      "H\n",
      "H e\n",
      "HE\n",
      "HE l\n",
      "HEL\n",
      "HEL i\n",
      "HELI\n",
      "HELI u\n",
      "HELIU\n",
      "HELIU m\n",
      "HELIUM\n"
     ]
    }
   ],
   "source": [
    "upper_string = \"\"\n",
    "for letter in \"helium\":\n",
    "    print(upper_string, letter)\n",
    "    upper_string = upper_string + letter.upper()\n",
    "    print(upper_string)"
   ]
  },
  {
   "cell_type": "code",
   "execution_count": 27,
   "metadata": {
    "collapsed": false
   },
   "outputs": [
    {
     "name": "stdout",
     "output_type": "stream",
     "text": [
      "Variable         Type     Data/Info\n",
      "-----------------------------------\n",
      "blah             str      e\n",
      "current_number   int      120\n",
      "item             float    2.3\n",
      "letter           str      m\n",
      "letter_list      list     n=17\n",
      "my_list          list     n=3\n",
      "my_string        str      helium\n",
      "number           int      5\n",
      "upper_string     str      HELIUM\n"
     ]
    }
   ],
   "source": [
    "%whos"
   ]
  },
  {
   "cell_type": "code",
   "execution_count": 28,
   "metadata": {
    "collapsed": false
   },
   "outputs": [
    {
     "data": {
      "text/plain": [
       "True"
      ]
     },
     "execution_count": 28,
     "metadata": {},
     "output_type": "execute_result"
    }
   ],
   "source": [
    "5 == 5"
   ]
  },
  {
   "cell_type": "code",
   "execution_count": 29,
   "metadata": {
    "collapsed": false
   },
   "outputs": [
    {
     "data": {
      "text/plain": [
       "False"
      ]
     },
     "execution_count": 29,
     "metadata": {},
     "output_type": "execute_result"
    }
   ],
   "source": [
    "5 == 6"
   ]
  },
  {
   "cell_type": "code",
   "execution_count": 30,
   "metadata": {
    "collapsed": false
   },
   "outputs": [
    {
     "data": {
      "text/plain": [
       "False"
      ]
     },
     "execution_count": 30,
     "metadata": {},
     "output_type": "execute_result"
    }
   ],
   "source": [
    "5 != 5"
   ]
  },
  {
   "cell_type": "code",
   "execution_count": 31,
   "metadata": {
    "collapsed": false
   },
   "outputs": [
    {
     "data": {
      "text/plain": [
       "True"
      ]
     },
     "execution_count": 31,
     "metadata": {},
     "output_type": "execute_result"
    }
   ],
   "source": [
    "5 != 6 "
   ]
  },
  {
   "cell_type": "code",
   "execution_count": 32,
   "metadata": {
    "collapsed": false
   },
   "outputs": [
    {
     "data": {
      "text/plain": [
       "True"
      ]
     },
     "execution_count": 32,
     "metadata": {},
     "output_type": "execute_result"
    }
   ],
   "source": [
    "4 > 0"
   ]
  },
  {
   "cell_type": "code",
   "execution_count": 33,
   "metadata": {
    "collapsed": false
   },
   "outputs": [
    {
     "data": {
      "text/plain": [
       "False"
      ]
     },
     "execution_count": 33,
     "metadata": {},
     "output_type": "execute_result"
    }
   ],
   "source": [
    "4 < 0 "
   ]
  },
  {
   "cell_type": "code",
   "execution_count": 34,
   "metadata": {
    "collapsed": false
   },
   "outputs": [
    {
     "data": {
      "text/plain": [
       "True"
      ]
     },
     "execution_count": 34,
     "metadata": {},
     "output_type": "execute_result"
    }
   ],
   "source": [
    "4 >= 4"
   ]
  },
  {
   "cell_type": "code",
   "execution_count": 35,
   "metadata": {
    "collapsed": false
   },
   "outputs": [
    {
     "data": {
      "text/plain": [
       "False"
      ]
     },
     "execution_count": 35,
     "metadata": {},
     "output_type": "execute_result"
    }
   ],
   "source": [
    "4 > 4"
   ]
  },
  {
   "cell_type": "code",
   "execution_count": 43,
   "metadata": {
    "collapsed": false
   },
   "outputs": [
    {
     "name": "stdout",
     "output_type": "stream",
     "text": [
      "negative 1\n",
      "something else\n"
     ]
    }
   ],
   "source": [
    "number = -1\n",
    "if number > 0:\n",
    "    print(\"positive\")\n",
    "elif number == -1:\n",
    "    print (\"negative 1\")\n",
    "elif number < 0:\n",
    "    print(\"it's negative\")\n",
    "else:\n",
    "    print(\"it's 0\")\n",
    "print(\"something else\")"
   ]
  },
  {
   "cell_type": "code",
   "execution_count": 44,
   "metadata": {
    "collapsed": false
   },
   "outputs": [
    {
     "data": {
      "text/plain": [
       "True"
      ]
     },
     "execution_count": 44,
     "metadata": {},
     "output_type": "execute_result"
    }
   ],
   "source": [
    "\"a\" in \"that\""
   ]
  },
  {
   "cell_type": "code",
   "execution_count": 45,
   "metadata": {
    "collapsed": false
   },
   "outputs": [
    {
     "data": {
      "text/plain": [
       "False"
      ]
     },
     "execution_count": 45,
     "metadata": {},
     "output_type": "execute_result"
    }
   ],
   "source": [
    "\"b\" in \"that\""
   ]
  },
  {
   "cell_type": "code",
   "execution_count": 46,
   "metadata": {
    "collapsed": false
   },
   "outputs": [
    {
     "data": {
      "text/plain": [
       "True"
      ]
     },
     "execution_count": 46,
     "metadata": {},
     "output_type": "execute_result"
    }
   ],
   "source": [
    "\"that\".startswith(\"tha\")"
   ]
  },
  {
   "cell_type": "code",
   "execution_count": 3,
   "metadata": {
    "collapsed": false
   },
   "outputs": [
    {
     "name": "stdout",
     "output_type": "stream",
     "text": [
      "6\n"
     ]
    }
   ],
   "source": [
    "vowels = \"aeiou\"\n",
    "#Write a loop that counts the number of vowels in \"helium\"\n",
    "count = 0\n",
    "for letter in \"squeegeee\":\n",
    "    if letter in vowels:\n",
    "        count += 1\n",
    "        \n",
    "print(count)"
   ]
  },
  {
   "cell_type": "code",
   "execution_count": 4,
   "metadata": {
    "collapsed": false
   },
   "outputs": [
    {
     "data": {
      "text/plain": [
       "6"
      ]
     },
     "execution_count": 4,
     "metadata": {},
     "output_type": "execute_result"
    }
   ],
   "source": [
    "len(\"helium\")"
   ]
  },
  {
   "cell_type": "code",
   "execution_count": 5,
   "metadata": {
    "collapsed": false
   },
   "outputs": [
    {
     "data": {
      "text/plain": [
       "5"
      ]
     },
     "execution_count": 5,
     "metadata": {},
     "output_type": "execute_result"
    }
   ],
   "source": [
    "len(vowels)"
   ]
  },
  {
   "cell_type": "code",
   "execution_count": null,
   "metadata": {
    "collapsed": true
   },
   "outputs": [],
   "source": []
  },
  {
   "cell_type": "code",
   "execution_count": 7,
   "metadata": {
    "collapsed": false
   },
   "outputs": [
    {
     "name": "stdout",
     "output_type": "stream",
     "text": [
      "3\n"
     ]
    }
   ],
   "source": [
    "count = 0\n",
    "for i in range(0, len(\"helium\")):\n",
    "    if \"helium\"[i] in vowels:\n",
    "        count = count + 1\n",
    "print(count)"
   ]
  },
  {
   "cell_type": "code",
   "execution_count": 14,
   "metadata": {
    "collapsed": true
   },
   "outputs": [],
   "source": [
    "def count_vowels(word):\n",
    "    \"\"\"\n",
    "    This function counts the number of vowels in a word.\n",
    "    Input: a string containing a word to count vowels in\n",
    "    Output: an integer representing the number of vowels in the word\n",
    "    \"\"\"\n",
    "    count = 0\n",
    "    vowels = \"aeiou\"\n",
    "    for letter in word:\n",
    "        if letter in vowels:\n",
    "            count += 1\n",
    "    return count\n",
    "    "
   ]
  },
  {
   "cell_type": "code",
   "execution_count": null,
   "metadata": {
    "collapsed": true
   },
   "outputs": [],
   "source": []
  },
  {
   "cell_type": "code",
   "execution_count": 9,
   "metadata": {
    "collapsed": false
   },
   "outputs": [
    {
     "data": {
      "text/plain": [
       "3"
      ]
     },
     "execution_count": 9,
     "metadata": {},
     "output_type": "execute_result"
    }
   ],
   "source": [
    "count_vowels(\"helium\")"
   ]
  },
  {
   "cell_type": "code",
   "execution_count": 12,
   "metadata": {
    "collapsed": true
   },
   "outputs": [],
   "source": [
    "n_vowels = count_vowels(\"squeegee\")"
   ]
  },
  {
   "cell_type": "code",
   "execution_count": null,
   "metadata": {
    "collapsed": true
   },
   "outputs": [],
   "source": []
  },
  {
   "cell_type": "code",
   "execution_count": 13,
   "metadata": {
    "collapsed": false
   },
   "outputs": [
    {
     "data": {
      "text/plain": [
       "5"
      ]
     },
     "execution_count": 13,
     "metadata": {},
     "output_type": "execute_result"
    }
   ],
   "source": [
    "n_vowels"
   ]
  },
  {
   "cell_type": "code",
   "execution_count": 15,
   "metadata": {
    "collapsed": false
   },
   "outputs": [
    {
     "name": "stdout",
     "output_type": "stream",
     "text": [
      "Help on built-in function len in module builtins:\n",
      "\n",
      "len(...)\n",
      "    len(object)\n",
      "    \n",
      "    Return the number of items of a sequence or collection.\n",
      "\n"
     ]
    }
   ],
   "source": [
    "help(len)"
   ]
  },
  {
   "cell_type": "code",
   "execution_count": 16,
   "metadata": {
    "collapsed": false
   },
   "outputs": [
    {
     "name": "stdout",
     "output_type": "stream",
     "text": [
      "Help on function count_vowels in module __main__:\n",
      "\n",
      "count_vowels(word)\n",
      "    This function counts the number of vowels in a word.\n",
      "    Input: a string containing a word to count vowels in\n",
      "    Output: an integer representing the number of vowels in the word\n",
      "\n"
     ]
    }
   ],
   "source": [
    "help(count_vowels)"
   ]
  },
  {
   "cell_type": "code",
   "execution_count": 17,
   "metadata": {
    "collapsed": false
   },
   "outputs": [
    {
     "name": "stdout",
     "output_type": "stream",
     "text": [
      "Variable       Type        Data/Info\n",
      "------------------------------------\n",
      "count          int         3\n",
      "count_vowels   function    <function count_vowels at 0x7f413c3a9f28>\n",
      "i              int         5\n",
      "letter         str         e\n",
      "n_nowels       int         5\n",
      "n_vowels       int         5\n",
      "vowels         str         aeiou\n"
     ]
    }
   ],
   "source": [
    "%whos"
   ]
  },
  {
   "cell_type": "code",
   "execution_count": 19,
   "metadata": {
    "collapsed": false
   },
   "outputs": [
    {
     "name": "stdout",
     "output_type": "stream",
     "text": [
      "{'_9': 3, 'vowels': 'aeiou', '__builtins__': <module 'builtins' (built-in)>, '__package__': None, '_i12': 'n_vowels = count_vowels(\"squeegee\")', '_i16': 'help(count_vowels)', 'quit': <IPython.core.autocall.ZMQExitAutocall object at 0x7f413dcadb70>, '_i8': 'def count_vowels(word):\\n    count = 0\\n    vowels = \"aeiou\"\\n    for letter in word:\\n        if letter in vowels:\\n            count += 1\\n    return count\\n    ', '_i10': 'n_nowels = count_vowels(\"squeegee\")', '_i19': 'print(locals())', '_4': 6, 'In': ['', 'vowels = \"aeiou\"\\n#Write a loop that counts the number of vowels in \"helium\"\\ncount = 0\\nfor letter in \"helium\":\\n    if letter in vowels:\\n        count = count + 1\\n        \\nprint(count)', 'vowels = \"aeiou\"\\n#Write a loop that counts the number of vowels in \"helium\"\\ncount = 0\\nfor letter in \"helium\":\\n    if letter in vowels:\\n        count += 1\\n        \\nprint(count)', 'vowels = \"aeiou\"\\n#Write a loop that counts the number of vowels in \"helium\"\\ncount = 0\\nfor letter in \"squeegeee\":\\n    if letter in vowels:\\n        count += 1\\n        \\nprint(count)', 'len(\"helium\")', 'len(vowels)', 'count = 0\\nfor i in range(0, len(\"helium\")):\\n    if helium[i] in vowels:\\n        count += 1\\nprint(count)', 'count = 0\\nfor i in range(0, len(\"helium\")):\\n    if \"helium\"[i] in vowels:\\n        count += 1\\nprint(count)', 'def count_vowels(word):\\n    count = 0\\n    vowels = \"aeiou\"\\n    for letter in word:\\n        if letter in vowels:\\n            count += 1\\n    return count\\n    ', 'count_vowels(\"helium\")', 'n_nowels = count_vowels(\"squeegee\")', 'n_vowels', 'n_vowels = count_vowels(\"squeegee\")', 'n_vowels', 'def count_vowels(word):\\n    \"\"\"\\n    This function counts the number of vowels in a word.\\n    Input: a string containing a word to count vowels in\\n    Output: an integer representing the number of vowels in the word\\n    \"\"\"\\n    count = 0\\n    vowels = \"aeiou\"\\n    for letter in word:\\n        if letter in vowels:\\n            count += 1\\n    return count\\n    ', 'help(len)', 'help(count_vowels)', \"get_ipython().magic('whos')\", 'locals()', 'print(locals())'], '_i15': 'help(len)', '_18': {...}, '_i11': 'n_vowels', 'Out': {9: 3, 18: {...}, 4: 6, 5: 5, 13: 5}, '__builtin__': <module 'builtins' (built-in)>, '_i3': 'vowels = \"aeiou\"\\n#Write a loop that counts the number of vowels in \"helium\"\\ncount = 0\\nfor letter in \"squeegeee\":\\n    if letter in vowels:\\n        count += 1\\n        \\nprint(count)', '_ih': ['', 'vowels = \"aeiou\"\\n#Write a loop that counts the number of vowels in \"helium\"\\ncount = 0\\nfor letter in \"helium\":\\n    if letter in vowels:\\n        count = count + 1\\n        \\nprint(count)', 'vowels = \"aeiou\"\\n#Write a loop that counts the number of vowels in \"helium\"\\ncount = 0\\nfor letter in \"helium\":\\n    if letter in vowels:\\n        count += 1\\n        \\nprint(count)', 'vowels = \"aeiou\"\\n#Write a loop that counts the number of vowels in \"helium\"\\ncount = 0\\nfor letter in \"squeegeee\":\\n    if letter in vowels:\\n        count += 1\\n        \\nprint(count)', 'len(\"helium\")', 'len(vowels)', 'count = 0\\nfor i in range(0, len(\"helium\")):\\n    if helium[i] in vowels:\\n        count += 1\\nprint(count)', 'count = 0\\nfor i in range(0, len(\"helium\")):\\n    if \"helium\"[i] in vowels:\\n        count += 1\\nprint(count)', 'def count_vowels(word):\\n    count = 0\\n    vowels = \"aeiou\"\\n    for letter in word:\\n        if letter in vowels:\\n            count += 1\\n    return count\\n    ', 'count_vowels(\"helium\")', 'n_nowels = count_vowels(\"squeegee\")', 'n_vowels', 'n_vowels = count_vowels(\"squeegee\")', 'n_vowels', 'def count_vowels(word):\\n    \"\"\"\\n    This function counts the number of vowels in a word.\\n    Input: a string containing a word to count vowels in\\n    Output: an integer representing the number of vowels in the word\\n    \"\"\"\\n    count = 0\\n    vowels = \"aeiou\"\\n    for letter in word:\\n        if letter in vowels:\\n            count += 1\\n    return count\\n    ', 'help(len)', 'help(count_vowels)', \"get_ipython().magic('whos')\", 'locals()', 'print(locals())'], '_i14': 'def count_vowels(word):\\n    \"\"\"\\n    This function counts the number of vowels in a word.\\n    Input: a string containing a word to count vowels in\\n    Output: an integer representing the number of vowels in the word\\n    \"\"\"\\n    count = 0\\n    vowels = \"aeiou\"\\n    for letter in word:\\n        if letter in vowels:\\n            count += 1\\n    return count\\n    ', 'exit': <IPython.core.autocall.ZMQExitAutocall object at 0x7f413dcadb70>, 'count_vowels': <function count_vowels at 0x7f413c3a9f28>, '_i9': 'count_vowels(\"helium\")', 'get_ipython': <bound method ZMQInteractiveShell.get_ipython of <ipykernel.zmqshell.ZMQInteractiveShell object at 0x7f413dce9a90>>, '_iii': 'help(count_vowels)', '_sh': <module 'IPython.core.shadowns' from '/home/emily/anaconda3/lib/python3.4/site-packages/IPython/core/shadowns.py'>, '_i6': 'count = 0\\nfor i in range(0, len(\"helium\")):\\n    if helium[i] in vowels:\\n        count += 1\\nprint(count)', '_i': 'locals()', '__': 5, '__doc__': 'Automatically created module for IPython interactive environment', '_i2': 'vowels = \"aeiou\"\\n#Write a loop that counts the number of vowels in \"helium\"\\ncount = 0\\nfor letter in \"helium\":\\n    if letter in vowels:\\n        count += 1\\n        \\nprint(count)', 'i': 5, '__loader__': None, '_ii': '%whos', '_': {...}, '___': 3, '_oh': {9: 3, 18: {...}, 4: 6, 5: 5, 13: 5}, 'letter': 'e', '_i4': 'len(\"helium\")', '_i1': 'vowels = \"aeiou\"\\n#Write a loop that counts the number of vowels in \"helium\"\\ncount = 0\\nfor letter in \"helium\":\\n    if letter in vowels:\\n        count = count + 1\\n        \\nprint(count)', '_13': 5, 'n_vowels': 5, 'count': 3, '__name__': '__main__', '_i13': 'n_vowels', '_i17': '%whos', '_i7': 'count = 0\\nfor i in range(0, len(\"helium\")):\\n    if \"helium\"[i] in vowels:\\n        count += 1\\nprint(count)', '_5': 5, '_i5': 'len(vowels)', '_dh': ['/home/emily'], '_i18': 'locals()', '__spec__': None, 'n_nowels': 5}\n"
     ]
    }
   ],
   "source": [
    "print(locals())"
   ]
  },
  {
   "cell_type": "code",
   "execution_count": 20,
   "metadata": {
    "collapsed": true
   },
   "outputs": [],
   "source": [
    "def biome_to_indicator(biome):\n",
    "    \"\"\"\n",
    "    This function takes a biome and returns an indicator variable version\n",
    "    Input: a string containing the name of a biome\n",
    "    Ouput: an integer corresponding to that biome\n",
    "    \"\"\"\n",
    "    \n",
    "    if biome == \"forest\":\n",
    "        return 0\n",
    "    elif biome == \"desert\":\n",
    "        return 1\n",
    "    elif biome == \"taiga\":\n",
    "        return 2\n",
    "    elif biome == \"ocean\":\n",
    "        return 3\n",
    "    else:\n",
    "        return -1"
   ]
  },
  {
   "cell_type": "code",
   "execution_count": 21,
   "metadata": {
    "collapsed": false
   },
   "outputs": [
    {
     "data": {
      "text/plain": [
       "0"
      ]
     },
     "execution_count": 21,
     "metadata": {},
     "output_type": "execute_result"
    }
   ],
   "source": [
    "biome_to_indicator(\"forest\")"
   ]
  },
  {
   "cell_type": "code",
   "execution_count": 22,
   "metadata": {
    "collapsed": false
   },
   "outputs": [
    {
     "data": {
      "text/plain": [
       "1"
      ]
     },
     "execution_count": 22,
     "metadata": {},
     "output_type": "execute_result"
    }
   ],
   "source": [
    "biome_to_indicator(\"desert\")"
   ]
  },
  {
   "cell_type": "code",
   "execution_count": 23,
   "metadata": {
    "collapsed": false
   },
   "outputs": [
    {
     "data": {
      "text/plain": [
       "-1"
      ]
     },
     "execution_count": 23,
     "metadata": {},
     "output_type": "execute_result"
    }
   ],
   "source": [
    "biome_to_indicator(\"savanah\")"
   ]
  },
  {
   "cell_type": "code",
   "execution_count": 27,
   "metadata": {
    "collapsed": false
   },
   "outputs": [
    {
     "name": "stdout",
     "output_type": "stream",
     "text": [
      "true\n"
     ]
    }
   ],
   "source": [
    "if 8 > 6 or -5 < 0:\n",
    "    print(\"true\")"
   ]
  },
  {
   "cell_type": "code",
   "execution_count": 28,
   "metadata": {
    "collapsed": false
   },
   "outputs": [
    {
     "data": {
      "text/plain": [
       "True"
      ]
     },
     "execution_count": 28,
     "metadata": {},
     "output_type": "execute_result"
    }
   ],
   "source": [
    "8 > 6 or -5 < 0"
   ]
  },
  {
   "cell_type": "code",
   "execution_count": 29,
   "metadata": {
    "collapsed": false
   },
   "outputs": [
    {
     "data": {
      "text/plain": [
       "True"
      ]
     },
     "execution_count": 29,
     "metadata": {},
     "output_type": "execute_result"
    }
   ],
   "source": [
    "4 == 4 and 7 > 1"
   ]
  },
  {
   "cell_type": "code",
   "execution_count": 30,
   "metadata": {
    "collapsed": false
   },
   "outputs": [
    {
     "data": {
      "text/plain": [
       "False"
      ]
     },
     "execution_count": 30,
     "metadata": {},
     "output_type": "execute_result"
    }
   ],
   "source": [
    "4 == 5 and 7 > 1"
   ]
  },
  {
   "cell_type": "code",
   "execution_count": 31,
   "metadata": {
    "collapsed": false
   },
   "outputs": [
    {
     "data": {
      "text/plain": [
       "False"
      ]
     },
     "execution_count": 31,
     "metadata": {},
     "output_type": "execute_result"
    }
   ],
   "source": [
    "not 4 == 4"
   ]
  },
  {
   "cell_type": "code",
   "execution_count": 33,
   "metadata": {
    "collapsed": false
   },
   "outputs": [
    {
     "data": {
      "text/plain": [
       "False"
      ]
     },
     "execution_count": 33,
     "metadata": {},
     "output_type": "execute_result"
    }
   ],
   "source": [
    "not \"a\" in \"aeiou\""
   ]
  },
  {
   "cell_type": "code",
   "execution_count": 42,
   "metadata": {
    "collapsed": true
   },
   "outputs": [],
   "source": [
    "def biome_to_indicator(biome):\n",
    "    \"\"\"\n",
    "    This function takes a biome and returns an indicator variable version\n",
    "    Input: a string containing the name of a biome\n",
    "    Ouput: an integer corresponding to that biome\n",
    "    \"\"\"\n",
    "    \n",
    "    biome = biome.lower()\n",
    "    \n",
    "    if biome == \"forest\":\n",
    "        return 0\n",
    "    elif biome == \"desert\":\n",
    "        return 1\n",
    "    elif biome == \"taiga\":\n",
    "        return 2\n",
    "    elif biome == \"ocean\":\n",
    "        return 3\n",
    "    else:\n",
    "        return -1"
   ]
  },
  {
   "cell_type": "code",
   "execution_count": 43,
   "metadata": {
    "collapsed": false
   },
   "outputs": [
    {
     "data": {
      "text/plain": [
       "3"
      ]
     },
     "execution_count": 43,
     "metadata": {},
     "output_type": "execute_result"
    }
   ],
   "source": [
    "biome_to_indicator(\"OceaN\")"
   ]
  },
  {
   "cell_type": "code",
   "execution_count": null,
   "metadata": {
    "collapsed": true
   },
   "outputs": [],
   "source": []
  },
  {
   "cell_type": "code",
   "execution_count": null,
   "metadata": {
    "collapsed": true
   },
   "outputs": [],
   "source": []
  },
  {
   "cell_type": "code",
   "execution_count": 34,
   "metadata": {
    "collapsed": false
   },
   "outputs": [
    {
     "data": {
      "text/plain": [
       "True"
      ]
     },
     "execution_count": 34,
     "metadata": {},
     "output_type": "execute_result"
    }
   ],
   "source": [
    "bool(\"Forest\")"
   ]
  },
  {
   "cell_type": "code",
   "execution_count": 35,
   "metadata": {
    "collapsed": false
   },
   "outputs": [
    {
     "data": {
      "text/plain": [
       "False"
      ]
     },
     "execution_count": 35,
     "metadata": {},
     "output_type": "execute_result"
    }
   ],
   "source": [
    "bool(\"\")"
   ]
  },
  {
   "cell_type": "code",
   "execution_count": 36,
   "metadata": {
    "collapsed": false
   },
   "outputs": [
    {
     "data": {
      "text/plain": [
       "True"
      ]
     },
     "execution_count": 36,
     "metadata": {},
     "output_type": "execute_result"
    }
   ],
   "source": [
    "bool(422)"
   ]
  },
  {
   "cell_type": "code",
   "execution_count": 37,
   "metadata": {
    "collapsed": false
   },
   "outputs": [
    {
     "data": {
      "text/plain": [
       "False"
      ]
     },
     "execution_count": 37,
     "metadata": {},
     "output_type": "execute_result"
    }
   ],
   "source": [
    "bool(0)"
   ]
  },
  {
   "cell_type": "code",
   "execution_count": 38,
   "metadata": {
    "collapsed": false
   },
   "outputs": [
    {
     "data": {
      "text/plain": [
       "5"
      ]
     },
     "execution_count": 38,
     "metadata": {},
     "output_type": "execute_result"
    }
   ],
   "source": [
    "int(\"5\")"
   ]
  },
  {
   "cell_type": "code",
   "execution_count": 40,
   "metadata": {
    "collapsed": false
   },
   "outputs": [
    {
     "data": {
      "text/plain": [
       "0"
      ]
     },
     "execution_count": 40,
     "metadata": {},
     "output_type": "execute_result"
    }
   ],
   "source": [
    "biome_to_indicator(\"Forest\")"
   ]
  },
  {
   "cell_type": "code",
   "execution_count": 41,
   "metadata": {
    "collapsed": false
   },
   "outputs": [
    {
     "data": {
      "text/plain": [
       "-1"
      ]
     },
     "execution_count": 41,
     "metadata": {},
     "output_type": "execute_result"
    }
   ],
   "source": [
    "biome_to_indicator(\"Ocean\")"
   ]
  },
  {
   "cell_type": "code",
   "execution_count": 44,
   "metadata": {
    "collapsed": true
   },
   "outputs": [],
   "source": [
    "def biome_to_indicator_na(biome):\n",
    "    \"\"\"\n",
    "    This function takes a biome and returns an indicator variable version\n",
    "    Input: a string containing the name of a biome\n",
    "    Ouput: an integer corresponding to that biome\n",
    "    \"\"\"\n",
    "    \n",
    "    biome = biome.lower()\n",
    "    \n",
    "    if biome == \"forest\":\n",
    "        return 0\n",
    "    elif biome == \"desert\":\n",
    "        return 1\n",
    "    elif biome == \"taiga\":\n",
    "        return 2\n",
    "    elif biome == \"ocean\":\n",
    "        return 3\n",
    "    else:\n",
    "        return \"NA\""
   ]
  },
  {
   "cell_type": "code",
   "execution_count": 45,
   "metadata": {
    "collapsed": false
   },
   "outputs": [
    {
     "data": {
      "text/plain": [
       "'NA'"
      ]
     },
     "execution_count": 45,
     "metadata": {},
     "output_type": "execute_result"
    }
   ],
   "source": [
    "biome_to_indicator_na(\"high desert\")"
   ]
  },
  {
   "cell_type": "code",
   "execution_count": 49,
   "metadata": {
    "collapsed": false
   },
   "outputs": [
    {
     "data": {
      "text/plain": [
       "5"
      ]
     },
     "execution_count": 49,
     "metadata": {},
     "output_type": "execute_result"
    }
   ],
   "source": [
    "sum([2,3])"
   ]
  },
  {
   "cell_type": "code",
   "execution_count": 51,
   "metadata": {
    "collapsed": false
   },
   "outputs": [
    {
     "ename": "TypeError",
     "evalue": "unsupported operand type(s) for +: 'int' and 'str'",
     "output_type": "error",
     "traceback": [
      "\u001b[0;31m---------------------------------------------------------------------------\u001b[0m",
      "\u001b[0;31mTypeError\u001b[0m                                 Traceback (most recent call last)",
      "\u001b[0;32m<ipython-input-51-9251e7e32b0d>\u001b[0m in \u001b[0;36m<module>\u001b[0;34m()\u001b[0m\n\u001b[0;32m----> 1\u001b[0;31m \u001b[0msum\u001b[0m\u001b[0;34m(\u001b[0m\u001b[0;34m[\u001b[0m\u001b[0mbiome_to_indicator_na\u001b[0m\u001b[0;34m(\u001b[0m\u001b[0;34m\"forest\"\u001b[0m\u001b[0;34m)\u001b[0m\u001b[0;34m,\u001b[0m \u001b[0mbiome_to_indicator_na\u001b[0m\u001b[0;34m(\u001b[0m\u001b[0;34m\"boreal forest\"\u001b[0m\u001b[0;34m)\u001b[0m\u001b[0;34m]\u001b[0m\u001b[0;34m)\u001b[0m\u001b[0;34m\u001b[0m\u001b[0m\n\u001b[0m",
      "\u001b[0;31mTypeError\u001b[0m: unsupported operand type(s) for +: 'int' and 'str'"
     ]
    }
   ],
   "source": [
    "sum([biome_to_indicator_na(\"forest\"), biome_to_indicator_na(\"boreal forest\")])"
   ]
  },
  {
   "cell_type": "code",
   "execution_count": 52,
   "metadata": {
    "collapsed": false
   },
   "outputs": [
    {
     "data": {
      "text/plain": [
       "-1"
      ]
     },
     "execution_count": 52,
     "metadata": {},
     "output_type": "execute_result"
    }
   ],
   "source": [
    "sum([biome_to_indicator(\"forest\"), biome_to_indicator(\"boreal forest\")])"
   ]
  },
  {
   "cell_type": "code",
   "execution_count": 53,
   "metadata": {
    "collapsed": true
   },
   "outputs": [],
   "source": [
    "def outer(input_string):\n",
    "    \"\"\"\n",
    "    This function takes an input string and returns a string\n",
    "    containing the first and last letter\n",
    "    \"\"\"\n",
    "    return input_string[0] + input_string[-1]"
   ]
  },
  {
   "cell_type": "code",
   "execution_count": 54,
   "metadata": {
    "collapsed": false
   },
   "outputs": [
    {
     "data": {
      "text/plain": [
       "'te'"
      ]
     },
     "execution_count": 54,
     "metadata": {},
     "output_type": "execute_result"
    }
   ],
   "source": [
    "outer(\"tree\")"
   ]
  },
  {
   "cell_type": "code",
   "execution_count": 55,
   "metadata": {
    "collapsed": true
   },
   "outputs": [],
   "source": [
    "my_list = [6, 2.3, \"tree\", \"pony\"]"
   ]
  },
  {
   "cell_type": "code",
   "execution_count": 56,
   "metadata": {
    "collapsed": false
   },
   "outputs": [
    {
     "data": {
      "text/plain": [
       "6"
      ]
     },
     "execution_count": 56,
     "metadata": {},
     "output_type": "execute_result"
    }
   ],
   "source": [
    "my_list[0]"
   ]
  },
  {
   "cell_type": "code",
   "execution_count": 57,
   "metadata": {
    "collapsed": false
   },
   "outputs": [
    {
     "data": {
      "text/plain": [
       "'pony'"
      ]
     },
     "execution_count": 57,
     "metadata": {},
     "output_type": "execute_result"
    }
   ],
   "source": [
    "my_list[3]"
   ]
  },
  {
   "cell_type": "code",
   "execution_count": 58,
   "metadata": {
    "collapsed": false
   },
   "outputs": [
    {
     "data": {
      "text/plain": [
       "[6, 2.3]"
      ]
     },
     "execution_count": 58,
     "metadata": {},
     "output_type": "execute_result"
    }
   ],
   "source": [
    "my_list[0:2]"
   ]
  },
  {
   "cell_type": "code",
   "execution_count": 59,
   "metadata": {
    "collapsed": false
   },
   "outputs": [
    {
     "name": "stdout",
     "output_type": "stream",
     "text": [
      "6\n",
      "2.3\n",
      "tree\n",
      "pony\n"
     ]
    }
   ],
   "source": [
    "for item in my_list:\n",
    "    print(item)"
   ]
  },
  {
   "cell_type": "code",
   "execution_count": 60,
   "metadata": {
    "collapsed": true
   },
   "outputs": [],
   "source": [
    "my_string = \"sea otter\""
   ]
  },
  {
   "cell_type": "code",
   "execution_count": 61,
   "metadata": {
    "collapsed": false
   },
   "outputs": [
    {
     "data": {
      "text/plain": [
       "'a'"
      ]
     },
     "execution_count": 61,
     "metadata": {},
     "output_type": "execute_result"
    }
   ],
   "source": [
    "my_string[2]"
   ]
  },
  {
   "cell_type": "code",
   "execution_count": 62,
   "metadata": {
    "collapsed": false
   },
   "outputs": [
    {
     "ename": "TypeError",
     "evalue": "'str' object does not support item assignment",
     "output_type": "error",
     "traceback": [
      "\u001b[0;31m---------------------------------------------------------------------------\u001b[0m",
      "\u001b[0;31mTypeError\u001b[0m                                 Traceback (most recent call last)",
      "\u001b[0;32m<ipython-input-62-808fb1cfdf7a>\u001b[0m in \u001b[0;36m<module>\u001b[0;34m()\u001b[0m\n\u001b[0;32m----> 1\u001b[0;31m \u001b[0mmy_string\u001b[0m\u001b[0;34m[\u001b[0m\u001b[0;36m2\u001b[0m\u001b[0;34m]\u001b[0m \u001b[0;34m=\u001b[0m \u001b[0;34m\"g\"\u001b[0m\u001b[0;34m\u001b[0m\u001b[0m\n\u001b[0m",
      "\u001b[0;31mTypeError\u001b[0m: 'str' object does not support item assignment"
     ]
    }
   ],
   "source": [
    "my_string[2] = \"g\""
   ]
  },
  {
   "cell_type": "code",
   "execution_count": 63,
   "metadata": {
    "collapsed": true
   },
   "outputs": [],
   "source": [
    "my_list[3] = \"horse\""
   ]
  },
  {
   "cell_type": "code",
   "execution_count": 64,
   "metadata": {
    "collapsed": false
   },
   "outputs": [
    {
     "name": "stdout",
     "output_type": "stream",
     "text": [
      "[6, 2.3, 'tree', 'horse']\n"
     ]
    }
   ],
   "source": [
    "print(my_list)"
   ]
  },
  {
   "cell_type": "code",
   "execution_count": 65,
   "metadata": {
    "collapsed": true
   },
   "outputs": [],
   "source": [
    "my_list[0] += 1"
   ]
  },
  {
   "cell_type": "code",
   "execution_count": 66,
   "metadata": {
    "collapsed": false
   },
   "outputs": [
    {
     "name": "stdout",
     "output_type": "stream",
     "text": [
      "[7, 2.3, 'tree', 'horse']\n"
     ]
    }
   ],
   "source": [
    "print(my_list)"
   ]
  },
  {
   "cell_type": "code",
   "execution_count": 68,
   "metadata": {
    "collapsed": false
   },
   "outputs": [],
   "source": [
    "my_list.sort()"
   ]
  },
  {
   "cell_type": "code",
   "execution_count": 69,
   "metadata": {
    "collapsed": true
   },
   "outputs": [],
   "source": [
    "number_list = [6, 1, 2, 1, 9, 1]"
   ]
  },
  {
   "cell_type": "code",
   "execution_count": 70,
   "metadata": {
    "collapsed": true
   },
   "outputs": [],
   "source": [
    "number_list.sort()"
   ]
  },
  {
   "cell_type": "code",
   "execution_count": 71,
   "metadata": {
    "collapsed": false
   },
   "outputs": [
    {
     "name": "stdout",
     "output_type": "stream",
     "text": [
      "[1, 1, 1, 2, 6, 9]\n"
     ]
    }
   ],
   "source": [
    "print(number_list)"
   ]
  },
  {
   "cell_type": "code",
   "execution_count": 72,
   "metadata": {
    "collapsed": false
   },
   "outputs": [
    {
     "data": {
      "text/plain": [
       "20"
      ]
     },
     "execution_count": 72,
     "metadata": {},
     "output_type": "execute_result"
    }
   ],
   "source": [
    "sum(number_list)"
   ]
  },
  {
   "cell_type": "code",
   "execution_count": 73,
   "metadata": {
    "collapsed": true
   },
   "outputs": [],
   "source": [
    "number_list.append(15)"
   ]
  },
  {
   "cell_type": "code",
   "execution_count": 74,
   "metadata": {
    "collapsed": false
   },
   "outputs": [
    {
     "name": "stdout",
     "output_type": "stream",
     "text": [
      "[1, 1, 1, 2, 6, 9, 15]\n"
     ]
    }
   ],
   "source": [
    "print(number_list)"
   ]
  },
  {
   "cell_type": "code",
   "execution_count": 76,
   "metadata": {
    "collapsed": false
   },
   "outputs": [
    {
     "ename": "IndexError",
     "evalue": "list index out of range",
     "output_type": "error",
     "traceback": [
      "\u001b[0;31m---------------------------------------------------------------------------\u001b[0m",
      "\u001b[0;31mIndexError\u001b[0m                                Traceback (most recent call last)",
      "\u001b[0;32m<ipython-input-76-a67def8746ba>\u001b[0m in \u001b[0;36m<module>\u001b[0;34m()\u001b[0m\n\u001b[0;32m----> 1\u001b[0;31m \u001b[0mnumber_list\u001b[0m\u001b[0;34m[\u001b[0m\u001b[0;36m8\u001b[0m\u001b[0;34m]\u001b[0m\u001b[0;34m\u001b[0m\u001b[0m\n\u001b[0m",
      "\u001b[0;31mIndexError\u001b[0m: list index out of range"
     ]
    }
   ],
   "source": [
    "number_list[8]"
   ]
  },
  {
   "cell_type": "code",
   "execution_count": 79,
   "metadata": {
    "collapsed": true
   },
   "outputs": [],
   "source": [
    "def sum_list(input_list):\n",
    "    count = 0\n",
    "    for num in input_list:\n",
    "        if not str(num).isnumeric():\n",
    "            print(\"Warning: non-numeric value in list passed to sum_list\")\n",
    "        count += num\n",
    "        \n",
    "    return count"
   ]
  },
  {
   "cell_type": "code",
   "execution_count": 80,
   "metadata": {
    "collapsed": false
   },
   "outputs": [
    {
     "name": "stdout",
     "output_type": "stream",
     "text": [
      "Warning: non-numeric value in list passed to sum_list\n",
      "Warning: non-numeric value in list passed to sum_list\n"
     ]
    },
    {
     "ename": "TypeError",
     "evalue": "unsupported operand type(s) for +=: 'int' and 'str'",
     "output_type": "error",
     "traceback": [
      "\u001b[0;31m---------------------------------------------------------------------------\u001b[0m",
      "\u001b[0;31mTypeError\u001b[0m                                 Traceback (most recent call last)",
      "\u001b[0;32m<ipython-input-80-067c722170d8>\u001b[0m in \u001b[0;36m<module>\u001b[0;34m()\u001b[0m\n\u001b[0;32m----> 1\u001b[0;31m \u001b[0msum_list\u001b[0m\u001b[0;34m(\u001b[0m\u001b[0;34m[\u001b[0m\u001b[0;36m4\u001b[0m\u001b[0;34m,\u001b[0m \u001b[0;36m5\u001b[0m\u001b[0;34m,\u001b[0m \u001b[0;34m\"pony\"\u001b[0m\u001b[0;34m]\u001b[0m\u001b[0;34m)\u001b[0m\u001b[0;34m\u001b[0m\u001b[0m\n\u001b[0m",
      "\u001b[0;32m<ipython-input-79-f526c9c78f67>\u001b[0m in \u001b[0;36msum_list\u001b[0;34m(input_list)\u001b[0m\n\u001b[1;32m      4\u001b[0m         \u001b[0;32mif\u001b[0m \u001b[0mstr\u001b[0m\u001b[0;34m(\u001b[0m\u001b[0mnum\u001b[0m\u001b[0;34m)\u001b[0m\u001b[0;34m.\u001b[0m\u001b[0misnumeric\u001b[0m\u001b[0;34m(\u001b[0m\u001b[0;34m)\u001b[0m\u001b[0;34m:\u001b[0m\u001b[0;34m\u001b[0m\u001b[0m\n\u001b[1;32m      5\u001b[0m             \u001b[0mprint\u001b[0m\u001b[0;34m(\u001b[0m\u001b[0;34m\"Warning: non-numeric value in list passed to sum_list\"\u001b[0m\u001b[0;34m)\u001b[0m\u001b[0;34m\u001b[0m\u001b[0m\n\u001b[0;32m----> 6\u001b[0;31m         \u001b[0mcount\u001b[0m \u001b[0;34m+=\u001b[0m \u001b[0mnum\u001b[0m\u001b[0;34m\u001b[0m\u001b[0m\n\u001b[0m\u001b[1;32m      7\u001b[0m \u001b[0;34m\u001b[0m\u001b[0m\n\u001b[1;32m      8\u001b[0m     \u001b[0;32mreturn\u001b[0m \u001b[0mcount\u001b[0m\u001b[0;34m\u001b[0m\u001b[0m\n",
      "\u001b[0;31mTypeError\u001b[0m: unsupported operand type(s) for +=: 'int' and 'str'"
     ]
    }
   ],
   "source": [
    "sum_list([4, 5, \"pony\"])"
   ]
  },
  {
   "cell_type": "code",
   "execution_count": null,
   "metadata": {
    "collapsed": true
   },
   "outputs": [],
   "source": []
  },
  {
   "cell_type": "code",
   "execution_count": 78,
   "metadata": {
    "collapsed": false
   },
   "outputs": [
    {
     "data": {
      "text/plain": [
       "18"
      ]
     },
     "execution_count": 78,
     "metadata": {},
     "output_type": "execute_result"
    }
   ],
   "source": [
    "sum_list([4,1,6,7])"
   ]
  },
  {
   "cell_type": "code",
   "execution_count": 81,
   "metadata": {
    "collapsed": false
   },
   "outputs": [
    {
     "data": {
      "text/plain": [
       "True"
      ]
     },
     "execution_count": 81,
     "metadata": {},
     "output_type": "execute_result"
    }
   ],
   "source": [
    "\"5233423\".isnumeric()"
   ]
  },
  {
   "cell_type": "code",
   "execution_count": 82,
   "metadata": {
    "collapsed": false
   },
   "outputs": [
    {
     "data": {
      "text/plain": [
       "False"
      ]
     },
     "execution_count": 82,
     "metadata": {},
     "output_type": "execute_result"
    }
   ],
   "source": [
    "\"342sdfs213\".isnumeric()"
   ]
  },
  {
   "cell_type": "code",
   "execution_count": 86,
   "metadata": {
    "collapsed": true
   },
   "outputs": [],
   "source": [
    "def sum_list(input_list):\n",
    "    count = 0\n",
    "    for num in input_list:\n",
    "        if not str(num).isnumeric():\n",
    "            print(\"Warning: non-numeric value in list passed to sum_list\")\n",
    "            return \"ERROR\"\n",
    "        count += num\n",
    "        \n",
    "    return count"
   ]
  },
  {
   "cell_type": "code",
   "execution_count": null,
   "metadata": {
    "collapsed": true
   },
   "outputs": [],
   "source": []
  },
  {
   "cell_type": "code",
   "execution_count": 87,
   "metadata": {
    "collapsed": false
   },
   "outputs": [
    {
     "name": "stdout",
     "output_type": "stream",
     "text": [
      "Warning: non-numeric value in list passed to sum_list\n"
     ]
    },
    {
     "data": {
      "text/plain": [
       "'ERROR'"
      ]
     },
     "execution_count": 87,
     "metadata": {},
     "output_type": "execute_result"
    }
   ],
   "source": [
    "sum_list([4,2,\"pony\"])"
   ]
  },
  {
   "cell_type": "code",
   "execution_count": 88,
   "metadata": {
    "collapsed": false
   },
   "outputs": [
    {
     "data": {
      "text/plain": [
       "int"
      ]
     },
     "execution_count": 88,
     "metadata": {},
     "output_type": "execute_result"
    }
   ],
   "source": [
    "type(4)"
   ]
  },
  {
   "cell_type": "code",
   "execution_count": 89,
   "metadata": {
    "collapsed": false
   },
   "outputs": [
    {
     "data": {
      "text/plain": [
       "list"
      ]
     },
     "execution_count": 89,
     "metadata": {},
     "output_type": "execute_result"
    }
   ],
   "source": [
    "type([2,3])"
   ]
  },
  {
   "cell_type": "code",
   "execution_count": 91,
   "metadata": {
    "collapsed": false
   },
   "outputs": [
    {
     "data": {
      "text/plain": [
       "True"
      ]
     },
     "execution_count": 91,
     "metadata": {},
     "output_type": "execute_result"
    }
   ],
   "source": [
    "isinstance(3, int)"
   ]
  },
  {
   "cell_type": "code",
   "execution_count": 92,
   "metadata": {
    "collapsed": true
   },
   "outputs": [],
   "source": [
    "def sum_list(input_list):\n",
    "    count = 0\n",
    "    for num in input_list:\n",
    "        if not str(num).isnumeric():\n",
    "            print(\"Warning: non-numeric value in list passed to sum_list\", num)\n",
    "            continue\n",
    "        count += num\n",
    "        \n",
    "    return count"
   ]
  },
  {
   "cell_type": "code",
   "execution_count": 93,
   "metadata": {
    "collapsed": false
   },
   "outputs": [
    {
     "name": "stdout",
     "output_type": "stream",
     "text": [
      "Warning: non-numeric value in list passed to sum_list sun\n",
      "Warning: non-numeric value in list passed to sum_list sky\n"
     ]
    },
    {
     "data": {
      "text/plain": [
       "15"
      ]
     },
     "execution_count": 93,
     "metadata": {},
     "output_type": "execute_result"
    }
   ],
   "source": [
    "sum_list([5,2, 3, \"sun\", \"sky\", 5])"
   ]
  },
  {
   "cell_type": "code",
   "execution_count": 94,
   "metadata": {
    "collapsed": false
   },
   "outputs": [
    {
     "data": {
      "text/plain": [
       "0"
      ]
     },
     "execution_count": 94,
     "metadata": {},
     "output_type": "execute_result"
    }
   ],
   "source": [
    "[2,3,4].index(2)"
   ]
  },
  {
   "cell_type": "code",
   "execution_count": 95,
   "metadata": {
    "collapsed": false
   },
   "outputs": [
    {
     "name": "stdout",
     "output_type": "stream",
     "text": [
      "i:  0 Val: 5\n",
      "i:  1 Val: 2\n",
      "i:  2 Val: 7\n"
     ]
    }
   ],
   "source": [
    "for i,val in enumerate([5,2,7]):\n",
    "    print(\"i: \", i, \"Val:\", val)"
   ]
  },
  {
   "cell_type": "code",
   "execution_count": 96,
   "metadata": {
    "collapsed": true
   },
   "outputs": [],
   "source": [
    "def sum_list(input_list):\n",
    "    count = 0\n",
    "    for index, num in enumerate(input_list):\n",
    "        if not str(num).isnumeric():\n",
    "            print(\"Warning: non-numeric value in list passed to sum_list\", num, \"at index\", index)\n",
    "            continue\n",
    "        count += num\n",
    "        \n",
    "    return count"
   ]
  },
  {
   "cell_type": "code",
   "execution_count": 97,
   "metadata": {
    "collapsed": false
   },
   "outputs": [
    {
     "name": "stdout",
     "output_type": "stream",
     "text": [
      "Warning: non-numeric value in list passed to sum_list hello at index 4\n",
      "Warning: non-numeric value in list passed to sum_list rocketship at index 5\n"
     ]
    },
    {
     "data": {
      "text/plain": [
       "16"
      ]
     },
     "execution_count": 97,
     "metadata": {},
     "output_type": "execute_result"
    }
   ],
   "source": [
    "sum_list([5,1,2,4, \"hello\", \"rocketship\", 4])"
   ]
  },
  {
   "cell_type": "code",
   "execution_count": 100,
   "metadata": {
    "collapsed": false
   },
   "outputs": [
    {
     "name": "stdout",
     "output_type": "stream",
     "text": [
      "i is -1 Breaking.\n"
     ]
    }
   ],
   "source": [
    "for i in [4, 2, 5, -1 , 4 ,2]:\n",
    "    if i < 0:\n",
    "        print(\"i is\", i, \"Breaking.\")\n",
    "        break\n"
   ]
  },
  {
   "cell_type": "code",
   "execution_count": 101,
   "metadata": {
    "collapsed": false
   },
   "outputs": [
    {
     "name": "stdout",
     "output_type": "stream",
     "text": [
      "location: 0 value h\n",
      "location: 1 value e\n",
      "location: 2 value l\n",
      "location: 3 value l\n",
      "location: 4 value o\n"
     ]
    }
   ],
   "source": [
    "for location, value in enumerate(\"hello\"):\n",
    "    print(\"location:\", location, \"value\", value)"
   ]
  },
  {
   "cell_type": "code",
   "execution_count": 102,
   "metadata": {
    "collapsed": false
   },
   "outputs": [
    {
     "data": {
      "text/plain": [
       "'/home/emily'"
      ]
     },
     "execution_count": 102,
     "metadata": {},
     "output_type": "execute_result"
    }
   ],
   "source": [
    "%pwd"
   ]
  },
  {
   "cell_type": "code",
   "execution_count": 103,
   "metadata": {
    "collapsed": false
   },
   "outputs": [
    {
     "name": "stdout",
     "output_type": "stream",
     "text": [
      "\u001b[0m\u001b[01;32mcrashplan.desktop\u001b[0m*  \u001b[40;31;01mhdd\u001b[0m@                \u001b[01;32msteam.desktop\u001b[0m*  \u001b[01;34mthumbnail\u001b[0m/\r\n",
      "\u001b[01;34mdata\u001b[0m/               \u001b[01;34mintermediatefiles\u001b[0m/  \u001b[01;32mTawe.desktop\u001b[0m*   \u001b[01;32mVideoScribe.desktop\u001b[0m*\r\n",
      "\u001b[01;34mdata-shell\u001b[0m/         \u001b[01;34mOld Firefox Data\u001b[0m/   Tawe.lnk        VideoScribe.lnk\r\n"
     ]
    }
   ],
   "source": [
    "%ls Desktop"
   ]
  },
  {
   "cell_type": "code",
   "execution_count": 105,
   "metadata": {
    "collapsed": false
   },
   "outputs": [],
   "source": [
    "data_file = open(\"Desktop/intermediatefiles/0009021/0009021.cluster.aa.fa.aln.nt.phy.trim.paml.model2\", \"r\")"
   ]
  },
  {
   "cell_type": "code",
   "execution_count": 106,
   "metadata": {
    "collapsed": false
   },
   "outputs": [
    {
     "name": "stdout",
     "output_type": "stream",
     "text": [
      "\n",
      "\n",
      "seed used = 1687265193\n",
      "\n",
      "      4   1530\n",
      "\n",
      "\n",
      "\n",
      "A50449                                     CAA CCT CGC AAT CGT AAA ACT AAA ACC AAC ATG GTA CCC CGC ATT CTT CCT GGG TCT ATA CAT AGA CAA ACG GCA CAA ATC TCA CCT CCT ATG CCT CTA CAT GGG GAA GCT TTA CTC GTT AAT TCT TCT ACC GTT AGA AGT AAG AAT GGT ACA ACT ACA ACT TTA CAT ATA AAT GGA AAT AAC GAT GCT GAT AGT GAT AAT GGC TTT GAT GAT GAC GAT GAT TGT GTT GAT GTG AAC GTG AAC GAC CTC ATC CAG TCT ATG CAA GGC CAG GAG TCC TCT CTC AGC ATC ATC TCC CAG GTC TCG CTG CCG TTC ATC ATC GCT GGC TAT GGT ACC GTC GGT GCC GGC ATG GTG CTG GAC ATT GTT CAG CAT TGG GGT GTG TTT GTG GAA GTA AAA GAG ATC TTT ATC CTG GTG CCT GCC CTG CTG GGA CTT AAA GGA AAC CTC GAG ATG ACT CTT GCT TCA AGG CTT TCT ACA CAG GCC AAT CTT GGA AAC ATG GAT TCA AAA AAA GAA CTT ATG AAA ATG GTC GGG GGA AAT TTG GCA CTA GTG CAG GCC CAA GCC ATC GTT GTA GGT CTA CTA TCA TCA CTG ACT GCC ATG GTT CTA GGG TGG ATC CCC AGG GGA GAG TTC AAT GTT CAC CAT GCG CTC CTA CTA TGT GCC AGC AGC TTG TTC ACT GCA GCT ACT GCT GGT TTT GTT TTA GGT TTA GTG ATG GTG CTT GTT GTT CTC TTG TCC CGC TAT TGT AAC ATC AAC CCC GAT AAT GTG GCC ACA CCC ATC GCT GCA AGT CTT GGG GAT TTG GTC ACT CTG TCA CTC CTT GCC TGG GTG GCT AAC ACT CTC TAT GAG GCT ATG GGT AAA CAG CAC TGG CTT GCA CCC ACT GTG ATT GTG TTA TTC CTG GCG TTG TTA CCT ATT TGG GTG GTG ATC TGT ATC AAG AAC ACA TAC ACC AAT GAT GTC ATC TAT TCC GGC TGG GTG CCA GTG CTC AGT GCT ATG CTT ATA TCA AGT GTT GGT GGA TTA ATA TTA GAC TTT ACA GTG AGC AAC TAT GAT GGT ATC GCA GTC TTT CAG CCT GTC ATT AGT GGC GTT GGA GGA AAC TTG GTG GCT GTC CAC GCC AGT AGA ATC AGC ACG TCG CTG CAT CAG AAA GGC TTG CCA GGG AGT CGC ATC AAG GAC GAC ACG CTC AGG GGA TGT CTC AAT ATG TTC AAG GTC TTC TTT GGG GGA GAC ATC CAT GCT AGG GCA GCG CGT GTG TTG ACC ATG CTA ACT ATC CCA GGA CAT CTC CTG TTC ACT TAC ACC ATC TTC CAT ATG GGG GCT GGA CAC ACA ACG CAT ACA ATG CTC TTC CAG TTG TTT TAT CTC TCT GCA GCT TGT TTA CAG GTG ATC CTG CTG ATC TAC TGT GCG ACA TGG CTT GTC CCG TTG ATC TGG ATC AAA GGT GCC GAC CCA GAC AAC GTG GCC ATT CCG TAT CTG ACC GCC ATA GGA GAC TTA CTG GGC ACT GGA TTC TTG GCC GTG GCC TTC CAC TTC CTC TAT CTC TTT GGT GAC AGG GAT GCT GAT CTT GGA GAC \n",
      "\n",
      "A18886                                     ATG GCG GCT AAA AAG AGA CGG CCG AAT TCA CCC AGT CCT GGG CGA TCT CCG TCG CCG CGC AGA CGT CGA CGT AAC AAA TGC AAG TCC CAA CTT CCT GCC CAT GCG CGC CCA CCC GGA GTT CAA ACG GTC AAT GTC AAG GAC GAT TTG GGC TGG TCG CGC TGG TGG GAT TTC TGC GGT CCT TGC GAG GAG AGT CGA GAT CGT AAA GCG TGC GAT AGG TTG AAT ACG CAG TCT GTG AAC GTA AAC GAC CTC ATC CAG TCT ATG CAA GGC CAG GAG TCC TCT CTC AGC ATC ATC TCC CAG GTC TCG CTG CCG TTC ATC ATC GCT GGC TAT GGT ACC GTC GGT GCC GGC ATG GTG CTG GAC ATT GTT CAG CAT TGG GGT GTG TTT GTG GAA GTA AAA GAG ATC TTT ATC CTG GTG CCT GCC TTG CTG GGA CTT AAA GGG AAC CTG GAG ATG ACT CTT GCT TCA AGG CTT TCT ACA CAG GCC AAT CTT GGA AAC ATG GAT TCA AAA AAA GAA CTT ATG AAA ATG GTT GGG GGA AAT TTG GCA TTA GTG CAG GCC CAA GCC ATC GTT GTA GGT CTA CTA TCA TCA CTG ACT GCC ATG GTT CTA GGG TGG ATC CCC AGG GGA GAG TTC AAT GTT CAC CAT GCA CTC CTA CTC TGT GCC AGC AGC TTG TTC ACA GCA GCT ACT GCT GGT TTT GTT TTA GGT TTA GTG ATG GTG CTC GTT GTT CTC TTG TCC CGC TAT TGT AAC ATC AAC CCC GAT AAT GTG GCC ACA CCC ATC GCT GCT AGT CTT GGG GAT TTG GTC ACT CTG TCA CTC CTT GCC TGG GTG GCT AAC ACT CTT TAT GAA GCT ATG GGT AAA CAG CAC TGG CTT GCA CCC ACT GTG ATT GTA TTA TTC CTG GCG TTG TTA CCT ATT TGG GTG GTG ATC TGT ATC AAG AAC ACA TAC ACC AAT GAT GTC ATC TAT TCC GGC TGG GTG CCA GTG CTC AGT GCT ATG CTT ATA TCA AGT GTT GGT GGA TTA ATA TTA GAC TTT ACA GTG AGC AAC TAT GAT GGT ATC GCA GTC TTT CAG CCT GTC ATT AGT GGC GTT GGA GGA AAC TTG GTG GCT GTC CAC GCC AGT AGA ATC AGC ACA TCA CTG CAT CAG AAA GGC CTG CCA GGG AGT CGC ATC AAG GAC GAC ACA CTC AGG GGC TGT CTT AAT ATG TTC AAG GTC TTC TTT GGG GGA GAC ATC CAT GCT AGG GCA GCG CGT GTG TTG ACC ATG CTA ACT ATC CCA GGA CAT CTC CTG TTC ACT TAC ACC ATC TTC CAT ATG GGG GCT GGA CAC ACA ACG CAT ACA ATG CTC TTC CAG CTG TTT TAT CTC TCT GCA GCT TGT TTA CAA GTG ATC CTG CTG ATC TAC TGT GCA ACA TGG CTT GTC CCG TTG ATC TGG ATC AAA GGT GCC GAC CCA GAC AAC GTG GCC ATT CCG TAT CTG ACT GCC ATA GGA GAC TTA CTG GGC ACT GGA TTC TTG GCC TTG GCC TTC CAC TTC CTC TAT CTC TTT GGT GAC AGG GAT GCT GAT CTT GGA GAC \n",
      "\n",
      "A91165                                     AAC CCT GGA CTA CGT AAA AGA AAC GCA AAC ATG GTA CCT CGT GTC AAG CCT GAC ACT CAT CAG AAT CTA GAG CAG GCG TCC TCC TCT CCT TTC CCA TCC ATC TCA CAA CAA ATT TTA TCG GGA GGA ACC CAT TGT GAG GGC TCC AAT ATC TCA TCC AAG TAT CTC CAT ATA TGC GGA ACC GCT GGT GGA AAC AGT GAT AAT GAT GAT GTT GAC GAG GAT GTC GAT GGA GAT GTG AAC GTG AAC CAA CTC ATA CAG TCT ATG CGA GGC CAA GAA TCG TCA TGG AGT ATT CTG TCC CAA GTG TCT CTG CCC TTC ATC ATA GCT GGC TAC GGT ACA GTC GGT GCA GGG ATG GTG TTA GAT ATT GTA CAG CAC TGG GAA GTG TTC CTG GCT GTG AAG GAA ATA TTT ATC TTG GTA CCA GCC CTG CTT GGT CTT AAA GGC AAC CTA GAA ATG ACA CTG GCT TCC AGA CTA TCT ACG CAG GCC AAC TTA GGA AAT ATG GAC TCA AAG AAG GAA CTG TTC AAG ATG GTT GGA GGA AAT TTA GCC TTA GTA CAG GCT CAA GCC ATT GTT GTT GGT CTC CTG TCA TCC CTG ACA GCC ATG GTA CTG GGC TGG ATC CCC AAG GGA GAG TTC AGT ATT CAC CAT GCC CTC CTG CTG TGT GCC AGC AGT CTC TTC ACT GCT ACC TCT GCT AGC TTA GTT CTA GGA GGT GTG ATG GTG TTT GTT GTC CTC ACC TCT CGG TAC TTC AGC ATC AAC CCA GAC AAT GTG GCA ACT CCG ATA GCT GCA AGT CTT GGG GAC CTG GTC ACT CTA GCA CTT CTG GCC TGG ATA TCC AAT ACA CTA TTT GAG GCT ATA GGC AAG CAG CAT TGG TTA GCC CCA ACT GTG ATA GTT TTG TTC CTA GTC CTT CTG CCC ATC TGG GTT GTG ATC TGT GTG AAG AAC ACC TAC ACC AAT GAT GTC ATC TAT TCA GGA TGG GTG CCT GTT CTG AGT GCC ATG ATG ATA TCA AGT GTT GGA GGA TTG ATA CTG GAT TTC ACA GTG AGC AAC TAT GAT GGC ATT GCA GTT TTT CAG CCT GTG ATA AAT GGT GTT GGA GGG AAT CTT GTT GCC GTC CAT GCT AGC AGA ATC AGC ACT TCC TTA CAC CAG AAA GGT TTT CCA GGG GGA CGC ATT AAG GAT GAT ACA CTC AGA GGT TGC CTT AAT GTC TAC AAA GTG TTT TTT GGT GGA GAT ATC CAT GCA AGA GCT GCC AGA GTC CTG ACT GTT TTG ACT ATC CCG GGG CAC CTG CTG TTT ACT TAC ACC ATT TTC CAC ATG GGG GCA GGC CAT ACA TCC CAC ACA CTC TTG TTC CAG TTC TTC TAC CTC TCA GCG GCT CTC TTA CAG GTG ATA TTA TTG CTC TAC ACT GCC ACA TGG CTG GTA CCC CTG ATC TGG ATT AAA GGT GCC GAT CCA GAT AAT GTG GCC ATT CCT TAT CTC ACA GCA TTG GGG GAC TTG CTG GGA ACG GGC TTC CTG GCT GTC GCT TTC CAC ATG CTC TAC CTG TTT GGT GAT AGA GAC GCT GAC CTA GGG GAC \n",
      "\n",
      "A125421                                    ATG CCC GCC AAG AAA AGA CGC ACC ACC TCG CCT TCA CCA CAG GCA AGG GCA ATC TCT TCC AGC GGC AGA CGA GCG AGA AGT AGG TCA CCG CTT CCG GAG CAA GCC CGC CCG CCG GGC ATC CAG CTG ATC CGA GTC GAC CCC GGC GTT TGG TGG TCG CGA TGG TTG GAC TTC TGC GGA ACA TGC AAG GCC AGT CGA GAC CGG GGT TCG TGT ACC AGG GCT GTA TCT CAG AAT GTG AAC GTG AAC CAA CTC ATA CAG TCT ATG CGA GGC CAA GAA TCG TCA TGG AGT ATT CTG TCC CAA GTG TCT CTG CCC TTC ATC ATA GCT GGC TAC GGT ACA GTC GGT GCG GGG ATG GTG TTA GAT ATT GTA CAG CAC TGG GAA GTG TTC CTG GCT GTG AAG GAA ATA TTT ATC TTG GTA CCA GCC CTG CTT GGT CTT AAA GGC AAC CTA GAA ATG ACA CTG GCT TCC AGA CTA TCT ACG CAG GCC AAC TTA GGA AAT ATG GAC TCA AAG AAG GAA CTG TTC AAG ATG GTT GGA GGA AAT TTA GCC TTG GTA CAG GCT CAA GCC ATT GTT GTT GGT CTC CTG TCG TCC CTG ACA GCC ATG GTA CTG GGC TGG ATC CCC AAG GGA GAG TTC AGT ATT CAC CAT GCC CTC CTG CTG TGT GCC AGC AGT CTC TTC ACT GCT ACC TCT GCT AGC TTA GTT CTA GGA GGT GTG ATG GTG TTT GTT GTC CTC ACC TCT CGG TAC TTC AGC ATC AAC CCA GAC AAT GTG GCA ACT CCG ATA GCG GCA AGT CTT GGG GAC CTG GTC ACT CTA GCA CTG CTG GCC TGG ATA TCC AAT ACA CTA TTT GAG GCT ATA GGC AAG CAG CAT TGG TTA GCC CCG ACT GTG ATA GTT TTG TTC CTA GTC CTT CTG CCC ATC TGG GTT GTG ATC TGT GTG AAG AAC ACC TAC ACC AAC GAT GTC ATC TAC TCA GGA TGG GTG CCT GTT CTG AGT GCC ATG ATG ATA TCA AGT GTT GGA GGA TTG ATA CTG GAT TTC ACA GTG AGC AAC TAT GAT GGC ATT GCA GTT TTT CAG CCT GTG ATA AAT GGT GTT GGA GGG AAT CTT GTT GCC GTC CAT GCT AGC AGA ATC AGC ACT TCC TTA CAC CAG AAA GGT TTT CCA GGA GGA CGC ATT AAG GAT GAT ACA CTC AGA GGT TGC CTT AAT GTC TAC AAA GTG TTT TTT GGT GGA GAT ATC CAT GCA AGA GCT GCC AGA GTC CTG ACT GTT TTG ACC ATC CCG GGG CAC CTG CTG TTT ACT TAC ACC ATT TTC CAC ATG GGA GCA GGC CAT ACA TCC CAC ACA CTC TTG TTC CAG TTC TTC TAC CTC TCA GCG GCT CTC TTA CAG GTG ATA TTA TTG CTC TAC ACT GCC ACA TGG CTG GTA CCC CTG ATC TGG ATT AAA GGT GCC GAT CCA GAT AAC GTG GCC ATT CCT TAT CTC ACA GCA TTG GGG GAC TTG CTG GGA ACG GGC TTC CTG GCT GTC GCT TTC CAC ATG CTC TAC CTG TTT GGT GAT AGA GAC GCT GAC CTA GGG GAC \n",
      "\n",
      "\n",
      "\n"
     ]
    }
   ],
   "source": [
    "line_count = 0\n",
    "\n",
    "for line in data_file:\n",
    "    line_count += 1\n",
    "    if line_count >= 10:\n",
    "        break\n",
    "        \n",
    "    print(line)\n",
    "    "
   ]
  },
  {
   "cell_type": "code",
   "execution_count": 108,
   "metadata": {
    "collapsed": true
   },
   "outputs": [],
   "source": [
    "data_file.close()"
   ]
  },
  {
   "cell_type": "code",
   "execution_count": null,
   "metadata": {
    "collapsed": true
   },
   "outputs": [],
   "source": []
  },
  {
   "cell_type": "code",
   "execution_count": 109,
   "metadata": {
    "collapsed": false
   },
   "outputs": [
    {
     "name": "stdout",
     "output_type": "stream",
     "text": [
      "Found it! Nei & Gojobori 1986. dN/dS (dN, dS)\n",
      "\n"
     ]
    }
   ],
   "source": [
    "data_file = open(\"Desktop/intermediatefiles/0009021/0009021.cluster.aa.fa.aln.nt.phy.trim.paml.model2\", \"r\")\n",
    "for line in data_file:\n",
    "    if line.strip() == \"Nei & Gojobori 1986. dN/dS (dN, dS)\":\n",
    "        print(\"Found it!\", line)\n",
    "        \n",
    "data_file.close()"
   ]
  },
  {
   "cell_type": "code",
   "execution_count": 110,
   "metadata": {
    "collapsed": false
   },
   "outputs": [
    {
     "name": "stdout",
     "output_type": "stream",
     "text": [
      "A50449              \n",
      "\n",
      "A18886               0.5516 (0.1125 0.2039)\n",
      "\n",
      "A91165               0.0795 (0.1445 1.8175) 0.0805 (0.1795 2.2292)\n",
      "\n",
      "A125421              0.0672 (0.1723 2.5644) 0.0512 (0.1204 2.3497) 0.6589 (0.1065 0.1617)\n",
      "\n",
      "\n",
      "\n"
     ]
    }
   ],
   "source": [
    "data_file = open(\"Desktop/intermediatefiles/0009021/0009021.cluster.aa.fa.aln.nt.phy.trim.paml.model2\", \"r\")\n",
    "data_lines = []\n",
    "found = False\n",
    "\n",
    "for i, line in enumerate(data_file):\n",
    "    if line.strip() == \"Nei & Gojobori 1986. dN/dS (dN, dS)\":\n",
    "        data_lines = list(range(i+4, i+9))\n",
    "        \n",
    "    if i in data_lines:\n",
    "        print(line)\n",
    "        \n",
    "        \n",
    "data_file.close()"
   ]
  },
  {
   "cell_type": "code",
   "execution_count": null,
   "metadata": {
    "collapsed": true
   },
   "outputs": [],
   "source": [
    "data_file = open(\"Desktop/intermediatefiles/0009021/0009021.cluster.aa.fa.aln.nt.phy.trim.paml.model2\", \"r\")\n",
    "data_lines = []\n",
    "dn_over_ds = []\n",
    "dn = []\n",
    "ds = []\n",
    "\n",
    "for i, line in enumerate(data_file):\n",
    "    if line.strip() == \"Nei & Gojobori 1986. dN/dS (dN, dS)\":\n",
    "        data_lines = list(range(i+4, i+9))\n",
    "        \n",
    "    if i in data_lines:\n",
    "        \n",
    "        \n",
    "        \n",
    "data_file.close()"
   ]
  },
  {
   "cell_type": "code",
   "execution_count": 111,
   "metadata": {
    "collapsed": false
   },
   "outputs": [
    {
     "data": {
      "text/plain": [
       "['1', '2', '3', '4', '5']"
      ]
     },
     "execution_count": 111,
     "metadata": {},
     "output_type": "execute_result"
    }
   ],
   "source": [
    "\"1 2 3 4 5\".split()"
   ]
  },
  {
   "cell_type": "code",
   "execution_count": 112,
   "metadata": {
    "collapsed": false
   },
   "outputs": [
    {
     "data": {
      "text/plain": [
       "['1', '2', '3', '4', '5']"
      ]
     },
     "execution_count": 112,
     "metadata": {},
     "output_type": "execute_result"
    }
   ],
   "source": [
    "\"1,2,3,4,5\".split(\",\")"
   ]
  },
  {
   "cell_type": "code",
   "execution_count": 115,
   "metadata": {
    "collapsed": false
   },
   "outputs": [
    {
     "data": {
      "text/plain": [
       "['1', '2', '3', '4', '5']"
      ]
     },
     "execution_count": 115,
     "metadata": {},
     "output_type": "execute_result"
    }
   ],
   "source": [
    "\"1  2  3           4             5\".split()"
   ]
  },
  {
   "cell_type": "code",
   "execution_count": 116,
   "metadata": {
    "collapsed": false
   },
   "outputs": [
    {
     "data": {
      "text/plain": [
       "['1', '33', '22']"
      ]
     },
     "execution_count": 116,
     "metadata": {},
     "output_type": "execute_result"
    }
   ],
   "source": [
    "\"1833822\".split(\"8\")"
   ]
  },
  {
   "cell_type": "code",
   "execution_count": 117,
   "metadata": {
    "collapsed": false
   },
   "outputs": [
    {
     "data": {
      "text/plain": [
       "['A18886', '0.5516', '(0.1125', '0.2039)']"
      ]
     },
     "execution_count": 117,
     "metadata": {},
     "output_type": "execute_result"
    }
   ],
   "source": [
    "\"A18886               0.5516 (0.1125 0.2039)\".split()"
   ]
  },
  {
   "cell_type": "code",
   "execution_count": 118,
   "metadata": {
    "collapsed": false
   },
   "outputs": [
    {
     "data": {
      "text/plain": [
       "'hello'"
      ]
     },
     "execution_count": 118,
     "metadata": {},
     "output_type": "execute_result"
    }
   ],
   "source": [
    "\"(hello)\".strip(\"()\")"
   ]
  },
  {
   "cell_type": "code",
   "execution_count": 119,
   "metadata": {
    "collapsed": false
   },
   "outputs": [
    {
     "data": {
      "text/plain": [
       "4.555"
      ]
     },
     "execution_count": 119,
     "metadata": {},
     "output_type": "execute_result"
    }
   ],
   "source": [
    "float(\"4.555\")"
   ]
  },
  {
   "cell_type": "code",
   "execution_count": null,
   "metadata": {
    "collapsed": true
   },
   "outputs": [],
   "source": [
    "#Turn \"A18886               0.5516 (0.1125 0.2039)\" \n",
    "# into [0.5516, 0.1125, 0.2039]\n",
    "\n",
    "#Hint: use the functions strip(), split(), and float()\n",
    "#Remember that you can replace values in lists"
   ]
  },
  {
   "cell_type": "code",
   "execution_count": 120,
   "metadata": {
    "collapsed": false
   },
   "outputs": [
    {
     "name": "stdout",
     "output_type": "stream",
     "text": [
      "[0.5516, 0.1125, 0.2039]\n"
     ]
    }
   ],
   "source": [
    "data_list = \"A18886               0.5516 (0.1125 0.2039)\".split()\n",
    "data_list = data_list[1:]\n",
    "new_list = []\n",
    "\n",
    "for items in data_list:\n",
    "    items = items.strip(\"()\")\n",
    "    new_list.append(float(items))\n",
    "print(new_list)"
   ]
  },
  {
   "cell_type": "code",
   "execution_count": 122,
   "metadata": {
    "collapsed": false
   },
   "outputs": [
    {
     "name": "stdout",
     "output_type": "stream",
     "text": [
      "[0.5516, 0.1125, 0.2039]\n"
     ]
    }
   ],
   "source": [
    "data_list = \"A18886               0.5516 (0.1125 0.2039)\".split()\n",
    "data_list = data_list[1:]\n",
    "\n",
    "for i, item in enumerate(data_list):\n",
    "    data_list[i] = item.strip(\"()\")\n",
    "    data_list[i] = float(data_list[i])\n",
    "    \n",
    "print(data_list)"
   ]
  },
  {
   "cell_type": "code",
   "execution_count": 123,
   "metadata": {
    "collapsed": true
   },
   "outputs": [],
   "source": [
    "data_string = \"A18886               0.5516 (0.1125 0.2039)\"\n",
    "data_string = data_string.strip(\"A186 \")"
   ]
  },
  {
   "cell_type": "code",
   "execution_count": 124,
   "metadata": {
    "collapsed": false
   },
   "outputs": [
    {
     "data": {
      "text/plain": [
       "'0.5516 (0.1125 0.2039)'"
      ]
     },
     "execution_count": 124,
     "metadata": {},
     "output_type": "execute_result"
    }
   ],
   "source": [
    "data_string"
   ]
  },
  {
   "cell_type": "code",
   "execution_count": 126,
   "metadata": {
    "collapsed": false
   },
   "outputs": [
    {
     "name": "stdout",
     "output_type": "stream",
     "text": [
      "[0.5516, 0.1125, 0.2039]\n"
     ]
    }
   ],
   "source": [
    "data_list = data_string.split()\n",
    "data_list[0] = float(data_list[0])\n",
    "data_list[1] = float(data_list[1].strip(\"(\"))\n",
    "data_list[2] = float(data_list[2][0:-1])\n",
    "print(data_list)"
   ]
  },
  {
   "cell_type": "code",
   "execution_count": 127,
   "metadata": {
    "collapsed": true
   },
   "outputs": [],
   "source": [
    "def clean_line(line):\n",
    "    line = line.split()\n",
    "    line = line[1:]\n",
    "    for i,val in enumerate(line):\n",
    "        line[i] = float(val.strip(\"()\"))\n",
    "    return line"
   ]
  },
  {
   "cell_type": "code",
   "execution_count": 128,
   "metadata": {
    "collapsed": false
   },
   "outputs": [
    {
     "data": {
      "text/plain": [
       "[0.5516, 0.1125, 0.2039]"
      ]
     },
     "execution_count": 128,
     "metadata": {},
     "output_type": "execute_result"
    }
   ],
   "source": [
    "clean_line(\"A18886               0.5516 (0.1125 0.2039)\")"
   ]
  },
  {
   "cell_type": "code",
   "execution_count": 129,
   "metadata": {
    "collapsed": false
   },
   "outputs": [
    {
     "data": {
      "text/plain": [
       "'abbbbbbbbbba'"
      ]
     },
     "execution_count": 129,
     "metadata": {},
     "output_type": "execute_result"
    }
   ],
   "source": [
    "\"abbbbbbbbbba\".strip(\"b\")"
   ]
  },
  {
   "cell_type": "code",
   "execution_count": 130,
   "metadata": {
    "collapsed": true
   },
   "outputs": [],
   "source": [
    "def clean_line(line):\n",
    "    line = line.split()\n",
    "    line = line[1:]\n",
    "    for i in range(len(line)):\n",
    "        line[i] = float(line[i].strip(\"()\"))\n",
    "    return line"
   ]
  },
  {
   "cell_type": "code",
   "execution_count": 131,
   "metadata": {
    "collapsed": false
   },
   "outputs": [
    {
     "name": "stdout",
     "output_type": "stream",
     "text": [
      "[0.5516, 0.0795, 0.0805, 0.0672, 0.0512, 0.6589]\n",
      "[0.1125, 0.1445, 0.1795, 0.1723, 0.1204, 0.1065]\n",
      "[0.2039, 1.8175, 2.2292, 2.5644, 2.3497, 0.1617]\n"
     ]
    }
   ],
   "source": [
    "data_file = open(\"Desktop/intermediatefiles/0009021/0009021.cluster.aa.fa.aln.nt.phy.trim.paml.model2\", \"r\")\n",
    "data_lines = []\n",
    "dn_over_ds = []\n",
    "dn = []\n",
    "ds = []\n",
    "\n",
    "for i, line in enumerate(data_file):\n",
    "    if line.strip() == \"Nei & Gojobori 1986. dN/dS (dN, dS)\":\n",
    "        data_lines = list(range(i+4, i+9))\n",
    "        \n",
    "    if i in data_lines:\n",
    "        line = line.split()\n",
    "        line = line[1:]\n",
    "        for j in range(len(line)):\n",
    "            line[j] = float(line[j].strip(\"()\"))\n",
    "        \n",
    "        for j in range(0, len(line), 3):\n",
    "            dn_over_ds.append(line[j])\n",
    "            \n",
    "        for j in range(1, len(line), 3):\n",
    "            dn.append(line[j])\n",
    "            \n",
    "        for j in range(2, len(line), 3):\n",
    "            ds.append(line[j])\n",
    "\n",
    "print(dn_over_ds)\n",
    "print(dn)\n",
    "print(ds)\n",
    "data_file.close()"
   ]
  },
  {
   "cell_type": "code",
   "execution_count": 150,
   "metadata": {
    "collapsed": true
   },
   "outputs": [],
   "source": [
    "def cleanup(line):\n",
    "    line = line[1:]\n",
    "    for j in range(len(line)):\n",
    "        line[j] = float(line[j].strip(\"()\"))\n",
    "    return line"
   ]
  },
  {
   "cell_type": "code",
   "execution_count": 144,
   "metadata": {
    "collapsed": true
   },
   "outputs": [],
   "source": [
    "def get_dn_over_ds(line):\n",
    "    dn_over_ds = []\n",
    "    for j in range(0, len(line), 3):\n",
    "        dn_over_ds.append(line[j])\n",
    "    return dn_over_ds\n",
    " "
   ]
  },
  {
   "cell_type": "code",
   "execution_count": 145,
   "metadata": {
    "collapsed": true
   },
   "outputs": [],
   "source": [
    "def get_dn(line):\n",
    "    dn = []\n",
    "    for j in range(1, len(line), 3):\n",
    "        dn.append(line[j])\n",
    "    return dn"
   ]
  },
  {
   "cell_type": "code",
   "execution_count": 148,
   "metadata": {
    "collapsed": true
   },
   "outputs": [],
   "source": [
    "def get_ds(line):\n",
    "    ds = []\n",
    "    for j in range(2, len(line), 3):\n",
    "        ds.append(line[j])\n",
    "    return ds"
   ]
  },
  {
   "cell_type": "code",
   "execution_count": 169,
   "metadata": {
    "collapsed": true
   },
   "outputs": [],
   "source": [
    "def get_col_labels(labels):\n",
    "    return [labels[0], labels[0], labels[1], labels[0], labels[1], labels[2]]"
   ]
  },
  {
   "cell_type": "code",
   "execution_count": 170,
   "metadata": {
    "collapsed": true
   },
   "outputs": [],
   "source": [
    "def get_row_labels(labels):\n",
    "    return [labels[1], labels[2], labels[2], labels[3], labels[3], labels[3]]"
   ]
  },
  {
   "cell_type": "code",
   "execution_count": 151,
   "metadata": {
    "collapsed": false
   },
   "outputs": [
    {
     "name": "stdout",
     "output_type": "stream",
     "text": [
      "[0.5516, 0.0795, 0.0805, 0.0672, 0.0512, 0.6589]\n",
      "[0.1125, 0.1445, 0.1795, 0.1723, 0.1204, 0.1065]\n",
      "[0.2039, 1.8175, 2.2292, 2.5644, 2.3497, 0.1617]\n",
      "['A50449', 'A50449', 'A18886', 'A50449', 'A18886', 'A91165']\n",
      "['A18886', 'A91165', 'A91165', 'A125421', 'A125421', 'A125421']\n"
     ]
    }
   ],
   "source": [
    "data_file = open(\"Desktop/intermediatefiles/0009021/0009021.cluster.aa.fa.aln.nt.phy.trim.paml.model2\", \"r\")\n",
    "data_lines = []\n",
    "dn_over_ds = []\n",
    "dn = []\n",
    "ds = []\n",
    "labels = []\n",
    "\n",
    "for i, line in enumerate(data_file):\n",
    "    if line.strip() == \"Nei & Gojobori 1986. dN/dS (dN, dS)\":\n",
    "        data_lines = list(range(i+4, i+8))\n",
    "        \n",
    "    if i in data_lines:\n",
    "        line = line.split()\n",
    "        labels.append(line[0])\n",
    "        line = cleanup(line)\n",
    "        \n",
    "        dn_over_ds += get_dn_over_ds(line)\n",
    "        dn += get_dn(line)\n",
    "        ds += get_ds(line)\n",
    "\n",
    "data_file.close()        \n",
    "        \n",
    "col_labels = get_col_labels(labels)\n",
    "row_labels = get_row_labels(labels)\n",
    "\n"
   ]
  },
  {
   "cell_type": "code",
   "execution_count": 322,
   "metadata": {
    "collapsed": false
   },
   "outputs": [
    {
     "data": {
      "text/html": [
       "<div>\n",
       "<table border=\"1\" class=\"dataframe\">\n",
       "  <thead>\n",
       "    <tr style=\"text-align: right;\">\n",
       "      <th></th>\n",
       "      <th>dn</th>\n",
       "      <th>ds</th>\n",
       "    </tr>\n",
       "  </thead>\n",
       "  <tbody>\n",
       "    <tr>\n",
       "      <th>0</th>\n",
       "      <td>0.1125</td>\n",
       "      <td>0.2039</td>\n",
       "    </tr>\n",
       "    <tr>\n",
       "      <th>1</th>\n",
       "      <td>0.1445</td>\n",
       "      <td>1.8175</td>\n",
       "    </tr>\n",
       "    <tr>\n",
       "      <th>2</th>\n",
       "      <td>0.1795</td>\n",
       "      <td>2.2292</td>\n",
       "    </tr>\n",
       "    <tr>\n",
       "      <th>3</th>\n",
       "      <td>0.1723</td>\n",
       "      <td>2.5644</td>\n",
       "    </tr>\n",
       "    <tr>\n",
       "      <th>4</th>\n",
       "      <td>0.1204</td>\n",
       "      <td>2.3497</td>\n",
       "    </tr>\n",
       "    <tr>\n",
       "      <th>5</th>\n",
       "      <td>0.1065</td>\n",
       "      <td>0.1617</td>\n",
       "    </tr>\n",
       "  </tbody>\n",
       "</table>\n",
       "</div>"
      ],
      "text/plain": [
       "       dn      ds\n",
       "0  0.1125  0.2039\n",
       "1  0.1445  1.8175\n",
       "2  0.1795  2.2292\n",
       "3  0.1723  2.5644\n",
       "4  0.1204  2.3497\n",
       "5  0.1065  0.1617"
      ]
     },
     "execution_count": 322,
     "metadata": {},
     "output_type": "execute_result"
    }
   ],
   "source": [
    "pandas.DataFrame({\"dn\" : dn, \"ds\" : ds})"
   ]
  },
  {
   "cell_type": "code",
   "execution_count": null,
   "metadata": {
    "collapsed": true
   },
   "outputs": [],
   "source": []
  },
  {
   "cell_type": "code",
   "execution_count": null,
   "metadata": {
    "collapsed": true
   },
   "outputs": [],
   "source": []
  },
  {
   "cell_type": "code",
   "execution_count": null,
   "metadata": {
    "collapsed": true
   },
   "outputs": [],
   "source": []
  },
  {
   "cell_type": "code",
   "execution_count": 176,
   "metadata": {
    "collapsed": false
   },
   "outputs": [
    {
     "ename": "FileNotFoundError",
     "evalue": "[Errno 2] No such file or directory: '~/Downloads/game_theory.csv'",
     "output_type": "error",
     "traceback": [
      "\u001b[0;31m---------------------------------------------------------------------------\u001b[0m",
      "\u001b[0;31mFileNotFoundError\u001b[0m                         Traceback (most recent call last)",
      "\u001b[0;32m<ipython-input-176-b2ddc36f4328>\u001b[0m in \u001b[0;36m<module>\u001b[0;34m()\u001b[0m\n\u001b[0;32m----> 1\u001b[0;31m \u001b[0mgame_theory_file\u001b[0m \u001b[0;34m=\u001b[0m \u001b[0mopen\u001b[0m\u001b[0;34m(\u001b[0m\u001b[0;34m\"~/Downloads/game_theory.csv\"\u001b[0m\u001b[0;34m,\u001b[0m \u001b[0;34m\"r\"\u001b[0m\u001b[0;34m)\u001b[0m\u001b[0;34m\u001b[0m\u001b[0m\n\u001b[0m",
      "\u001b[0;31mFileNotFoundError\u001b[0m: [Errno 2] No such file or directory: '~/Downloads/game_theory.csv'"
     ]
    }
   ],
   "source": [
    "game_theory_file = open(\"~/Downloads/game_theory.csv\", \"r\")"
   ]
  },
  {
   "cell_type": "code",
   "execution_count": null,
   "metadata": {
    "collapsed": true
   },
   "outputs": [],
   "source": []
  },
  {
   "cell_type": "code",
   "execution_count": 177,
   "metadata": {
    "collapsed": false
   },
   "outputs": [
    {
     "data": {
      "text/plain": [
       "'/home/emily'"
      ]
     },
     "execution_count": 177,
     "metadata": {},
     "output_type": "execute_result"
    }
   ],
   "source": [
    "%pwd"
   ]
  },
  {
   "cell_type": "code",
   "execution_count": 178,
   "metadata": {
    "collapsed": true
   },
   "outputs": [],
   "source": [
    "game_theory_file = open(\"Downloads/game_theory.csv\", \"r\")"
   ]
  },
  {
   "cell_type": "code",
   "execution_count": 179,
   "metadata": {
    "collapsed": false
   },
   "outputs": [
    {
     "data": {
      "text/plain": [
       "<_io.TextIOWrapper name='Downloads/game_theory.csv' mode='r' encoding='UTF-8'>"
      ]
     },
     "execution_count": 179,
     "metadata": {},
     "output_type": "execute_result"
    }
   ],
   "source": [
    "open(\"Downloads/game_theory.csv\", \"r\")"
   ]
  },
  {
   "cell_type": "code",
   "execution_count": 180,
   "metadata": {
    "collapsed": false
   },
   "outputs": [
    {
     "data": {
      "text/plain": [
       "<_io.TextIOWrapper name='Downloads/game_theory.csv' mode='r' encoding='UTF-8'>"
      ]
     },
     "execution_count": 180,
     "metadata": {},
     "output_type": "execute_result"
    }
   ],
   "source": [
    "game_theory_file"
   ]
  },
  {
   "cell_type": "code",
   "execution_count": 181,
   "metadata": {
    "collapsed": false
   },
   "outputs": [
    {
     "name": "stdout",
     "output_type": "stream",
     "text": [
      "time,num_coop,num_defect\n",
      "\n",
      "0,4838,1562\n",
      "\n",
      "10,5745,655\n",
      "\n",
      "20,6172,228\n",
      "\n",
      "30,6345,55\n",
      "\n",
      "40,6390,10\n",
      "\n",
      "50,6393,7\n",
      "\n",
      "60,6393,7\n",
      "\n",
      "70,6393,7\n",
      "\n",
      "80,6393,7\n",
      "\n",
      "90,6393,7\n",
      "\n",
      "100,6393,7\n"
     ]
    }
   ],
   "source": [
    "for line in game_theory_file:\n",
    "    print(line)"
   ]
  },
  {
   "cell_type": "code",
   "execution_count": 182,
   "metadata": {
    "collapsed": true
   },
   "outputs": [],
   "source": [
    "game_theory_file.close()"
   ]
  },
  {
   "cell_type": "code",
   "execution_count": 183,
   "metadata": {
    "collapsed": true
   },
   "outputs": [],
   "source": [
    "game_theory_file = open(\"Downloads/game_theory.csv\", \"r\")"
   ]
  },
  {
   "cell_type": "code",
   "execution_count": 184,
   "metadata": {
    "collapsed": false
   },
   "outputs": [
    {
     "data": {
      "text/plain": [
       "'time,num_coop,num_defect\\n'"
      ]
     },
     "execution_count": 184,
     "metadata": {},
     "output_type": "execute_result"
    }
   ],
   "source": [
    "next(game_theory_file)"
   ]
  },
  {
   "cell_type": "code",
   "execution_count": 185,
   "metadata": {
    "collapsed": false
   },
   "outputs": [
    {
     "data": {
      "text/plain": [
       "'0,4838,1562\\n'"
      ]
     },
     "execution_count": 185,
     "metadata": {},
     "output_type": "execute_result"
    }
   ],
   "source": [
    "next(game_theory_file)"
   ]
  },
  {
   "cell_type": "code",
   "execution_count": 186,
   "metadata": {
    "collapsed": false
   },
   "outputs": [
    {
     "data": {
      "text/plain": [
       "'10,5745,655\\n'"
      ]
     },
     "execution_count": 186,
     "metadata": {},
     "output_type": "execute_result"
    }
   ],
   "source": [
    "next(game_theory_file)"
   ]
  },
  {
   "cell_type": "code",
   "execution_count": 187,
   "metadata": {
    "collapsed": false
   },
   "outputs": [
    {
     "data": {
      "text/plain": [
       "['hello', 'everyone']"
      ]
     },
     "execution_count": 187,
     "metadata": {},
     "output_type": "execute_result"
    }
   ],
   "source": [
    "\"hello everyone\".split()"
   ]
  },
  {
   "cell_type": "code",
   "execution_count": 188,
   "metadata": {
    "collapsed": false
   },
   "outputs": [
    {
     "data": {
      "text/plain": [
       "['10', '5745', '655\\n']"
      ]
     },
     "execution_count": 188,
     "metadata": {},
     "output_type": "execute_result"
    }
   ],
   "source": [
    "'10,5745,655\\n'.split(\",\")"
   ]
  },
  {
   "cell_type": "code",
   "execution_count": 189,
   "metadata": {
    "collapsed": true
   },
   "outputs": [],
   "source": [
    "split_line  = '10,5745,655\\n'.split(\",\")"
   ]
  },
  {
   "cell_type": "code",
   "execution_count": 190,
   "metadata": {
    "collapsed": false
   },
   "outputs": [
    {
     "data": {
      "text/plain": [
       "'655\\n'"
      ]
     },
     "execution_count": 190,
     "metadata": {},
     "output_type": "execute_result"
    }
   ],
   "source": [
    "split_line[2]"
   ]
  },
  {
   "cell_type": "code",
   "execution_count": 191,
   "metadata": {
    "collapsed": false
   },
   "outputs": [
    {
     "data": {
      "text/plain": [
       "'655'"
      ]
     },
     "execution_count": 191,
     "metadata": {},
     "output_type": "execute_result"
    }
   ],
   "source": [
    "split_line[2].strip()"
   ]
  },
  {
   "cell_type": "code",
   "execution_count": null,
   "metadata": {
    "collapsed": true
   },
   "outputs": [],
   "source": [
    "'I said \"hello\"'"
   ]
  },
  {
   "cell_type": "code",
   "execution_count": 192,
   "metadata": {
    "collapsed": false
   },
   "outputs": [
    {
     "data": {
      "text/plain": [
       "['10', '5745', '655\\n']"
      ]
     },
     "execution_count": 192,
     "metadata": {},
     "output_type": "execute_result"
    }
   ],
   "source": [
    "split_line"
   ]
  },
  {
   "cell_type": "code",
   "execution_count": 193,
   "metadata": {
    "collapsed": true
   },
   "outputs": [],
   "source": [
    "split_line[2] = split_line[2].strip()"
   ]
  },
  {
   "cell_type": "code",
   "execution_count": 194,
   "metadata": {
    "collapsed": false
   },
   "outputs": [
    {
     "data": {
      "text/plain": [
       "['10', '5745', '655']"
      ]
     },
     "execution_count": 194,
     "metadata": {},
     "output_type": "execute_result"
    }
   ],
   "source": [
    "split_line"
   ]
  },
  {
   "cell_type": "code",
   "execution_count": 195,
   "metadata": {
    "collapsed": false
   },
   "outputs": [
    {
     "data": {
      "text/plain": [
       "655"
      ]
     },
     "execution_count": 195,
     "metadata": {},
     "output_type": "execute_result"
    }
   ],
   "source": [
    "int(split_line[2])"
   ]
  },
  {
   "cell_type": "code",
   "execution_count": 196,
   "metadata": {
    "collapsed": true
   },
   "outputs": [],
   "source": [
    "split_line[2] = int(split_line[2])"
   ]
  },
  {
   "cell_type": "code",
   "execution_count": 197,
   "metadata": {
    "collapsed": false
   },
   "outputs": [
    {
     "data": {
      "text/plain": [
       "['10', '5745', 655]"
      ]
     },
     "execution_count": 197,
     "metadata": {},
     "output_type": "execute_result"
    }
   ],
   "source": [
    "split_line"
   ]
  },
  {
   "cell_type": "code",
   "execution_count": null,
   "metadata": {
    "collapsed": true
   },
   "outputs": [],
   "source": [
    "# Level 1: Write a function that takes a string containing\n",
    "# three numbers and returns a list of those three numbers as ints.\n",
    "#e.g. list_of_ints(\"10,5745,655\") should return [10, 5745, 655]. \n",
    "\n",
    "#Level 2: Write a loop that calls that function on each line of \n",
    "#the file except the first (you can print each line if you want \n",
    "#to verify that it's working)."
   ]
  },
  {
   "cell_type": "code",
   "execution_count": 200,
   "metadata": {
    "collapsed": true
   },
   "outputs": [],
   "source": [
    "# Level 1: Write a function that takes a string containing\n",
    "# three numbers and returns a list of those three numbers as ints.\n",
    "#e.g. list_of_ints(\"10,5745,655\") should return [10, 5745, 655]. \n",
    "\n",
    "def list_of_ints(string_of_ints):\n",
    "    split_list = string_of_ints.strip().split(\",\")\n",
    "    values_as_ints = []\n",
    "    for word in split_list:\n",
    "        word = word.strip()\n",
    "        values_as_ints.append(int(word))\n",
    "    return values_as_ints"
   ]
  },
  {
   "cell_type": "code",
   "execution_count": 201,
   "metadata": {
    "collapsed": false
   },
   "outputs": [
    {
     "data": {
      "text/plain": [
       "[0, 4838, 1562]"
      ]
     },
     "execution_count": 201,
     "metadata": {},
     "output_type": "execute_result"
    }
   ],
   "source": [
    "list_of_ints('0,4838,1562\\n')"
   ]
  },
  {
   "cell_type": "code",
   "execution_count": null,
   "metadata": {
    "collapsed": false
   },
   "outputs": [],
   "source": [
    "#Level 2: Write a loop that calls that function on each line of \n",
    "#the file except the first (you can print each line if you want \n",
    "#to verify that it's working).\n",
    "\n",
    "# Level 3: Modify your loop from level 2 so that it creates a\n",
    "# list of the number of cooperators at each point in time\n",
    "# (the value in column 1 on each line)."
   ]
  },
  {
   "cell_type": "code",
   "execution_count": 202,
   "metadata": {
    "collapsed": false
   },
   "outputs": [
    {
     "name": "stdout",
     "output_type": "stream",
     "text": [
      "[0, 4838, 1562]\n",
      "[10, 5745, 655]\n",
      "[20, 6172, 228]\n",
      "[30, 6345, 55]\n",
      "[40, 6390, 10]\n",
      "[50, 6393, 7]\n",
      "[60, 6393, 7]\n",
      "[70, 6393, 7]\n",
      "[80, 6393, 7]\n",
      "[90, 6393, 7]\n",
      "[100, 6393, 7]\n"
     ]
    }
   ],
   "source": [
    "game_theory_file = open(\"Downloads/game_theory.csv\", \"r\")\n",
    "\n",
    "for i,line in enumerate(game_theory_file):\n",
    "    if i == 0:\n",
    "        continue\n",
    "    print(list_of_ints(line))\n",
    "\n",
    "game_theory_file.close()"
   ]
  },
  {
   "cell_type": "code",
   "execution_count": 203,
   "metadata": {
    "collapsed": false
   },
   "outputs": [
    {
     "name": "stdout",
     "output_type": "stream",
     "text": [
      "[0, 4838, 1562]\n",
      "[10, 5745, 655]\n",
      "[20, 6172, 228]\n",
      "[30, 6345, 55]\n",
      "[40, 6390, 10]\n",
      "[50, 6393, 7]\n",
      "[60, 6393, 7]\n",
      "[70, 6393, 7]\n",
      "[80, 6393, 7]\n",
      "[90, 6393, 7]\n",
      "[100, 6393, 7]\n"
     ]
    }
   ],
   "source": [
    "game_theory_file = open(\"Downloads/game_theory.csv\", \"r\")\n",
    "\n",
    "next(game_theory_file)\n",
    "for line in game_theory_file:\n",
    "    print(list_of_ints(line))\n",
    "\n",
    "game_theory_file.close()"
   ]
  },
  {
   "cell_type": "code",
   "execution_count": 204,
   "metadata": {
    "collapsed": false
   },
   "outputs": [
    {
     "name": "stdout",
     "output_type": "stream",
     "text": [
      "[0, 4838, 1562]\n",
      "[10, 5745, 655]\n",
      "[20, 6172, 228]\n",
      "[30, 6345, 55]\n",
      "[40, 6390, 10]\n",
      "[50, 6393, 7]\n",
      "[60, 6393, 7]\n",
      "[70, 6393, 7]\n",
      "[80, 6393, 7]\n",
      "[90, 6393, 7]\n",
      "[100, 6393, 7]\n"
     ]
    }
   ],
   "source": [
    "game_theory_file = open(\"Downloads/game_theory.csv\", \"r\")\n",
    "\n",
    "for i,line in enumerate(game_theory_file):\n",
    "    if i != 0:\n",
    "        print(list_of_ints(line))\n",
    "\n",
    "game_theory_file.close()"
   ]
  },
  {
   "cell_type": "code",
   "execution_count": 208,
   "metadata": {
    "collapsed": false
   },
   "outputs": [
    {
     "name": "stdout",
     "output_type": "stream",
     "text": [
      "[0, 4838, 1562]\n",
      "[10, 5745, 655]\n",
      "[20, 6172, 228]\n",
      "[30, 6345, 55]\n",
      "[40, 6390, 10]\n",
      "[50, 6393, 7]\n",
      "[60, 6393, 7]\n",
      "[70, 6393, 7]\n",
      "[80, 6393, 7]\n",
      "[90, 6393, 7]\n",
      "[100, 6393, 7]\n"
     ]
    }
   ],
   "source": [
    "game_theory_file = open(\"Downloads/game_theory.csv\", \"r\")\n",
    "\n",
    "for line in game_theory_file:\n",
    "    if not line[0].isnumeric():\n",
    "        continue\n",
    "    print(list_of_ints(line))\n",
    "\n",
    "game_theory_file.close()"
   ]
  },
  {
   "cell_type": "code",
   "execution_count": 209,
   "metadata": {
    "collapsed": false
   },
   "outputs": [
    {
     "name": "stdout",
     "output_type": "stream",
     "text": [
      "[0, 4838, 1562]\n",
      "[10, 5745, 655]\n",
      "[20, 6172, 228]\n",
      "[30, 6345, 55]\n",
      "[40, 6390, 10]\n",
      "[50, 6393, 7]\n",
      "[60, 6393, 7]\n",
      "[70, 6393, 7]\n",
      "[80, 6393, 7]\n",
      "[90, 6393, 7]\n",
      "[100, 6393, 7]\n"
     ]
    }
   ],
   "source": [
    "game_theory_file = open(\"Downloads/game_theory.csv\", \"r\")\n",
    "\n",
    "for line in game_theory_file:\n",
    "    if line.startswith(\"time\"):\n",
    "        continue\n",
    "    print(list_of_ints(line))\n",
    "game_theory_file.close()"
   ]
  },
  {
   "cell_type": "code",
   "execution_count": 205,
   "metadata": {
    "collapsed": false
   },
   "outputs": [
    {
     "data": {
      "text/plain": [
       "True"
      ]
     },
     "execution_count": 205,
     "metadata": {},
     "output_type": "execute_result"
    }
   ],
   "source": [
    "\"2342532535\".isnumeric()"
   ]
  },
  {
   "cell_type": "code",
   "execution_count": 206,
   "metadata": {
    "collapsed": false
   },
   "outputs": [
    {
     "data": {
      "text/plain": [
       "False"
      ]
     },
     "execution_count": 206,
     "metadata": {},
     "output_type": "execute_result"
    }
   ],
   "source": [
    "\"2414joihoi214\".isnumeric()"
   ]
  },
  {
   "cell_type": "code",
   "execution_count": 210,
   "metadata": {
    "collapsed": false
   },
   "outputs": [
    {
     "name": "stdout",
     "output_type": "stream",
     "text": [
      "[4838, 5745, 6172, 6345, 6390, 6393, 6393, 6393, 6393, 6393, 6393]\n"
     ]
    }
   ],
   "source": [
    "# Level 3: Modify your loop from level 2 so that it creates a\n",
    "# list of the number of cooperators at each point in time\n",
    "# (the value in column 1 on each line).\n",
    "\n",
    "game_theory_file = open(\"Downloads/game_theory.csv\", \"r\")\n",
    "cooperators = []\n",
    "next(game_theory_file)\n",
    "for line in game_theory_file:\n",
    "    int_list = list_of_ints(line)\n",
    "    cooperators.append(int_list[1])\n",
    "\n",
    "game_theory_file.close()\n",
    "print(cooperators)"
   ]
  },
  {
   "cell_type": "code",
   "execution_count": 217,
   "metadata": {
    "collapsed": true
   },
   "outputs": [],
   "source": [
    "def grab_cooperators_class_solution(data_file):\n",
    "    data_file = open(data_file, \"r\")\n",
    "    cooperators_list = []\n",
    "    next(data_file)\n",
    "    for line in data_file:\n",
    "        int_list = list_of_ints(line)\n",
    "        cooperators_list.append(int_list[1])\n",
    "    print(cooperators_list)\n",
    "    data_file.close()\n",
    "    return cooperators_list\n",
    "    "
   ]
  },
  {
   "cell_type": "code",
   "execution_count": 212,
   "metadata": {
    "collapsed": false
   },
   "outputs": [
    {
     "name": "stdout",
     "output_type": "stream",
     "text": [
      "[4838, 5745, 6172, 6345, 6390, 6393, 6393, 6393, 6393, 6393, 6393]\n"
     ]
    }
   ],
   "source": [
    "grab_cooperators_class_solution(\"Downloads/game_theory.csv\")"
   ]
  },
  {
   "cell_type": "code",
   "execution_count": 218,
   "metadata": {
    "collapsed": false
   },
   "outputs": [
    {
     "name": "stdout",
     "output_type": "stream",
     "text": [
      "[4838, 5745, 6172, 6345, 6390, 6393, 6393, 6393, 6393, 6393, 6393]\n"
     ]
    }
   ],
   "source": [
    "coop = grab_cooperators_class_solution(\"Downloads/game_theory.csv\")"
   ]
  },
  {
   "cell_type": "code",
   "execution_count": 219,
   "metadata": {
    "collapsed": false
   },
   "outputs": [
    {
     "data": {
      "text/plain": [
       "[4838, 5745, 6172, 6345, 6390, 6393, 6393, 6393, 6393, 6393, 6393]"
      ]
     },
     "execution_count": 219,
     "metadata": {},
     "output_type": "execute_result"
    }
   ],
   "source": [
    "coop"
   ]
  },
  {
   "cell_type": "code",
   "execution_count": 220,
   "metadata": {
    "collapsed": false
   },
   "outputs": [
    {
     "data": {
      "text/plain": [
       "67848"
      ]
     },
     "execution_count": 220,
     "metadata": {},
     "output_type": "execute_result"
    }
   ],
   "source": [
    "sum(coop)"
   ]
  },
  {
   "cell_type": "code",
   "execution_count": 221,
   "metadata": {
    "collapsed": true
   },
   "outputs": [],
   "source": [
    "my_string = \"hellow world!\"\n",
    "my_list = [1,2,3,\"a\", \"b\"]"
   ]
  },
  {
   "cell_type": "code",
   "execution_count": 222,
   "metadata": {
    "collapsed": false
   },
   "outputs": [
    {
     "data": {
      "text/plain": [
       "'h'"
      ]
     },
     "execution_count": 222,
     "metadata": {},
     "output_type": "execute_result"
    }
   ],
   "source": [
    "my_string[0]"
   ]
  },
  {
   "cell_type": "code",
   "execution_count": 223,
   "metadata": {
    "collapsed": false
   },
   "outputs": [
    {
     "data": {
      "text/plain": [
       "1"
      ]
     },
     "execution_count": 223,
     "metadata": {},
     "output_type": "execute_result"
    }
   ],
   "source": [
    "my_list[0]"
   ]
  },
  {
   "cell_type": "code",
   "execution_count": 224,
   "metadata": {
    "collapsed": false
   },
   "outputs": [
    {
     "ename": "TypeError",
     "evalue": "'str' object does not support item assignment",
     "output_type": "error",
     "traceback": [
      "\u001b[0;31m---------------------------------------------------------------------------\u001b[0m",
      "\u001b[0;31mTypeError\u001b[0m                                 Traceback (most recent call last)",
      "\u001b[0;32m<ipython-input-224-1d183a170f8a>\u001b[0m in \u001b[0;36m<module>\u001b[0;34m()\u001b[0m\n\u001b[0;32m----> 1\u001b[0;31m \u001b[0mmy_string\u001b[0m\u001b[0;34m[\u001b[0m\u001b[0;36m0\u001b[0m\u001b[0;34m]\u001b[0m \u001b[0;34m=\u001b[0m \u001b[0;34m\"a\"\u001b[0m\u001b[0;34m\u001b[0m\u001b[0m\n\u001b[0m",
      "\u001b[0;31mTypeError\u001b[0m: 'str' object does not support item assignment"
     ]
    }
   ],
   "source": [
    "my_string[0] = \"a\""
   ]
  },
  {
   "cell_type": "code",
   "execution_count": 225,
   "metadata": {
    "collapsed": true
   },
   "outputs": [],
   "source": [
    "my_list[0] = 90"
   ]
  },
  {
   "cell_type": "code",
   "execution_count": 226,
   "metadata": {
    "collapsed": false
   },
   "outputs": [
    {
     "data": {
      "text/plain": [
       "[90, 2, 3, 'a', 'b']"
      ]
     },
     "execution_count": 226,
     "metadata": {},
     "output_type": "execute_result"
    }
   ],
   "source": [
    "my_list"
   ]
  },
  {
   "cell_type": "code",
   "execution_count": 227,
   "metadata": {
    "collapsed": false
   },
   "outputs": [
    {
     "data": {
      "text/plain": [
       "list"
      ]
     },
     "execution_count": 227,
     "metadata": {},
     "output_type": "execute_result"
    }
   ],
   "source": [
    "type(my_list)"
   ]
  },
  {
   "cell_type": "code",
   "execution_count": 228,
   "metadata": {
    "collapsed": false
   },
   "outputs": [
    {
     "data": {
      "text/plain": [
       "str"
      ]
     },
     "execution_count": 228,
     "metadata": {},
     "output_type": "execute_result"
    }
   ],
   "source": [
    "type(my_string)"
   ]
  },
  {
   "cell_type": "code",
   "execution_count": 229,
   "metadata": {
    "collapsed": false
   },
   "outputs": [
    {
     "data": {
      "text/plain": [
       "[90, 2, 3, 'a', 'b']"
      ]
     },
     "execution_count": 229,
     "metadata": {},
     "output_type": "execute_result"
    }
   ],
   "source": [
    "my_list"
   ]
  },
  {
   "cell_type": "code",
   "execution_count": 230,
   "metadata": {
    "collapsed": true
   },
   "outputs": [],
   "source": [
    "my_list.remove(2)"
   ]
  },
  {
   "cell_type": "code",
   "execution_count": 231,
   "metadata": {
    "collapsed": false
   },
   "outputs": [
    {
     "data": {
      "text/plain": [
       "[90, 3, 'a', 'b']"
      ]
     },
     "execution_count": 231,
     "metadata": {},
     "output_type": "execute_result"
    }
   ],
   "source": [
    "my_list"
   ]
  },
  {
   "cell_type": "code",
   "execution_count": 232,
   "metadata": {
    "collapsed": false
   },
   "outputs": [
    {
     "name": "stdout",
     "output_type": "stream",
     "text": [
      "Help on method_descriptor:\n",
      "\n",
      "remove(...)\n",
      "    L.remove(value) -> None -- remove first occurrence of value.\n",
      "    Raises ValueError if the value is not present.\n",
      "\n"
     ]
    }
   ],
   "source": [
    "help(list.remove)"
   ]
  },
  {
   "cell_type": "code",
   "execution_count": 233,
   "metadata": {
    "collapsed": false
   },
   "outputs": [
    {
     "name": "stdout",
     "output_type": "stream",
     "text": [
      "Help on method_descriptor:\n",
      "\n",
      "pop(...)\n",
      "    L.pop([index]) -> item -- remove and return item at index (default last).\n",
      "    Raises IndexError if list is empty or index is out of range.\n",
      "\n"
     ]
    }
   ],
   "source": [
    "help(list.pop)"
   ]
  },
  {
   "cell_type": "code",
   "execution_count": 234,
   "metadata": {
    "collapsed": false
   },
   "outputs": [
    {
     "data": {
      "text/plain": [
       "90"
      ]
     },
     "execution_count": 234,
     "metadata": {},
     "output_type": "execute_result"
    }
   ],
   "source": [
    "my_list.pop(0)"
   ]
  },
  {
   "cell_type": "code",
   "execution_count": 235,
   "metadata": {
    "collapsed": false
   },
   "outputs": [
    {
     "data": {
      "text/plain": [
       "[3, 'a', 'b']"
      ]
     },
     "execution_count": 235,
     "metadata": {},
     "output_type": "execute_result"
    }
   ],
   "source": [
    "my_list"
   ]
  },
  {
   "cell_type": "code",
   "execution_count": 236,
   "metadata": {
    "collapsed": false
   },
   "outputs": [
    {
     "name": "stdout",
     "output_type": "stream",
     "text": [
      "Help on class range in module builtins:\n",
      "\n",
      "class range(object)\n",
      " |  range(stop) -> range object\n",
      " |  range(start, stop[, step]) -> range object\n",
      " |  \n",
      " |  Return an object that produces a sequence of integers from start (inclusive)\n",
      " |  to stop (exclusive) by step.  range(i, j) produces i, i+1, i+2, ..., j-1.\n",
      " |  start defaults to 0, and stop is omitted!  range(4) produces 0, 1, 2, 3.\n",
      " |  These are exactly the valid indices for a list of 4 elements.\n",
      " |  When step is given, it specifies the increment (or decrement).\n",
      " |  \n",
      " |  Methods defined here:\n",
      " |  \n",
      " |  __contains__(self, key, /)\n",
      " |      Return key in self.\n",
      " |  \n",
      " |  __eq__(self, value, /)\n",
      " |      Return self==value.\n",
      " |  \n",
      " |  __ge__(self, value, /)\n",
      " |      Return self>=value.\n",
      " |  \n",
      " |  __getattribute__(self, name, /)\n",
      " |      Return getattr(self, name).\n",
      " |  \n",
      " |  __getitem__(self, key, /)\n",
      " |      Return self[key].\n",
      " |  \n",
      " |  __gt__(self, value, /)\n",
      " |      Return self>value.\n",
      " |  \n",
      " |  __hash__(self, /)\n",
      " |      Return hash(self).\n",
      " |  \n",
      " |  __iter__(self, /)\n",
      " |      Implement iter(self).\n",
      " |  \n",
      " |  __le__(self, value, /)\n",
      " |      Return self<=value.\n",
      " |  \n",
      " |  __len__(self, /)\n",
      " |      Return len(self).\n",
      " |  \n",
      " |  __lt__(self, value, /)\n",
      " |      Return self<value.\n",
      " |  \n",
      " |  __ne__(self, value, /)\n",
      " |      Return self!=value.\n",
      " |  \n",
      " |  __new__(*args, **kwargs) from builtins.type\n",
      " |      Create and return a new object.  See help(type) for accurate signature.\n",
      " |  \n",
      " |  __reduce__(...)\n",
      " |  \n",
      " |  __repr__(self, /)\n",
      " |      Return repr(self).\n",
      " |  \n",
      " |  __reversed__(...)\n",
      " |      Return a reverse iterator.\n",
      " |  \n",
      " |  count(...)\n",
      " |      rangeobject.count(value) -> integer -- return number of occurrences of value\n",
      " |  \n",
      " |  index(...)\n",
      " |      rangeobject.index(value, [start, [stop]]) -> integer -- return index of value.\n",
      " |      Raise ValueError if the value is not present.\n",
      " |  \n",
      " |  ----------------------------------------------------------------------\n",
      " |  Data descriptors defined here:\n",
      " |  \n",
      " |  start\n",
      " |  \n",
      " |  step\n",
      " |  \n",
      " |  stop\n",
      "\n"
     ]
    }
   ],
   "source": [
    "help(range)"
   ]
  },
  {
   "cell_type": "code",
   "execution_count": 237,
   "metadata": {
    "collapsed": false
   },
   "outputs": [
    {
     "name": "stdout",
     "output_type": "stream",
     "text": [
      "[[0, 4838, 1562], [10, 5745, 655], [20, 6172, 228], [30, 6345, 55], [40, 6390, 10], [50, 6393, 7], [60, 6393, 7], [70, 6393, 7], [80, 6393, 7], [90, 6393, 7], [100, 6393, 7]]\n"
     ]
    }
   ],
   "source": [
    "# List of lists version of the solution to Level 3\n",
    "\n",
    "game_theory_file = open(\"Downloads/game_theory.csv\", \"r\")\n",
    "lines = []\n",
    "next(game_theory_file)\n",
    "for line in game_theory_file:\n",
    "    int_list = list_of_ints(line)\n",
    "    lines.append(int_list)\n",
    "\n",
    "game_theory_file.close()\n",
    "print(lines)"
   ]
  },
  {
   "cell_type": "code",
   "execution_count": 238,
   "metadata": {
    "collapsed": false
   },
   "outputs": [
    {
     "data": {
      "text/plain": [
       "[0, 4838, 1562]"
      ]
     },
     "execution_count": 238,
     "metadata": {},
     "output_type": "execute_result"
    }
   ],
   "source": [
    "lines[0]"
   ]
  },
  {
   "cell_type": "code",
   "execution_count": 239,
   "metadata": {
    "collapsed": false
   },
   "outputs": [
    {
     "data": {
      "text/plain": [
       "0"
      ]
     },
     "execution_count": 239,
     "metadata": {},
     "output_type": "execute_result"
    }
   ],
   "source": [
    "lines[0][0]"
   ]
  },
  {
   "cell_type": "code",
   "execution_count": 242,
   "metadata": {
    "collapsed": false
   },
   "outputs": [],
   "source": [
    "cooperators = []\n",
    "for row in lines:\n",
    "    cooperators.append(row[1])\n",
    "    "
   ]
  },
  {
   "cell_type": "code",
   "execution_count": 243,
   "metadata": {
    "collapsed": false
   },
   "outputs": [
    {
     "name": "stdout",
     "output_type": "stream",
     "text": [
      "[4838, 5745, 6172, 6345, 6390, 6393, 6393, 6393, 6393, 6393, 6393]\n"
     ]
    }
   ],
   "source": [
    "print(cooperators)"
   ]
  },
  {
   "cell_type": "code",
   "execution_count": 244,
   "metadata": {
    "collapsed": true
   },
   "outputs": [],
   "source": [
    "import pandas"
   ]
  },
  {
   "cell_type": "code",
   "execution_count": 245,
   "metadata": {
    "collapsed": false
   },
   "outputs": [
    {
     "data": {
      "text/html": [
       "<div>\n",
       "<table border=\"1\" class=\"dataframe\">\n",
       "  <thead>\n",
       "    <tr style=\"text-align: right;\">\n",
       "      <th></th>\n",
       "      <th>time</th>\n",
       "      <th>num_coop</th>\n",
       "      <th>num_defect</th>\n",
       "    </tr>\n",
       "  </thead>\n",
       "  <tbody>\n",
       "    <tr>\n",
       "      <th>0</th>\n",
       "      <td>0</td>\n",
       "      <td>4838</td>\n",
       "      <td>1562</td>\n",
       "    </tr>\n",
       "    <tr>\n",
       "      <th>1</th>\n",
       "      <td>10</td>\n",
       "      <td>5745</td>\n",
       "      <td>655</td>\n",
       "    </tr>\n",
       "    <tr>\n",
       "      <th>2</th>\n",
       "      <td>20</td>\n",
       "      <td>6172</td>\n",
       "      <td>228</td>\n",
       "    </tr>\n",
       "    <tr>\n",
       "      <th>3</th>\n",
       "      <td>30</td>\n",
       "      <td>6345</td>\n",
       "      <td>55</td>\n",
       "    </tr>\n",
       "    <tr>\n",
       "      <th>4</th>\n",
       "      <td>40</td>\n",
       "      <td>6390</td>\n",
       "      <td>10</td>\n",
       "    </tr>\n",
       "    <tr>\n",
       "      <th>5</th>\n",
       "      <td>50</td>\n",
       "      <td>6393</td>\n",
       "      <td>7</td>\n",
       "    </tr>\n",
       "    <tr>\n",
       "      <th>6</th>\n",
       "      <td>60</td>\n",
       "      <td>6393</td>\n",
       "      <td>7</td>\n",
       "    </tr>\n",
       "    <tr>\n",
       "      <th>7</th>\n",
       "      <td>70</td>\n",
       "      <td>6393</td>\n",
       "      <td>7</td>\n",
       "    </tr>\n",
       "    <tr>\n",
       "      <th>8</th>\n",
       "      <td>80</td>\n",
       "      <td>6393</td>\n",
       "      <td>7</td>\n",
       "    </tr>\n",
       "    <tr>\n",
       "      <th>9</th>\n",
       "      <td>90</td>\n",
       "      <td>6393</td>\n",
       "      <td>7</td>\n",
       "    </tr>\n",
       "    <tr>\n",
       "      <th>10</th>\n",
       "      <td>100</td>\n",
       "      <td>6393</td>\n",
       "      <td>7</td>\n",
       "    </tr>\n",
       "  </tbody>\n",
       "</table>\n",
       "</div>"
      ],
      "text/plain": [
       "    time  num_coop  num_defect\n",
       "0      0      4838        1562\n",
       "1     10      5745         655\n",
       "2     20      6172         228\n",
       "3     30      6345          55\n",
       "4     40      6390          10\n",
       "5     50      6393           7\n",
       "6     60      6393           7\n",
       "7     70      6393           7\n",
       "8     80      6393           7\n",
       "9     90      6393           7\n",
       "10   100      6393           7"
      ]
     },
     "execution_count": 245,
     "metadata": {},
     "output_type": "execute_result"
    }
   ],
   "source": [
    "pandas.read_csv(\"Downloads/game_theory.csv\")"
   ]
  },
  {
   "cell_type": "code",
   "execution_count": 246,
   "metadata": {
    "collapsed": false
   },
   "outputs": [
    {
     "name": "stdout",
     "output_type": "stream",
     "text": [
      "Help on function read_csv in module pandas.io.parsers:\n",
      "\n",
      "read_csv(filepath_or_buffer, sep=',', dialect=None, compression='infer', doublequote=True, escapechar=None, quotechar='\"', quoting=0, skipinitialspace=False, lineterminator=None, header='infer', index_col=None, names=None, prefix=None, skiprows=None, skipfooter=None, skip_footer=0, na_values=None, true_values=None, false_values=None, delimiter=None, converters=None, dtype=None, usecols=None, engine=None, delim_whitespace=False, as_recarray=False, na_filter=True, compact_ints=False, use_unsigned=False, low_memory=True, buffer_lines=None, warn_bad_lines=True, error_bad_lines=True, keep_default_na=True, thousands=None, comment=None, decimal=b'.', parse_dates=False, keep_date_col=False, dayfirst=False, date_parser=None, memory_map=False, float_precision=None, nrows=None, iterator=False, chunksize=None, verbose=False, encoding=None, squeeze=False, mangle_dupe_cols=True, tupleize_cols=False, infer_datetime_format=False, skip_blank_lines=True)\n",
      "    Read CSV (comma-separated) file into DataFrame\n",
      "    \n",
      "    Also supports optionally iterating or breaking of the file\n",
      "    into chunks.\n",
      "    \n",
      "    Parameters\n",
      "    ----------\n",
      "    filepath_or_buffer : string or file handle / StringIO\n",
      "        The string could be a URL. Valid URL schemes include\n",
      "        http, ftp, s3, and file. For file URLs, a\n",
      "        host is expected. For instance, a local file could be\n",
      "        file ://localhost/path/to/table.csv\n",
      "    sep : string, default ','\n",
      "        Delimiter to use. If sep is None, will try to automatically determine\n",
      "        this. Regular expressions are accepted.\n",
      "    engine : {'c', 'python'}\n",
      "        Parser engine to use. The C engine is faster while the python engine is\n",
      "        currently more feature-complete.\n",
      "    lineterminator : string (length 1), default None\n",
      "        Character to break file into lines. Only valid with C parser\n",
      "    quotechar : string (length 1)\n",
      "        The character used to denote the start and end of a quoted item. Quoted\n",
      "        items can include the delimiter and it will be ignored.\n",
      "    quoting : int or csv.QUOTE_* instance, default None\n",
      "        Control field quoting behavior per ``csv.QUOTE_*`` constants. Use one of\n",
      "        QUOTE_MINIMAL (0), QUOTE_ALL (1), QUOTE_NONNUMERIC (2) or QUOTE_NONE (3).\n",
      "        Default (None) results in QUOTE_MINIMAL behavior.\n",
      "    skipinitialspace : boolean, default False\n",
      "        Skip spaces after delimiter\n",
      "    escapechar : string (length 1), default None\n",
      "        One-character string used to escape delimiter when quoting is QUOTE_NONE.\n",
      "    dtype : Type name or dict of column -> type, default None\n",
      "        Data type for data or columns. E.g. {'a': np.float64, 'b': np.int32}\n",
      "        (Unsupported with engine='python')\n",
      "    compression : {'gzip', 'bz2', 'infer', None}, default 'infer'\n",
      "        For on-the-fly decompression of on-disk data. If 'infer', then use gzip or\n",
      "        bz2 if filepath_or_buffer is a string ending in '.gz' or '.bz2',\n",
      "        respectively, and no decompression otherwise. Set to None for no\n",
      "        decompression.\n",
      "    dialect : string or csv.Dialect instance, default None\n",
      "        If None defaults to Excel dialect. Ignored if sep longer than 1 char\n",
      "        See csv.Dialect documentation for more details\n",
      "    header : int, list of ints, default 'infer'\n",
      "        Row number(s) to use as the column names, and the start of the\n",
      "        data.  Defaults to 0 if no ``names`` passed, otherwise ``None``. Explicitly\n",
      "        pass ``header=0`` to be able to replace existing names. The header can be\n",
      "        a list of integers that specify row locations for a multi-index on the\n",
      "        columns E.g. [0,1,3]. Intervening rows that are not specified will be\n",
      "        skipped (e.g. 2 in this example are skipped). Note that this parameter\n",
      "        ignores commented lines and empty lines if ``skip_blank_lines=True``, so header=0\n",
      "        denotes the first line of data rather than the first line of the file.\n",
      "    skiprows : list-like or integer, default None\n",
      "        Line numbers to skip (0-indexed) or number of lines to skip (int)\n",
      "        at the start of the file\n",
      "    index_col : int or sequence or False, default None\n",
      "        Column to use as the row labels of the DataFrame. If a sequence is given, a\n",
      "        MultiIndex is used. If you have a malformed file with delimiters at the end\n",
      "        of each line, you might consider index_col=False to force pandas to _not_\n",
      "        use the first column as the index (row names)\n",
      "    names : array-like, default None\n",
      "        List of column names to use. If file contains no header row, then you\n",
      "        should explicitly pass header=None\n",
      "    prefix : string, default None\n",
      "        Prefix to add to column numbers when no header, e.g 'X' for X0, X1, ...\n",
      "    na_values : str, list-like or dict, default None\n",
      "        Additional strings to recognize as NA/NaN. If dict passed, specific\n",
      "        per-column NA values\n",
      "    true_values : list, default None\n",
      "        Values to consider as True\n",
      "    false_values : list, default None\n",
      "        Values to consider as False\n",
      "    keep_default_na : bool, default True\n",
      "        If na_values are specified and keep_default_na is False the default NaN\n",
      "        values are overridden, otherwise they're appended to\n",
      "    parse_dates : boolean, list of ints or names, list of lists, or dict, default False\n",
      "        If True -> try parsing the index.\n",
      "        If [1, 2, 3] -> try parsing columns 1, 2, 3 each as a separate date column.\n",
      "        If [[1, 3]] -> combine columns 1 and 3 and parse as a single date column.\n",
      "        {'foo' : [1, 3]} -> parse columns 1, 3 as date and call result 'foo'\n",
      "        A fast-path exists for iso8601-formatted dates.\n",
      "    keep_date_col : boolean, default False\n",
      "        If True and parse_dates specifies combining multiple columns then\n",
      "        keep the original columns.\n",
      "    date_parser : function, default None\n",
      "        Function to use for converting a sequence of string columns to an\n",
      "        array of datetime instances. The default uses dateutil.parser.parser\n",
      "        to do the conversion. Pandas will try to call date_parser in three different\n",
      "        ways, advancing to the next if an exception occurs: 1) Pass one or more arrays\n",
      "        (as defined by parse_dates) as arguments; 2) concatenate (row-wise) the string\n",
      "        values from the columns defined by parse_dates into a single array and pass\n",
      "        that; and 3) call date_parser once for each row using one or more strings\n",
      "        (corresponding to the columns defined by parse_dates) as arguments.\n",
      "    dayfirst : boolean, default False\n",
      "        DD/MM format dates, international and European format\n",
      "    thousands : str, default None\n",
      "        Thousands separator\n",
      "    comment : str, default None\n",
      "        Indicates remainder of line should not be parsed. If found at the\n",
      "        beginning of a line, the line will be ignored altogether. This parameter\n",
      "        must be a single character. Like empty lines (as long as ``skip_blank_lines=True``),\n",
      "        fully commented lines are ignored by the parameter `header`\n",
      "        but not by `skiprows`. For example, if comment='#', parsing\n",
      "        '#empty\\na,b,c\\n1,2,3' with `header=0` will result in 'a,b,c' being\n",
      "        treated as the header.\n",
      "    decimal : str, default '.'\n",
      "        Character to recognize as decimal point. E.g. use ',' for European data\n",
      "    nrows : int, default None\n",
      "        Number of rows of file to read. Useful for reading pieces of large files\n",
      "    iterator : boolean, default False\n",
      "        Return TextFileReader object\n",
      "    chunksize : int, default None\n",
      "        Return TextFileReader object for iteration\n",
      "    skipfooter : int, default 0\n",
      "        Number of lines at bottom of file to skip (Unsupported with engine='c')\n",
      "    converters : dict, default None\n",
      "        Dict of functions for converting values in certain columns. Keys can either\n",
      "        be integers or column labels\n",
      "    verbose : boolean, default False\n",
      "        Indicate number of NA values placed in non-numeric columns\n",
      "    delimiter : string, default None\n",
      "        Alternative argument name for sep. Regular expressions are accepted.\n",
      "    encoding : string, default None\n",
      "        Encoding to use for UTF when reading/writing (ex. 'utf-8'). `List of Python\n",
      "        standard encodings\n",
      "        <https://docs.python.org/3/library/codecs.html#standard-encodings>`_\n",
      "    squeeze : boolean, default False\n",
      "        If the parsed data only contains one column then return a Series\n",
      "    na_filter : boolean, default True\n",
      "        Detect missing value markers (empty strings and the value of na_values). In\n",
      "        data without any NAs, passing na_filter=False can improve the performance\n",
      "        of reading a large file\n",
      "    usecols : array-like, default None\n",
      "        Return a subset of the columns.\n",
      "        Results in much faster parsing time and lower memory usage.\n",
      "    mangle_dupe_cols : boolean, default True\n",
      "        Duplicate columns will be specified as 'X.0'...'X.N', rather than 'X'...'X'\n",
      "    tupleize_cols : boolean, default False\n",
      "        Leave a list of tuples on columns as is (default is to convert to\n",
      "        a Multi Index on the columns)\n",
      "    error_bad_lines : boolean, default True\n",
      "        Lines with too many fields (e.g. a csv line with too many commas) will by\n",
      "        default cause an exception to be raised, and no DataFrame will be returned.\n",
      "        If False, then these \"bad lines\" will dropped from the DataFrame that is\n",
      "        returned. (Only valid with C parser)\n",
      "    warn_bad_lines : boolean, default True\n",
      "        If error_bad_lines is False, and warn_bad_lines is True, a warning for each\n",
      "        \"bad line\" will be output. (Only valid with C parser).\n",
      "    infer_datetime_format : boolean, default False\n",
      "        If True and parse_dates is enabled for a column, attempt to infer\n",
      "        the datetime format to speed up the processing\n",
      "    skip_blank_lines : boolean, default True\n",
      "        If True, skip over blank lines rather than interpreting as NaN values\n",
      "    \n",
      "    Returns\n",
      "    -------\n",
      "    result : DataFrame or TextParser\n",
      "\n"
     ]
    }
   ],
   "source": [
    "help(pandas.read_csv)"
   ]
  },
  {
   "cell_type": "code",
   "execution_count": 247,
   "metadata": {
    "collapsed": true
   },
   "outputs": [],
   "source": [
    "data = pandas.read_csv(\"Downloads/game_theory.csv\")"
   ]
  },
  {
   "cell_type": "code",
   "execution_count": 249,
   "metadata": {
    "collapsed": false
   },
   "outputs": [
    {
     "data": {
      "text/plain": [
       "0"
      ]
     },
     "execution_count": 249,
     "metadata": {},
     "output_type": "execute_result"
    }
   ],
   "source": [
    "data.iloc[0, 0]"
   ]
  },
  {
   "cell_type": "code",
   "execution_count": 250,
   "metadata": {
    "collapsed": false
   },
   "outputs": [
    {
     "data": {
      "text/html": [
       "<div>\n",
       "<table border=\"1\" class=\"dataframe\">\n",
       "  <thead>\n",
       "    <tr style=\"text-align: right;\">\n",
       "      <th></th>\n",
       "      <th>time</th>\n",
       "      <th>num_coop</th>\n",
       "      <th>num_defect</th>\n",
       "    </tr>\n",
       "  </thead>\n",
       "  <tbody>\n",
       "    <tr>\n",
       "      <th>0</th>\n",
       "      <td>0</td>\n",
       "      <td>4838</td>\n",
       "      <td>1562</td>\n",
       "    </tr>\n",
       "    <tr>\n",
       "      <th>1</th>\n",
       "      <td>10</td>\n",
       "      <td>5745</td>\n",
       "      <td>655</td>\n",
       "    </tr>\n",
       "    <tr>\n",
       "      <th>2</th>\n",
       "      <td>20</td>\n",
       "      <td>6172</td>\n",
       "      <td>228</td>\n",
       "    </tr>\n",
       "    <tr>\n",
       "      <th>3</th>\n",
       "      <td>30</td>\n",
       "      <td>6345</td>\n",
       "      <td>55</td>\n",
       "    </tr>\n",
       "    <tr>\n",
       "      <th>4</th>\n",
       "      <td>40</td>\n",
       "      <td>6390</td>\n",
       "      <td>10</td>\n",
       "    </tr>\n",
       "    <tr>\n",
       "      <th>5</th>\n",
       "      <td>50</td>\n",
       "      <td>6393</td>\n",
       "      <td>7</td>\n",
       "    </tr>\n",
       "    <tr>\n",
       "      <th>6</th>\n",
       "      <td>60</td>\n",
       "      <td>6393</td>\n",
       "      <td>7</td>\n",
       "    </tr>\n",
       "    <tr>\n",
       "      <th>7</th>\n",
       "      <td>70</td>\n",
       "      <td>6393</td>\n",
       "      <td>7</td>\n",
       "    </tr>\n",
       "    <tr>\n",
       "      <th>8</th>\n",
       "      <td>80</td>\n",
       "      <td>6393</td>\n",
       "      <td>7</td>\n",
       "    </tr>\n",
       "    <tr>\n",
       "      <th>9</th>\n",
       "      <td>90</td>\n",
       "      <td>6393</td>\n",
       "      <td>7</td>\n",
       "    </tr>\n",
       "    <tr>\n",
       "      <th>10</th>\n",
       "      <td>100</td>\n",
       "      <td>6393</td>\n",
       "      <td>7</td>\n",
       "    </tr>\n",
       "  </tbody>\n",
       "</table>\n",
       "</div>"
      ],
      "text/plain": [
       "    time  num_coop  num_defect\n",
       "0      0      4838        1562\n",
       "1     10      5745         655\n",
       "2     20      6172         228\n",
       "3     30      6345          55\n",
       "4     40      6390          10\n",
       "5     50      6393           7\n",
       "6     60      6393           7\n",
       "7     70      6393           7\n",
       "8     80      6393           7\n",
       "9     90      6393           7\n",
       "10   100      6393           7"
      ]
     },
     "execution_count": 250,
     "metadata": {},
     "output_type": "execute_result"
    }
   ],
   "source": [
    "data"
   ]
  },
  {
   "cell_type": "code",
   "execution_count": 251,
   "metadata": {
    "collapsed": false
   },
   "outputs": [
    {
     "data": {
      "text/plain": [
       "4838"
      ]
     },
     "execution_count": 251,
     "metadata": {},
     "output_type": "execute_result"
    }
   ],
   "source": [
    "data.iloc[0, 1]"
   ]
  },
  {
   "cell_type": "code",
   "execution_count": 252,
   "metadata": {
    "collapsed": false
   },
   "outputs": [
    {
     "data": {
      "text/html": [
       "<div>\n",
       "<table border=\"1\" class=\"dataframe\">\n",
       "  <thead>\n",
       "    <tr style=\"text-align: right;\">\n",
       "      <th></th>\n",
       "      <th>num_coop</th>\n",
       "      <th>num_defect</th>\n",
       "    </tr>\n",
       "  </thead>\n",
       "  <tbody>\n",
       "    <tr>\n",
       "      <th>0</th>\n",
       "      <td>4838</td>\n",
       "      <td>1562</td>\n",
       "    </tr>\n",
       "    <tr>\n",
       "      <th>1</th>\n",
       "      <td>5745</td>\n",
       "      <td>655</td>\n",
       "    </tr>\n",
       "    <tr>\n",
       "      <th>2</th>\n",
       "      <td>6172</td>\n",
       "      <td>228</td>\n",
       "    </tr>\n",
       "    <tr>\n",
       "      <th>3</th>\n",
       "      <td>6345</td>\n",
       "      <td>55</td>\n",
       "    </tr>\n",
       "    <tr>\n",
       "      <th>4</th>\n",
       "      <td>6390</td>\n",
       "      <td>10</td>\n",
       "    </tr>\n",
       "    <tr>\n",
       "      <th>5</th>\n",
       "      <td>6393</td>\n",
       "      <td>7</td>\n",
       "    </tr>\n",
       "    <tr>\n",
       "      <th>6</th>\n",
       "      <td>6393</td>\n",
       "      <td>7</td>\n",
       "    </tr>\n",
       "    <tr>\n",
       "      <th>7</th>\n",
       "      <td>6393</td>\n",
       "      <td>7</td>\n",
       "    </tr>\n",
       "    <tr>\n",
       "      <th>8</th>\n",
       "      <td>6393</td>\n",
       "      <td>7</td>\n",
       "    </tr>\n",
       "    <tr>\n",
       "      <th>9</th>\n",
       "      <td>6393</td>\n",
       "      <td>7</td>\n",
       "    </tr>\n",
       "    <tr>\n",
       "      <th>10</th>\n",
       "      <td>6393</td>\n",
       "      <td>7</td>\n",
       "    </tr>\n",
       "  </tbody>\n",
       "</table>\n",
       "</div>"
      ],
      "text/plain": [
       "    num_coop  num_defect\n",
       "0       4838        1562\n",
       "1       5745         655\n",
       "2       6172         228\n",
       "3       6345          55\n",
       "4       6390          10\n",
       "5       6393           7\n",
       "6       6393           7\n",
       "7       6393           7\n",
       "8       6393           7\n",
       "9       6393           7\n",
       "10      6393           7"
      ]
     },
     "execution_count": 252,
     "metadata": {},
     "output_type": "execute_result"
    }
   ],
   "source": [
    "data.iloc[: , 1:]"
   ]
  },
  {
   "cell_type": "code",
   "execution_count": 253,
   "metadata": {
    "collapsed": false
   },
   "outputs": [
    {
     "data": {
      "text/plain": [
       "0       0\n",
       "1      10\n",
       "2      20\n",
       "3      30\n",
       "4      40\n",
       "5      50\n",
       "6      60\n",
       "7      70\n",
       "8      80\n",
       "9      90\n",
       "10    100\n",
       "Name: time, dtype: int64"
      ]
     },
     "execution_count": 253,
     "metadata": {},
     "output_type": "execute_result"
    }
   ],
   "source": [
    "data.loc[:, \"time\"]"
   ]
  },
  {
   "cell_type": "code",
   "execution_count": 254,
   "metadata": {
    "collapsed": false
   },
   "outputs": [
    {
     "data": {
      "text/html": [
       "<div>\n",
       "<table border=\"1\" class=\"dataframe\">\n",
       "  <thead>\n",
       "    <tr style=\"text-align: right;\">\n",
       "      <th></th>\n",
       "      <th>num_coop</th>\n",
       "      <th>num_defect</th>\n",
       "    </tr>\n",
       "  </thead>\n",
       "  <tbody>\n",
       "    <tr>\n",
       "      <th>3</th>\n",
       "      <td>6345</td>\n",
       "      <td>55</td>\n",
       "    </tr>\n",
       "    <tr>\n",
       "      <th>4</th>\n",
       "      <td>6390</td>\n",
       "      <td>10</td>\n",
       "    </tr>\n",
       "    <tr>\n",
       "      <th>5</th>\n",
       "      <td>6393</td>\n",
       "      <td>7</td>\n",
       "    </tr>\n",
       "    <tr>\n",
       "      <th>6</th>\n",
       "      <td>6393</td>\n",
       "      <td>7</td>\n",
       "    </tr>\n",
       "    <tr>\n",
       "      <th>7</th>\n",
       "      <td>6393</td>\n",
       "      <td>7</td>\n",
       "    </tr>\n",
       "  </tbody>\n",
       "</table>\n",
       "</div>"
      ],
      "text/plain": [
       "   num_coop  num_defect\n",
       "3      6345          55\n",
       "4      6390          10\n",
       "5      6393           7\n",
       "6      6393           7\n",
       "7      6393           7"
      ]
     },
     "execution_count": 254,
     "metadata": {},
     "output_type": "execute_result"
    }
   ],
   "source": [
    "data.loc[3:7, \"num_coop\":\"num_defect\"]"
   ]
  },
  {
   "cell_type": "code",
   "execution_count": 255,
   "metadata": {
    "collapsed": false
   },
   "outputs": [
    {
     "data": {
      "text/html": [
       "<div>\n",
       "<table border=\"1\" class=\"dataframe\">\n",
       "  <thead>\n",
       "    <tr style=\"text-align: right;\">\n",
       "      <th></th>\n",
       "      <th>0</th>\n",
       "      <th>1</th>\n",
       "      <th>2</th>\n",
       "    </tr>\n",
       "  </thead>\n",
       "  <tbody>\n",
       "    <tr>\n",
       "      <th>0</th>\n",
       "      <td>time</td>\n",
       "      <td>num_coop</td>\n",
       "      <td>num_defect</td>\n",
       "    </tr>\n",
       "    <tr>\n",
       "      <th>1</th>\n",
       "      <td>0</td>\n",
       "      <td>4838</td>\n",
       "      <td>1562</td>\n",
       "    </tr>\n",
       "    <tr>\n",
       "      <th>2</th>\n",
       "      <td>10</td>\n",
       "      <td>5745</td>\n",
       "      <td>655</td>\n",
       "    </tr>\n",
       "    <tr>\n",
       "      <th>3</th>\n",
       "      <td>20</td>\n",
       "      <td>6172</td>\n",
       "      <td>228</td>\n",
       "    </tr>\n",
       "    <tr>\n",
       "      <th>4</th>\n",
       "      <td>30</td>\n",
       "      <td>6345</td>\n",
       "      <td>55</td>\n",
       "    </tr>\n",
       "    <tr>\n",
       "      <th>5</th>\n",
       "      <td>40</td>\n",
       "      <td>6390</td>\n",
       "      <td>10</td>\n",
       "    </tr>\n",
       "    <tr>\n",
       "      <th>6</th>\n",
       "      <td>50</td>\n",
       "      <td>6393</td>\n",
       "      <td>7</td>\n",
       "    </tr>\n",
       "    <tr>\n",
       "      <th>7</th>\n",
       "      <td>60</td>\n",
       "      <td>6393</td>\n",
       "      <td>7</td>\n",
       "    </tr>\n",
       "    <tr>\n",
       "      <th>8</th>\n",
       "      <td>70</td>\n",
       "      <td>6393</td>\n",
       "      <td>7</td>\n",
       "    </tr>\n",
       "    <tr>\n",
       "      <th>9</th>\n",
       "      <td>80</td>\n",
       "      <td>6393</td>\n",
       "      <td>7</td>\n",
       "    </tr>\n",
       "    <tr>\n",
       "      <th>10</th>\n",
       "      <td>90</td>\n",
       "      <td>6393</td>\n",
       "      <td>7</td>\n",
       "    </tr>\n",
       "    <tr>\n",
       "      <th>11</th>\n",
       "      <td>100</td>\n",
       "      <td>6393</td>\n",
       "      <td>7</td>\n",
       "    </tr>\n",
       "  </tbody>\n",
       "</table>\n",
       "</div>"
      ],
      "text/plain": [
       "       0         1           2\n",
       "0   time  num_coop  num_defect\n",
       "1      0      4838        1562\n",
       "2     10      5745         655\n",
       "3     20      6172         228\n",
       "4     30      6345          55\n",
       "5     40      6390          10\n",
       "6     50      6393           7\n",
       "7     60      6393           7\n",
       "8     70      6393           7\n",
       "9     80      6393           7\n",
       "10    90      6393           7\n",
       "11   100      6393           7"
      ]
     },
     "execution_count": 255,
     "metadata": {},
     "output_type": "execute_result"
    }
   ],
   "source": [
    "pandas.read_csv(\"Downloads/game_theory.csv\", header=None)"
   ]
  },
  {
   "cell_type": "code",
   "execution_count": 256,
   "metadata": {
    "collapsed": false
   },
   "outputs": [
    {
     "data": {
      "text/plain": [
       "time           100\n",
       "num_coop      6393\n",
       "num_defect    1562\n",
       "dtype: int64"
      ]
     },
     "execution_count": 256,
     "metadata": {},
     "output_type": "execute_result"
    }
   ],
   "source": [
    "data.max()"
   ]
  },
  {
   "cell_type": "code",
   "execution_count": 257,
   "metadata": {
    "collapsed": false
   },
   "outputs": [
    {
     "data": {
      "text/plain": [
       "time           100\n",
       "num_coop      6393\n",
       "num_defect    1562\n",
       "dtype: int64"
      ]
     },
     "execution_count": 257,
     "metadata": {},
     "output_type": "execute_result"
    }
   ],
   "source": [
    "data.max(axis=0)"
   ]
  },
  {
   "cell_type": "code",
   "execution_count": 258,
   "metadata": {
    "collapsed": false
   },
   "outputs": [
    {
     "data": {
      "text/plain": [
       "0     4838\n",
       "1     5745\n",
       "2     6172\n",
       "3     6345\n",
       "4     6390\n",
       "5     6393\n",
       "6     6393\n",
       "7     6393\n",
       "8     6393\n",
       "9     6393\n",
       "10    6393\n",
       "dtype: int64"
      ]
     },
     "execution_count": 258,
     "metadata": {},
     "output_type": "execute_result"
    }
   ],
   "source": [
    "data.max(axis=1)"
   ]
  },
  {
   "cell_type": "code",
   "execution_count": 259,
   "metadata": {
    "collapsed": false
   },
   "outputs": [
    {
     "data": {
      "text/plain": [
       "time            50\n",
       "num_coop      6393\n",
       "num_defect       7\n",
       "dtype: float64"
      ]
     },
     "execution_count": 259,
     "metadata": {},
     "output_type": "execute_result"
    }
   ],
   "source": [
    "data.median()"
   ]
  },
  {
   "cell_type": "code",
   "execution_count": null,
   "metadata": {
    "collapsed": true
   },
   "outputs": [],
   "source": []
  },
  {
   "cell_type": "code",
   "execution_count": 260,
   "metadata": {
    "collapsed": false
   },
   "outputs": [
    {
     "data": {
      "text/plain": [
       "time            50\n",
       "num_coop      6168\n",
       "num_defect     232\n",
       "dtype: float64"
      ]
     },
     "execution_count": 260,
     "metadata": {},
     "output_type": "execute_result"
    }
   ],
   "source": [
    "data.mean()"
   ]
  },
  {
   "cell_type": "code",
   "execution_count": 263,
   "metadata": {
    "collapsed": false
   },
   "outputs": [
    {
     "data": {
      "text/plain": [
       "num_coop      6172\n",
       "num_defect     228\n",
       "dtype: float64"
      ]
     },
     "execution_count": 263,
     "metadata": {},
     "output_type": "execute_result"
    }
   ],
   "source": [
    "# Calculate the median number of cooperators and defectors \n",
    "# across the first 5 time steps.\n",
    "coop_and_defect = data.loc[0:4, \"num_coop\":\"num_defect\"]\n",
    "coop_and_defect.median()"
   ]
  },
  {
   "cell_type": "code",
   "execution_count": 265,
   "metadata": {
    "collapsed": false
   },
   "outputs": [
    {
     "data": {
      "text/plain": [
       "6172.0"
      ]
     },
     "execution_count": 265,
     "metadata": {},
     "output_type": "execute_result"
    }
   ],
   "source": [
    "data.loc[0:4, \"num_coop\"].median()"
   ]
  },
  {
   "cell_type": "code",
   "execution_count": 266,
   "metadata": {
    "collapsed": false
   },
   "outputs": [
    {
     "data": {
      "text/html": [
       "<div>\n",
       "<table border=\"1\" class=\"dataframe\">\n",
       "  <thead>\n",
       "    <tr style=\"text-align: right;\">\n",
       "      <th></th>\n",
       "      <th>num_coop</th>\n",
       "      <th>num_defect</th>\n",
       "    </tr>\n",
       "  </thead>\n",
       "  <tbody>\n",
       "    <tr>\n",
       "      <th>0</th>\n",
       "      <td>4838</td>\n",
       "      <td>1562</td>\n",
       "    </tr>\n",
       "    <tr>\n",
       "      <th>1</th>\n",
       "      <td>5745</td>\n",
       "      <td>655</td>\n",
       "    </tr>\n",
       "    <tr>\n",
       "      <th>2</th>\n",
       "      <td>6172</td>\n",
       "      <td>228</td>\n",
       "    </tr>\n",
       "    <tr>\n",
       "      <th>3</th>\n",
       "      <td>6345</td>\n",
       "      <td>55</td>\n",
       "    </tr>\n",
       "    <tr>\n",
       "      <th>4</th>\n",
       "      <td>6390</td>\n",
       "      <td>10</td>\n",
       "    </tr>\n",
       "  </tbody>\n",
       "</table>\n",
       "</div>"
      ],
      "text/plain": [
       "   num_coop  num_defect\n",
       "0      4838        1562\n",
       "1      5745         655\n",
       "2      6172         228\n",
       "3      6345          55\n",
       "4      6390          10"
      ]
     },
     "execution_count": 266,
     "metadata": {},
     "output_type": "execute_result"
    }
   ],
   "source": [
    "coop_and_defect"
   ]
  },
  {
   "cell_type": "code",
   "execution_count": 267,
   "metadata": {
    "collapsed": false
   },
   "outputs": [
    {
     "data": {
      "text/plain": [
       "time            50\n",
       "num_coop      6393\n",
       "num_defect       7\n",
       "dtype: float64"
      ]
     },
     "execution_count": 267,
     "metadata": {},
     "output_type": "execute_result"
    }
   ],
   "source": [
    "data.median()"
   ]
  },
  {
   "cell_type": "code",
   "execution_count": 268,
   "metadata": {
    "collapsed": false
   },
   "outputs": [
    {
     "data": {
      "text/plain": [
       "num_coop      6172\n",
       "num_defect     228\n",
       "dtype: float64"
      ]
     },
     "execution_count": 268,
     "metadata": {},
     "output_type": "execute_result"
    }
   ],
   "source": [
    "coop_and_defect.median()"
   ]
  },
  {
   "cell_type": "code",
   "execution_count": 269,
   "metadata": {
    "collapsed": false
   },
   "outputs": [
    {
     "data": {
      "text/html": [
       "<div>\n",
       "<table border=\"1\" class=\"dataframe\">\n",
       "  <thead>\n",
       "    <tr style=\"text-align: right;\">\n",
       "      <th></th>\n",
       "      <th>time</th>\n",
       "      <th>num_coop</th>\n",
       "      <th>num_defect</th>\n",
       "    </tr>\n",
       "  </thead>\n",
       "  <tbody>\n",
       "    <tr>\n",
       "      <th>0</th>\n",
       "      <td>False</td>\n",
       "      <td>False</td>\n",
       "      <td>False</td>\n",
       "    </tr>\n",
       "    <tr>\n",
       "      <th>1</th>\n",
       "      <td>False</td>\n",
       "      <td>False</td>\n",
       "      <td>False</td>\n",
       "    </tr>\n",
       "    <tr>\n",
       "      <th>2</th>\n",
       "      <td>False</td>\n",
       "      <td>True</td>\n",
       "      <td>False</td>\n",
       "    </tr>\n",
       "    <tr>\n",
       "      <th>3</th>\n",
       "      <td>False</td>\n",
       "      <td>True</td>\n",
       "      <td>False</td>\n",
       "    </tr>\n",
       "    <tr>\n",
       "      <th>4</th>\n",
       "      <td>False</td>\n",
       "      <td>True</td>\n",
       "      <td>False</td>\n",
       "    </tr>\n",
       "    <tr>\n",
       "      <th>5</th>\n",
       "      <td>False</td>\n",
       "      <td>True</td>\n",
       "      <td>False</td>\n",
       "    </tr>\n",
       "    <tr>\n",
       "      <th>6</th>\n",
       "      <td>False</td>\n",
       "      <td>True</td>\n",
       "      <td>False</td>\n",
       "    </tr>\n",
       "    <tr>\n",
       "      <th>7</th>\n",
       "      <td>False</td>\n",
       "      <td>True</td>\n",
       "      <td>False</td>\n",
       "    </tr>\n",
       "    <tr>\n",
       "      <th>8</th>\n",
       "      <td>False</td>\n",
       "      <td>True</td>\n",
       "      <td>False</td>\n",
       "    </tr>\n",
       "    <tr>\n",
       "      <th>9</th>\n",
       "      <td>False</td>\n",
       "      <td>True</td>\n",
       "      <td>False</td>\n",
       "    </tr>\n",
       "    <tr>\n",
       "      <th>10</th>\n",
       "      <td>False</td>\n",
       "      <td>True</td>\n",
       "      <td>False</td>\n",
       "    </tr>\n",
       "  </tbody>\n",
       "</table>\n",
       "</div>"
      ],
      "text/plain": [
       "     time num_coop num_defect\n",
       "0   False    False      False\n",
       "1   False    False      False\n",
       "2   False     True      False\n",
       "3   False     True      False\n",
       "4   False     True      False\n",
       "5   False     True      False\n",
       "6   False     True      False\n",
       "7   False     True      False\n",
       "8   False     True      False\n",
       "9   False     True      False\n",
       "10  False     True      False"
      ]
     },
     "execution_count": 269,
     "metadata": {},
     "output_type": "execute_result"
    }
   ],
   "source": [
    "data > 6000"
   ]
  },
  {
   "cell_type": "code",
   "execution_count": 270,
   "metadata": {
    "collapsed": false
   },
   "outputs": [
    {
     "data": {
      "text/html": [
       "<div>\n",
       "<table border=\"1\" class=\"dataframe\">\n",
       "  <thead>\n",
       "    <tr style=\"text-align: right;\">\n",
       "      <th></th>\n",
       "      <th>time</th>\n",
       "      <th>num_coop</th>\n",
       "      <th>num_defect</th>\n",
       "    </tr>\n",
       "  </thead>\n",
       "  <tbody>\n",
       "    <tr>\n",
       "      <th>0</th>\n",
       "      <td>NaN</td>\n",
       "      <td>NaN</td>\n",
       "      <td>NaN</td>\n",
       "    </tr>\n",
       "    <tr>\n",
       "      <th>1</th>\n",
       "      <td>NaN</td>\n",
       "      <td>NaN</td>\n",
       "      <td>NaN</td>\n",
       "    </tr>\n",
       "    <tr>\n",
       "      <th>2</th>\n",
       "      <td>NaN</td>\n",
       "      <td>6172</td>\n",
       "      <td>NaN</td>\n",
       "    </tr>\n",
       "    <tr>\n",
       "      <th>3</th>\n",
       "      <td>NaN</td>\n",
       "      <td>6345</td>\n",
       "      <td>NaN</td>\n",
       "    </tr>\n",
       "    <tr>\n",
       "      <th>4</th>\n",
       "      <td>NaN</td>\n",
       "      <td>6390</td>\n",
       "      <td>NaN</td>\n",
       "    </tr>\n",
       "    <tr>\n",
       "      <th>5</th>\n",
       "      <td>NaN</td>\n",
       "      <td>6393</td>\n",
       "      <td>NaN</td>\n",
       "    </tr>\n",
       "    <tr>\n",
       "      <th>6</th>\n",
       "      <td>NaN</td>\n",
       "      <td>6393</td>\n",
       "      <td>NaN</td>\n",
       "    </tr>\n",
       "    <tr>\n",
       "      <th>7</th>\n",
       "      <td>NaN</td>\n",
       "      <td>6393</td>\n",
       "      <td>NaN</td>\n",
       "    </tr>\n",
       "    <tr>\n",
       "      <th>8</th>\n",
       "      <td>NaN</td>\n",
       "      <td>6393</td>\n",
       "      <td>NaN</td>\n",
       "    </tr>\n",
       "    <tr>\n",
       "      <th>9</th>\n",
       "      <td>NaN</td>\n",
       "      <td>6393</td>\n",
       "      <td>NaN</td>\n",
       "    </tr>\n",
       "    <tr>\n",
       "      <th>10</th>\n",
       "      <td>NaN</td>\n",
       "      <td>6393</td>\n",
       "      <td>NaN</td>\n",
       "    </tr>\n",
       "  </tbody>\n",
       "</table>\n",
       "</div>"
      ],
      "text/plain": [
       "    time  num_coop  num_defect\n",
       "0    NaN       NaN         NaN\n",
       "1    NaN       NaN         NaN\n",
       "2    NaN      6172         NaN\n",
       "3    NaN      6345         NaN\n",
       "4    NaN      6390         NaN\n",
       "5    NaN      6393         NaN\n",
       "6    NaN      6393         NaN\n",
       "7    NaN      6393         NaN\n",
       "8    NaN      6393         NaN\n",
       "9    NaN      6393         NaN\n",
       "10   NaN      6393         NaN"
      ]
     },
     "execution_count": 270,
     "metadata": {},
     "output_type": "execute_result"
    }
   ],
   "source": [
    "data[data > 6000]"
   ]
  },
  {
   "cell_type": "code",
   "execution_count": 271,
   "metadata": {
    "collapsed": true
   },
   "outputs": [],
   "source": [
    "masked_data = data[data > 6000]"
   ]
  },
  {
   "cell_type": "code",
   "execution_count": 272,
   "metadata": {
    "collapsed": false
   },
   "outputs": [
    {
     "data": {
      "text/plain": [
       "time                  NaN\n",
       "num_coop      6362.777778\n",
       "num_defect            NaN\n",
       "dtype: float64"
      ]
     },
     "execution_count": 272,
     "metadata": {},
     "output_type": "execute_result"
    }
   ],
   "source": [
    "masked_data.mean()"
   ]
  },
  {
   "cell_type": "code",
   "execution_count": null,
   "metadata": {
    "collapsed": false
   },
   "outputs": [],
   "source": []
  },
  {
   "cell_type": "code",
   "execution_count": 274,
   "metadata": {
    "collapsed": true
   },
   "outputs": [],
   "source": [
    "# Use a mask to turn all of the 7s in the dataframe into NAs.\n",
    "masked_data = data[data != 7]"
   ]
  },
  {
   "cell_type": "code",
   "execution_count": 275,
   "metadata": {
    "collapsed": false
   },
   "outputs": [
    {
     "data": {
      "text/html": [
       "<div>\n",
       "<table border=\"1\" class=\"dataframe\">\n",
       "  <thead>\n",
       "    <tr style=\"text-align: right;\">\n",
       "      <th></th>\n",
       "      <th>time</th>\n",
       "      <th>num_coop</th>\n",
       "      <th>num_defect</th>\n",
       "    </tr>\n",
       "  </thead>\n",
       "  <tbody>\n",
       "    <tr>\n",
       "      <th>0</th>\n",
       "      <td>0</td>\n",
       "      <td>4838</td>\n",
       "      <td>1562</td>\n",
       "    </tr>\n",
       "    <tr>\n",
       "      <th>1</th>\n",
       "      <td>10</td>\n",
       "      <td>5745</td>\n",
       "      <td>655</td>\n",
       "    </tr>\n",
       "    <tr>\n",
       "      <th>2</th>\n",
       "      <td>20</td>\n",
       "      <td>6172</td>\n",
       "      <td>228</td>\n",
       "    </tr>\n",
       "    <tr>\n",
       "      <th>3</th>\n",
       "      <td>30</td>\n",
       "      <td>6345</td>\n",
       "      <td>55</td>\n",
       "    </tr>\n",
       "    <tr>\n",
       "      <th>4</th>\n",
       "      <td>40</td>\n",
       "      <td>6390</td>\n",
       "      <td>10</td>\n",
       "    </tr>\n",
       "    <tr>\n",
       "      <th>5</th>\n",
       "      <td>50</td>\n",
       "      <td>6393</td>\n",
       "      <td>NaN</td>\n",
       "    </tr>\n",
       "    <tr>\n",
       "      <th>6</th>\n",
       "      <td>60</td>\n",
       "      <td>6393</td>\n",
       "      <td>NaN</td>\n",
       "    </tr>\n",
       "    <tr>\n",
       "      <th>7</th>\n",
       "      <td>70</td>\n",
       "      <td>6393</td>\n",
       "      <td>NaN</td>\n",
       "    </tr>\n",
       "    <tr>\n",
       "      <th>8</th>\n",
       "      <td>80</td>\n",
       "      <td>6393</td>\n",
       "      <td>NaN</td>\n",
       "    </tr>\n",
       "    <tr>\n",
       "      <th>9</th>\n",
       "      <td>90</td>\n",
       "      <td>6393</td>\n",
       "      <td>NaN</td>\n",
       "    </tr>\n",
       "    <tr>\n",
       "      <th>10</th>\n",
       "      <td>100</td>\n",
       "      <td>6393</td>\n",
       "      <td>NaN</td>\n",
       "    </tr>\n",
       "  </tbody>\n",
       "</table>\n",
       "</div>"
      ],
      "text/plain": [
       "    time  num_coop  num_defect\n",
       "0      0      4838        1562\n",
       "1     10      5745         655\n",
       "2     20      6172         228\n",
       "3     30      6345          55\n",
       "4     40      6390          10\n",
       "5     50      6393         NaN\n",
       "6     60      6393         NaN\n",
       "7     70      6393         NaN\n",
       "8     80      6393         NaN\n",
       "9     90      6393         NaN\n",
       "10   100      6393         NaN"
      ]
     },
     "execution_count": 275,
     "metadata": {},
     "output_type": "execute_result"
    }
   ],
   "source": [
    "masked_data"
   ]
  },
  {
   "cell_type": "code",
   "execution_count": 276,
   "metadata": {
    "collapsed": false
   },
   "outputs": [
    {
     "data": {
      "text/html": [
       "<div>\n",
       "<table border=\"1\" class=\"dataframe\">\n",
       "  <thead>\n",
       "    <tr style=\"text-align: right;\">\n",
       "      <th></th>\n",
       "      <th>time</th>\n",
       "      <th>num_coop</th>\n",
       "      <th>num_defect</th>\n",
       "    </tr>\n",
       "  </thead>\n",
       "  <tbody>\n",
       "    <tr>\n",
       "      <th>0</th>\n",
       "      <td>0</td>\n",
       "      <td>4838</td>\n",
       "      <td>1562</td>\n",
       "    </tr>\n",
       "    <tr>\n",
       "      <th>1</th>\n",
       "      <td>10</td>\n",
       "      <td>5745</td>\n",
       "      <td>655</td>\n",
       "    </tr>\n",
       "    <tr>\n",
       "      <th>2</th>\n",
       "      <td>20</td>\n",
       "      <td>6172</td>\n",
       "      <td>228</td>\n",
       "    </tr>\n",
       "    <tr>\n",
       "      <th>3</th>\n",
       "      <td>30</td>\n",
       "      <td>6345</td>\n",
       "      <td>55</td>\n",
       "    </tr>\n",
       "    <tr>\n",
       "      <th>4</th>\n",
       "      <td>40</td>\n",
       "      <td>6390</td>\n",
       "      <td>10</td>\n",
       "    </tr>\n",
       "    <tr>\n",
       "      <th>5</th>\n",
       "      <td>50</td>\n",
       "      <td>6393</td>\n",
       "      <td>7</td>\n",
       "    </tr>\n",
       "    <tr>\n",
       "      <th>6</th>\n",
       "      <td>60</td>\n",
       "      <td>6393</td>\n",
       "      <td>7</td>\n",
       "    </tr>\n",
       "    <tr>\n",
       "      <th>7</th>\n",
       "      <td>70</td>\n",
       "      <td>6393</td>\n",
       "      <td>7</td>\n",
       "    </tr>\n",
       "    <tr>\n",
       "      <th>8</th>\n",
       "      <td>80</td>\n",
       "      <td>6393</td>\n",
       "      <td>7</td>\n",
       "    </tr>\n",
       "    <tr>\n",
       "      <th>9</th>\n",
       "      <td>90</td>\n",
       "      <td>6393</td>\n",
       "      <td>7</td>\n",
       "    </tr>\n",
       "    <tr>\n",
       "      <th>10</th>\n",
       "      <td>100</td>\n",
       "      <td>6393</td>\n",
       "      <td>7</td>\n",
       "    </tr>\n",
       "  </tbody>\n",
       "</table>\n",
       "</div>"
      ],
      "text/plain": [
       "    time  num_coop  num_defect\n",
       "0      0      4838        1562\n",
       "1     10      5745         655\n",
       "2     20      6172         228\n",
       "3     30      6345          55\n",
       "4     40      6390          10\n",
       "5     50      6393           7\n",
       "6     60      6393           7\n",
       "7     70      6393           7\n",
       "8     80      6393           7\n",
       "9     90      6393           7\n",
       "10   100      6393           7"
      ]
     },
     "execution_count": 276,
     "metadata": {},
     "output_type": "execute_result"
    }
   ],
   "source": [
    "data"
   ]
  },
  {
   "cell_type": "code",
   "execution_count": 277,
   "metadata": {
    "collapsed": false
   },
   "outputs": [
    {
     "data": {
      "text/html": [
       "<div>\n",
       "<table border=\"1\" class=\"dataframe\">\n",
       "  <thead>\n",
       "    <tr style=\"text-align: right;\">\n",
       "      <th></th>\n",
       "      <th>time</th>\n",
       "      <th>num_coop</th>\n",
       "      <th>num_defect</th>\n",
       "    </tr>\n",
       "  </thead>\n",
       "  <tbody>\n",
       "    <tr>\n",
       "      <th>0</th>\n",
       "      <td>True</td>\n",
       "      <td>True</td>\n",
       "      <td>True</td>\n",
       "    </tr>\n",
       "    <tr>\n",
       "      <th>1</th>\n",
       "      <td>True</td>\n",
       "      <td>True</td>\n",
       "      <td>True</td>\n",
       "    </tr>\n",
       "    <tr>\n",
       "      <th>2</th>\n",
       "      <td>True</td>\n",
       "      <td>True</td>\n",
       "      <td>True</td>\n",
       "    </tr>\n",
       "    <tr>\n",
       "      <th>3</th>\n",
       "      <td>True</td>\n",
       "      <td>True</td>\n",
       "      <td>True</td>\n",
       "    </tr>\n",
       "    <tr>\n",
       "      <th>4</th>\n",
       "      <td>True</td>\n",
       "      <td>True</td>\n",
       "      <td>True</td>\n",
       "    </tr>\n",
       "    <tr>\n",
       "      <th>5</th>\n",
       "      <td>True</td>\n",
       "      <td>True</td>\n",
       "      <td>False</td>\n",
       "    </tr>\n",
       "    <tr>\n",
       "      <th>6</th>\n",
       "      <td>True</td>\n",
       "      <td>True</td>\n",
       "      <td>False</td>\n",
       "    </tr>\n",
       "    <tr>\n",
       "      <th>7</th>\n",
       "      <td>True</td>\n",
       "      <td>True</td>\n",
       "      <td>False</td>\n",
       "    </tr>\n",
       "    <tr>\n",
       "      <th>8</th>\n",
       "      <td>True</td>\n",
       "      <td>True</td>\n",
       "      <td>False</td>\n",
       "    </tr>\n",
       "    <tr>\n",
       "      <th>9</th>\n",
       "      <td>True</td>\n",
       "      <td>True</td>\n",
       "      <td>False</td>\n",
       "    </tr>\n",
       "    <tr>\n",
       "      <th>10</th>\n",
       "      <td>True</td>\n",
       "      <td>True</td>\n",
       "      <td>False</td>\n",
       "    </tr>\n",
       "  </tbody>\n",
       "</table>\n",
       "</div>"
      ],
      "text/plain": [
       "    time num_coop num_defect\n",
       "0   True     True       True\n",
       "1   True     True       True\n",
       "2   True     True       True\n",
       "3   True     True       True\n",
       "4   True     True       True\n",
       "5   True     True      False\n",
       "6   True     True      False\n",
       "7   True     True      False\n",
       "8   True     True      False\n",
       "9   True     True      False\n",
       "10  True     True      False"
      ]
     },
     "execution_count": 277,
     "metadata": {},
     "output_type": "execute_result"
    }
   ],
   "source": [
    "data != 7"
   ]
  },
  {
   "cell_type": "code",
   "execution_count": 278,
   "metadata": {
    "collapsed": true
   },
   "outputs": [],
   "source": [
    "%matplotlib inline"
   ]
  },
  {
   "cell_type": "code",
   "execution_count": 279,
   "metadata": {
    "collapsed": false
   },
   "outputs": [
    {
     "data": {
      "text/plain": [
       "<matplotlib.axes._subplots.AxesSubplot at 0x7f4111398710>"
      ]
     },
     "execution_count": 279,
     "metadata": {},
     "output_type": "execute_result"
    },
    {
     "data": {
      "image/png": "[encoded data removed]",
      "text/plain": [
       "<matplotlib.figure.Figure at 0x7f4111383dd8>"
      ]
     },
     "metadata": {},
     "output_type": "display_data"
    }
   ],
   "source": [
    "data.plot()"
   ]
  },
  {
   "cell_type": "code",
   "execution_count": 280,
   "metadata": {
    "collapsed": false
   },
   "outputs": [
    {
     "data": {
      "text/plain": [
       "<matplotlib.axes._subplots.AxesSubplot at 0x7f410dd5c208>"
      ]
     },
     "execution_count": 280,
     "metadata": {},
     "output_type": "execute_result"
    },
    {
     "data": {
      "image/png": "[encoded data removed]",
      "text/plain": [
       "<matplotlib.figure.Figure at 0x7f410dd60588>"
      ]
     },
     "metadata": {},
     "output_type": "display_data"
    }
   ],
   "source": [
    "data.plot(x=\"time\")"
   ]
  },
  {
   "cell_type": "code",
   "execution_count": 283,
   "metadata": {
    "collapsed": false
   },
   "outputs": [
    {
     "data": {
      "text/plain": [
       "<matplotlib.text.Text at 0x7f410dca1780>"
      ]
     },
     "execution_count": 283,
     "metadata": {},
     "output_type": "execute_result"
    },
    {
     "data": {
      "image/png": "[encoded data removed]",
      "text/plain": [
       "<matplotlib.figure.Figure at 0x7f410da11240>"
      ]
     },
     "metadata": {},
     "output_type": "display_data"
    }
   ],
   "source": [
    "fig = data.plot(x=\"time\")\n",
    "fig.set_xlabel(\"Time (hours)\")"
   ]
  },
  {
   "cell_type": "code",
   "execution_count": 285,
   "metadata": {
    "collapsed": false
   },
   "outputs": [
    {
     "data": {
      "text/plain": [
       "<matplotlib.axes._subplots.AxesSubplot at 0x7f410d8e3320>"
      ]
     },
     "execution_count": 285,
     "metadata": {},
     "output_type": "execute_result"
    },
    {
     "data": {
      "image/png": "[encoded data removed]",
      "text/plain": [
       "<matplotlib.figure.Figure at 0x7f410d8ebd30>"
      ]
     },
     "metadata": {},
     "output_type": "display_data"
    }
   ],
   "source": [
    "data.loc[:, \"num_coop\"].plot.bar()"
   ]
  },
  {
   "cell_type": "code",
   "execution_count": 286,
   "metadata": {
    "collapsed": false
   },
   "outputs": [
    {
     "data": {
      "text/plain": [
       "<matplotlib.axes._subplots.AxesSubplot at 0x7f410d803278>"
      ]
     },
     "execution_count": 286,
     "metadata": {},
     "output_type": "execute_result"
    },
    {
     "data": {
      "image/png": "[encoded data removed]",
      "text/plain": [
       "<matplotlib.figure.Figure at 0x7f410d808d68>"
      ]
     },
     "metadata": {},
     "output_type": "display_data"
    }
   ],
   "source": [
    "data.mean().plot.bar()"
   ]
  },
  {
   "cell_type": "code",
   "execution_count": 287,
   "metadata": {
    "collapsed": true
   },
   "outputs": [],
   "source": [
    "averages = data.mean()"
   ]
  },
  {
   "cell_type": "code",
   "execution_count": 288,
   "metadata": {
    "collapsed": false
   },
   "outputs": [
    {
     "data": {
      "text/plain": [
       "time            50\n",
       "num_coop      6168\n",
       "num_defect     232\n",
       "dtype: float64"
      ]
     },
     "execution_count": 288,
     "metadata": {},
     "output_type": "execute_result"
    }
   ],
   "source": [
    "averages"
   ]
  },
  {
   "cell_type": "code",
   "execution_count": null,
   "metadata": {
    "collapsed": true
   },
   "outputs": [],
   "source": [
    "averages.plot.bar()"
   ]
  },
  {
   "cell_type": "code",
   "execution_count": 289,
   "metadata": {
    "collapsed": false
   },
   "outputs": [
    {
     "data": {
      "text/plain": [
       "{'_data': SingleBlockManager\n",
       " Items: Index(['time', 'num_coop', 'num_defect'], dtype='object')\n",
       " FloatBlock: 3 dtype: float64,\n",
       " '_index': Index(['time', 'num_coop', 'num_defect'], dtype='object'),\n",
       " '_item_cache': {},\n",
       " '_subtyp': 'series',\n",
       " 'is_copy': None,\n",
       " 'name': None}"
      ]
     },
     "execution_count": 289,
     "metadata": {},
     "output_type": "execute_result"
    }
   ],
   "source": [
    "averages.__dict__"
   ]
  },
  {
   "cell_type": "code",
   "execution_count": 290,
   "metadata": {
    "collapsed": false
   },
   "outputs": [
    {
     "data": {
      "text/plain": [
       "mappingproxy({'T': <property at 0x7f411463a6d8>,\n",
       "              '_AXIS_ALIASES': {'rows': 0},\n",
       "              '_AXIS_IALIASES': {0: 'rows'},\n",
       "              '_AXIS_LEN': 2,\n",
       "              '_AXIS_NAMES': {0: 'index', 1: 'columns'},\n",
       "              '_AXIS_NUMBERS': {'columns': 1, 'index': 0},\n",
       "              '_AXIS_ORDERS': ['index', 'columns'],\n",
       "              '_AXIS_REVERSED': True,\n",
       "              '_AXIS_SLICEMAP': None,\n",
       "              '__add__': <function pandas.core.ops._arith_method_FRAME.<locals>.f>,\n",
       "              '__and__': <function pandas.core.ops._arith_method_FRAME.<locals>.f>,\n",
       "              '__div__': <function pandas.core.ops._arith_method_FRAME.<locals>.f>,\n",
       "              '__doc__': \" Two-dimensional size-mutable, potentially heterogeneous tabular data\\n    structure with labeled axes (rows and columns). Arithmetic operations\\n    align on both row and column labels. Can be thought of as a dict-like\\n    container for Series objects. The primary pandas data structure\\n\\n    Parameters\\n    ----------\\n    data : numpy ndarray (structured or homogeneous), dict, or DataFrame\\n        Dict can contain Series, arrays, constants, or list-like objects\\n    index : Index or array-like\\n        Index to use for resulting frame. Will default to np.arange(n) if\\n        no indexing information part of input data and no index provided\\n    columns : Index or array-like\\n        Column labels to use for resulting frame. Will default to\\n        np.arange(n) if no column labels are provided\\n    dtype : dtype, default None\\n        Data type to force, otherwise infer\\n    copy : boolean, default False\\n        Copy data from inputs. Only affects DataFrame / 2d ndarray input\\n\\n    Examples\\n    --------\\n    >>> d = {'col1': ts1, 'col2': ts2}\\n    >>> df = DataFrame(data=d, index=index)\\n    >>> df2 = DataFrame(np.random.randn(10, 5))\\n    >>> df3 = DataFrame(np.random.randn(10, 5),\\n    ...                 columns=['a', 'b', 'c', 'd', 'e'])\\n\\n    See also\\n    --------\\n    DataFrame.from_records : constructor from tuples, also record arrays\\n    DataFrame.from_dict : from dicts of Series, arrays, or dicts\\n    DataFrame.from_items : from sequence of (key, value) pairs\\n    pandas.read_csv, pandas.read_table, pandas.read_clipboard\\n    \",\n",
       "              '__eq__': <function pandas.core.ops._comp_method_FRAME.<locals>.f>,\n",
       "              '__floordiv__': <function pandas.core.ops._arith_method_FRAME.<locals>.f>,\n",
       "              '__ge__': <function pandas.core.ops._comp_method_FRAME.<locals>.f>,\n",
       "              '__getitem__': <function pandas.core.frame.DataFrame.__getitem__>,\n",
       "              '__gt__': <function pandas.core.ops._comp_method_FRAME.<locals>.f>,\n",
       "              '__iadd__': <function pandas.core.ops.add_special_arithmetic_methods.<locals>._wrap_inplace_method.<locals>.f>,\n",
       "              '__imul__': <function pandas.core.ops.add_special_arithmetic_methods.<locals>._wrap_inplace_method.<locals>.f>,\n",
       "              '__init__': <function pandas.core.frame.DataFrame.__init__>,\n",
       "              '__ipow__': <function pandas.core.ops.add_special_arithmetic_methods.<locals>._wrap_inplace_method.<locals>.f>,\n",
       "              '__isub__': <function pandas.core.ops.add_special_arithmetic_methods.<locals>._wrap_inplace_method.<locals>.f>,\n",
       "              '__itruediv__': <function pandas.core.ops.add_special_arithmetic_methods.<locals>._wrap_inplace_method.<locals>.f>,\n",
       "              '__le__': <function pandas.core.ops._comp_method_FRAME.<locals>.f>,\n",
       "              '__len__': <function pandas.core.frame.DataFrame.__len__>,\n",
       "              '__lt__': <function pandas.core.ops._comp_method_FRAME.<locals>.f>,\n",
       "              '__mod__': <function pandas.core.ops._arith_method_FRAME.<locals>.f>,\n",
       "              '__module__': 'pandas.core.frame',\n",
       "              '__mul__': <function pandas.core.ops._arith_method_FRAME.<locals>.f>,\n",
       "              '__ne__': <function pandas.core.ops._comp_method_FRAME.<locals>.f>,\n",
       "              '__or__': <function pandas.core.ops._arith_method_FRAME.<locals>.f>,\n",
       "              '__pow__': <function pandas.core.ops._arith_method_FRAME.<locals>.f>,\n",
       "              '__radd__': <function pandas.core.ops._arith_method_FRAME.<locals>.f>,\n",
       "              '__rand__': <function pandas.core.ops._arith_method_FRAME.<locals>.f>,\n",
       "              '__rdiv__': <function pandas.core.ops._arith_method_FRAME.<locals>.f>,\n",
       "              '__rfloordiv__': <function pandas.core.ops._arith_method_FRAME.<locals>.f>,\n",
       "              '__rmod__': <function pandas.core.ops._arith_method_FRAME.<locals>.f>,\n",
       "              '__rmul__': <function pandas.core.ops._arith_method_FRAME.<locals>.f>,\n",
       "              '__ror__': <function pandas.core.ops._arith_method_FRAME.<locals>.f>,\n",
       "              '__rpow__': <function pandas.core.ops._arith_method_FRAME.<locals>.f>,\n",
       "              '__rsub__': <function pandas.core.ops._arith_method_FRAME.<locals>.f>,\n",
       "              '__rtruediv__': <function pandas.core.ops._arith_method_FRAME.<locals>.f>,\n",
       "              '__rxor__': <function pandas.core.ops._arith_method_FRAME.<locals>.f>,\n",
       "              '__setitem__': <function pandas.core.frame.DataFrame.__setitem__>,\n",
       "              '__sub__': <function pandas.core.ops._arith_method_FRAME.<locals>.f>,\n",
       "              '__truediv__': <function pandas.core.ops._arith_method_FRAME.<locals>.f>,\n",
       "              '__unicode__': <function pandas.core.frame.DataFrame.__unicode__>,\n",
       "              '__xor__': <function pandas.core.ops._arith_method_FRAME.<locals>.f>,\n",
       "              '_apply_broadcast': <function pandas.core.frame.DataFrame._apply_broadcast>,\n",
       "              '_apply_empty_result': <function pandas.core.frame.DataFrame._apply_empty_result>,\n",
       "              '_apply_raw': <function pandas.core.frame.DataFrame._apply_raw>,\n",
       "              '_apply_standard': <function pandas.core.frame.DataFrame._apply_standard>,\n",
       "              '_box_col_values': <function pandas.core.frame.DataFrame._box_col_values>,\n",
       "              '_box_item_values': <function pandas.core.frame.DataFrame._box_item_values>,\n",
       "              '_combine_const': <function pandas.core.frame.DataFrame._combine_const>,\n",
       "              '_combine_frame': <function pandas.core.frame.DataFrame._combine_frame>,\n",
       "              '_combine_match_columns': <function pandas.core.frame.DataFrame._combine_match_columns>,\n",
       "              '_combine_match_index': <function pandas.core.frame.DataFrame._combine_match_index>,\n",
       "              '_combine_series': <function pandas.core.frame.DataFrame._combine_series>,\n",
       "              '_combine_series_infer': <function pandas.core.frame.DataFrame._combine_series_infer>,\n",
       "              '_compare_frame': <function pandas.core.frame.DataFrame._compare_frame>,\n",
       "              '_compare_frame_evaluate': <function pandas.core.frame.DataFrame._compare_frame_evaluate>,\n",
       "              '_constructor': <property at 0x7f411966b408>,\n",
       "              '_constructor_expanddim': <property at 0x7f41148ade58>,\n",
       "              '_constructor_sliced': pandas.core.series.Series,\n",
       "              '_count_level': <function pandas.core.frame.DataFrame._count_level>,\n",
       "              '_ensure_valid_index': <function pandas.core.frame.DataFrame._ensure_valid_index>,\n",
       "              '_flex_compare_frame': <function pandas.core.frame.DataFrame._flex_compare_frame>,\n",
       "              '_from_arrays': <classmethod at 0x7f411966e2e8>,\n",
       "              '_get_agg_axis': <function pandas.core.frame.DataFrame._get_agg_axis>,\n",
       "              '_getitem_array': <function pandas.core.frame.DataFrame._getitem_array>,\n",
       "              '_getitem_column': <function pandas.core.frame.DataFrame._getitem_column>,\n",
       "              '_getitem_frame': <function pandas.core.frame.DataFrame._getitem_frame>,\n",
       "              '_getitem_multilevel': <function pandas.core.frame.DataFrame._getitem_multilevel>,\n",
       "              '_getitem_slice': <function pandas.core.frame.DataFrame._getitem_slice>,\n",
       "              '_info_axis_name': 'columns',\n",
       "              '_info_axis_number': 1,\n",
       "              '_info_repr': <function pandas.core.frame.DataFrame._info_repr>,\n",
       "              '_init_dict': <function pandas.core.frame.DataFrame._init_dict>,\n",
       "              '_init_ndarray': <function pandas.core.frame.DataFrame._init_ndarray>,\n",
       "              '_ix': None,\n",
       "              '_ixs': <function pandas.core.frame.DataFrame._ixs>,\n",
       "              '_join_compat': <function pandas.core.frame.DataFrame._join_compat>,\n",
       "              '_nsorted': <function pandas.core.frame.DataFrame._nsorted>,\n",
       "              '_reduce': <function pandas.core.frame.DataFrame._reduce>,\n",
       "              '_reindex_axes': <function pandas.core.frame.DataFrame._reindex_axes>,\n",
       "              '_reindex_columns': <function pandas.core.frame.DataFrame._reindex_columns>,\n",
       "              '_reindex_index': <function pandas.core.frame.DataFrame._reindex_index>,\n",
       "              '_reindex_multi': <function pandas.core.frame.DataFrame._reindex_multi>,\n",
       "              '_repr_fits_horizontal_': <function pandas.core.frame.DataFrame._repr_fits_horizontal_>,\n",
       "              '_repr_fits_vertical_': <function pandas.core.frame.DataFrame._repr_fits_vertical_>,\n",
       "              '_repr_html_': <function pandas.core.frame.DataFrame._repr_html_>,\n",
       "              '_sanitize_column': <function pandas.core.frame.DataFrame._sanitize_column>,\n",
       "              '_series': <property at 0x7f411463a728>,\n",
       "              '_set_item': <function pandas.core.frame.DataFrame._set_item>,\n",
       "              '_setitem_array': <function pandas.core.frame.DataFrame._setitem_array>,\n",
       "              '_setitem_frame': <function pandas.core.frame.DataFrame._setitem_frame>,\n",
       "              '_setitem_slice': <function pandas.core.frame.DataFrame._setitem_slice>,\n",
       "              '_stat_axis_name': 'index',\n",
       "              '_stat_axis_number': 0,\n",
       "              '_typ': 'dataframe',\n",
       "              '_unpickle_frame_compat': <function pandas.core.frame.DataFrame._unpickle_frame_compat>,\n",
       "              '_unpickle_matrix_compat': <function pandas.core.frame.DataFrame._unpickle_matrix_compat>,\n",
       "              'add': <function pandas.core.ops._arith_method_FRAME.<locals>.f>,\n",
       "              'align': <function pandas.core.frame.DataFrame.align>,\n",
       "              'all': <function pandas.core.generic.NDFrame._add_numeric_operations.<locals>._make_logical_function.<locals>.logical_func>,\n",
       "              'any': <function pandas.core.generic.NDFrame._add_numeric_operations.<locals>._make_logical_function.<locals>.logical_func>,\n",
       "              'append': <function pandas.core.frame.DataFrame.append>,\n",
       "              'apply': <function pandas.core.frame.DataFrame.apply>,\n",
       "              'applymap': <function pandas.core.frame.DataFrame.applymap>,\n",
       "              'assign': <function pandas.core.frame.DataFrame.assign>,\n",
       "              'axes': <property at 0x7f411463a638>,\n",
       "              'boxplot': <function pandas.core.frame.boxplot>,\n",
       "              'columns': <pandas.lib.AxisProperty at 0x7f411488d2b8>,\n",
       "              'combine': <function pandas.core.frame.DataFrame.combine>,\n",
       "              'combineAdd': <function pandas.core.frame.DataFrame.combineAdd>,\n",
       "              'combineMult': <function pandas.core.frame.DataFrame.combineMult>,\n",
       "              'combine_first': <function pandas.core.frame.DataFrame.combine_first>,\n",
       "              'compound': <function pandas.core.generic.NDFrame._add_numeric_operations.<locals>.compound>,\n",
       "              'corr': <function pandas.core.frame.DataFrame.corr>,\n",
       "              'corrwith': <function pandas.core.frame.DataFrame.corrwith>,\n",
       "              'count': <function pandas.core.frame.DataFrame.count>,\n",
       "              'cov': <function pandas.core.frame.DataFrame.cov>,\n",
       "              'cummax': <function pandas.core.generic.NDFrame._add_numeric_operations.<locals>._make_cum_function.<locals>.func>,\n",
       "              'cummin': <function pandas.core.generic.NDFrame._add_numeric_operations.<locals>._make_cum_function.<locals>.func>,\n",
       "              'cumprod': <function pandas.core.generic.NDFrame._add_numeric_operations.<locals>._make_cum_function.<locals>.func>,\n",
       "              'cumsum': <function pandas.core.generic.NDFrame._add_numeric_operations.<locals>._make_cum_function.<locals>.func>,\n",
       "              'diff': <function pandas.core.frame.DataFrame.diff>,\n",
       "              'div': <function pandas.core.ops._arith_method_FRAME.<locals>.f>,\n",
       "              'divide': <function pandas.core.ops._arith_method_FRAME.<locals>.f>,\n",
       "              'dot': <function pandas.core.frame.DataFrame.dot>,\n",
       "              'drop_duplicates': <function pandas.core.frame.DataFrame.drop_duplicates>,\n",
       "              'dropna': <function pandas.core.frame.DataFrame.dropna>,\n",
       "              'duplicated': <function pandas.core.frame.DataFrame.duplicated>,\n",
       "              'eq': <function pandas.core.ops._flex_comp_method_FRAME.<locals>.f>,\n",
       "              'eval': <function pandas.core.frame.DataFrame.eval>,\n",
       "              'fillna': <function pandas.core.frame.DataFrame.fillna>,\n",
       "              'first_valid_index': <function pandas.core.frame.DataFrame.first_valid_index>,\n",
       "              'floordiv': <function pandas.core.ops._arith_method_FRAME.<locals>.f>,\n",
       "              'from_csv': <classmethod at 0x7f41148b7978>,\n",
       "              'from_dict': <classmethod at 0x7f411966e160>,\n",
       "              'from_items': <classmethod at 0x7f411966e208>,\n",
       "              'from_records': <classmethod at 0x7f411966e1d0>,\n",
       "              'ge': <function pandas.core.ops._flex_comp_method_FRAME.<locals>.f>,\n",
       "              'get_value': <function pandas.core.frame.DataFrame.get_value>,\n",
       "              'gt': <function pandas.core.ops._flex_comp_method_FRAME.<locals>.f>,\n",
       "              'hist': <function pandas.tools.plotting.hist_frame>,\n",
       "              'icol': <function pandas.core.frame.DataFrame.icol>,\n",
       "              'idxmax': <function pandas.core.frame.DataFrame.idxmax>,\n",
       "              'idxmin': <function pandas.core.frame.DataFrame.idxmin>,\n",
       "              'iget_value': <function pandas.core.frame.DataFrame.iget_value>,\n",
       "              'index': <pandas.lib.AxisProperty at 0x7f411488d2a0>,\n",
       "              'info': <function pandas.core.frame.DataFrame.info>,\n",
       "              'insert': <function pandas.core.frame.DataFrame.insert>,\n",
       "              'irow': <function pandas.core.frame.DataFrame.irow>,\n",
       "              'isin': <function pandas.core.frame.DataFrame.isin>,\n",
       "              'items': <function pandas.core.frame.DataFrame.iteritems>,\n",
       "              'iteritems': <function pandas.core.frame.DataFrame.iteritems>,\n",
       "              'iterrows': <function pandas.core.frame.DataFrame.iterrows>,\n",
       "              'itertuples': <function pandas.core.frame.DataFrame.itertuples>,\n",
       "              'join': <function pandas.core.frame.DataFrame.join>,\n",
       "              'kurt': <function pandas.core.generic.NDFrame._add_numeric_operations.<locals>._make_stat_function.<locals>.stat_func>,\n",
       "              'kurtosis': <function pandas.core.generic.NDFrame._add_numeric_operations.<locals>._make_stat_function.<locals>.stat_func>,\n",
       "              'last_valid_index': <function pandas.core.frame.DataFrame.last_valid_index>,\n",
       "              'le': <function pandas.core.ops._flex_comp_method_FRAME.<locals>.f>,\n",
       "              'lookup': <function pandas.core.frame.DataFrame.lookup>,\n",
       "              'lt': <function pandas.core.ops._flex_comp_method_FRAME.<locals>.f>,\n",
       "              'mad': <function pandas.core.generic.NDFrame._add_numeric_operations.<locals>.mad>,\n",
       "              'max': <function pandas.core.generic.NDFrame._add_numeric_operations.<locals>._make_stat_function.<locals>.stat_func>,\n",
       "              'mean': <function pandas.core.generic.NDFrame._add_numeric_operations.<locals>._make_stat_function.<locals>.stat_func>,\n",
       "              'median': <function pandas.core.generic.NDFrame._add_numeric_operations.<locals>._make_stat_function.<locals>.stat_func>,\n",
       "              'memory_usage': <function pandas.core.frame.DataFrame.memory_usage>,\n",
       "              'merge': <function pandas.core.frame.DataFrame.merge>,\n",
       "              'min': <function pandas.core.generic.NDFrame._add_numeric_operations.<locals>._make_stat_function.<locals>.stat_func>,\n",
       "              'mod': <function pandas.core.ops._arith_method_FRAME.<locals>.f>,\n",
       "              'mode': <function pandas.core.frame.DataFrame.mode>,\n",
       "              'mul': <function pandas.core.ops._arith_method_FRAME.<locals>.f>,\n",
       "              'multiply': <function pandas.core.ops._arith_method_FRAME.<locals>.f>,\n",
       "              'ne': <function pandas.core.ops._flex_comp_method_FRAME.<locals>.f>,\n",
       "              'nlargest': <function pandas.core.frame.DataFrame.nlargest>,\n",
       "              'nsmallest': <function pandas.core.frame.DataFrame.nsmallest>,\n",
       "              'pivot': <function pandas.core.frame.DataFrame.pivot>,\n",
       "              'pivot_table': <function pandas.tools.pivot.pivot_table>,\n",
       "              'plot': <pandas.core.base.AccessorProperty at 0x7f41146442b0>,\n",
       "              'pow': <function pandas.core.ops._arith_method_FRAME.<locals>.f>,\n",
       "              'prod': <function pandas.core.generic.NDFrame._add_numeric_operations.<locals>._make_stat_function.<locals>.stat_func>,\n",
       "              'product': <function pandas.core.generic.NDFrame._add_numeric_operations.<locals>._make_stat_function.<locals>.stat_func>,\n",
       "              'quantile': <function pandas.core.frame.DataFrame.quantile>,\n",
       "              'query': <function pandas.core.frame.DataFrame.query>,\n",
       "              'radd': <function pandas.core.ops._arith_method_FRAME.<locals>.f>,\n",
       "              'rank': <function pandas.core.frame.DataFrame.rank>,\n",
       "              'rdiv': <function pandas.core.ops._arith_method_FRAME.<locals>.f>,\n",
       "              'reindex': <function pandas.core.frame.DataFrame.reindex>,\n",
       "              'reindex_axis': <function pandas.core.frame.DataFrame.reindex_axis>,\n",
       "              'rename': <function pandas.core.frame.DataFrame.rename>,\n",
       "              'reorder_levels': <function pandas.core.frame.DataFrame.reorder_levels>,\n",
       "              'reset_index': <function pandas.core.frame.DataFrame.reset_index>,\n",
       "              'rfloordiv': <function pandas.core.ops._arith_method_FRAME.<locals>.f>,\n",
       "              'rmod': <function pandas.core.ops._arith_method_FRAME.<locals>.f>,\n",
       "              'rmul': <function pandas.core.ops._arith_method_FRAME.<locals>.f>,\n",
       "              'round': <function pandas.core.frame.DataFrame.round>,\n",
       "              'rpow': <function pandas.core.ops._arith_method_FRAME.<locals>.f>,\n",
       "              'rsub': <function pandas.core.ops._arith_method_FRAME.<locals>.f>,\n",
       "              'rtruediv': <function pandas.core.ops._arith_method_FRAME.<locals>.f>,\n",
       "              'select_dtypes': <function pandas.core.frame.DataFrame.select_dtypes>,\n",
       "              'sem': <function pandas.core.generic.NDFrame._add_numeric_operations.<locals>._make_stat_function_ddof.<locals>.stat_func>,\n",
       "              'set_index': <function pandas.core.frame.DataFrame.set_index>,\n",
       "              'set_value': <function pandas.core.frame.DataFrame.set_value>,\n",
       "              'shape': <property at 0x7f411463a688>,\n",
       "              'shift': <function pandas.core.frame.DataFrame.shift>,\n",
       "              'skew': <function pandas.core.generic.NDFrame._add_numeric_operations.<locals>._make_stat_function.<locals>.stat_func>,\n",
       "              'sort': <function pandas.core.frame.DataFrame.sort>,\n",
       "              'sort_index': <function pandas.core.frame.DataFrame.sort_index>,\n",
       "              'sort_values': <function pandas.core.frame.DataFrame.sort_values>,\n",
       "              'sortlevel': <function pandas.core.frame.DataFrame.sortlevel>,\n",
       "              'stack': <function pandas.core.frame.DataFrame.stack>,\n",
       "              'std': <function pandas.core.generic.NDFrame._add_numeric_operations.<locals>._make_stat_function_ddof.<locals>.stat_func>,\n",
       "              'sub': <function pandas.core.ops._arith_method_FRAME.<locals>.f>,\n",
       "              'subtract': <function pandas.core.ops._arith_method_FRAME.<locals>.f>,\n",
       "              'sum': <function pandas.core.generic.NDFrame._add_numeric_operations.<locals>._make_stat_function.<locals>.stat_func>,\n",
       "              'swaplevel': <function pandas.core.frame.DataFrame.swaplevel>,\n",
       "              'to_csv': <function pandas.core.frame.DataFrame.to_csv>,\n",
       "              'to_dict': <function pandas.core.frame.DataFrame.to_dict>,\n",
       "              'to_excel': <function pandas.core.frame.DataFrame.to_excel>,\n",
       "              'to_gbq': <function pandas.core.frame.DataFrame.to_gbq>,\n",
       "              'to_html': <function pandas.core.frame.DataFrame.to_html>,\n",
       "              'to_latex': <function pandas.core.frame.DataFrame.to_latex>,\n",
       "              'to_panel': <function pandas.core.frame.DataFrame.to_panel>,\n",
       "              'to_period': <function pandas.core.frame.DataFrame.to_period>,\n",
       "              'to_records': <function pandas.core.frame.DataFrame.to_records>,\n",
       "              'to_sparse': <function pandas.core.frame.DataFrame.to_sparse>,\n",
       "              'to_stata': <function pandas.core.frame.DataFrame.to_stata>,\n",
       "              'to_string': <function pandas.core.frame.DataFrame.to_string>,\n",
       "              'to_timestamp': <function pandas.core.frame.DataFrame.to_timestamp>,\n",
       "              'to_wide': <function pandas.util.decorators.deprecate.<locals>.wrapper>,\n",
       "              'transpose': <function pandas.core.frame.DataFrame.transpose>,\n",
       "              'truediv': <function pandas.core.ops._arith_method_FRAME.<locals>.f>,\n",
       "              'unstack': <function pandas.core.frame.DataFrame.unstack>,\n",
       "              'update': <function pandas.core.frame.DataFrame.update>,\n",
       "              'var': <function pandas.core.generic.NDFrame._add_numeric_operations.<locals>._make_stat_function_ddof.<locals>.stat_func>})"
      ]
     },
     "execution_count": 290,
     "metadata": {},
     "output_type": "execute_result"
    }
   ],
   "source": [
    "pandas.DataFrame.__dict__"
   ]
  },
  {
   "cell_type": "code",
   "execution_count": 291,
   "metadata": {
    "collapsed": true
   },
   "outputs": [],
   "source": [
    "subset = data.loc[:, \"num_coop\":\"num_defect\"]"
   ]
  },
  {
   "cell_type": "code",
   "execution_count": 292,
   "metadata": {
    "collapsed": false
   },
   "outputs": [
    {
     "data": {
      "text/html": [
       "<div>\n",
       "<table border=\"1\" class=\"dataframe\">\n",
       "  <thead>\n",
       "    <tr style=\"text-align: right;\">\n",
       "      <th></th>\n",
       "      <th>num_coop</th>\n",
       "      <th>num_defect</th>\n",
       "    </tr>\n",
       "  </thead>\n",
       "  <tbody>\n",
       "    <tr>\n",
       "      <th>0</th>\n",
       "      <td>4838</td>\n",
       "      <td>1562</td>\n",
       "    </tr>\n",
       "    <tr>\n",
       "      <th>1</th>\n",
       "      <td>5745</td>\n",
       "      <td>655</td>\n",
       "    </tr>\n",
       "    <tr>\n",
       "      <th>2</th>\n",
       "      <td>6172</td>\n",
       "      <td>228</td>\n",
       "    </tr>\n",
       "    <tr>\n",
       "      <th>3</th>\n",
       "      <td>6345</td>\n",
       "      <td>55</td>\n",
       "    </tr>\n",
       "    <tr>\n",
       "      <th>4</th>\n",
       "      <td>6390</td>\n",
       "      <td>10</td>\n",
       "    </tr>\n",
       "    <tr>\n",
       "      <th>5</th>\n",
       "      <td>6393</td>\n",
       "      <td>7</td>\n",
       "    </tr>\n",
       "    <tr>\n",
       "      <th>6</th>\n",
       "      <td>6393</td>\n",
       "      <td>7</td>\n",
       "    </tr>\n",
       "    <tr>\n",
       "      <th>7</th>\n",
       "      <td>6393</td>\n",
       "      <td>7</td>\n",
       "    </tr>\n",
       "    <tr>\n",
       "      <th>8</th>\n",
       "      <td>6393</td>\n",
       "      <td>7</td>\n",
       "    </tr>\n",
       "    <tr>\n",
       "      <th>9</th>\n",
       "      <td>6393</td>\n",
       "      <td>7</td>\n",
       "    </tr>\n",
       "    <tr>\n",
       "      <th>10</th>\n",
       "      <td>6393</td>\n",
       "      <td>7</td>\n",
       "    </tr>\n",
       "  </tbody>\n",
       "</table>\n",
       "</div>"
      ],
      "text/plain": [
       "    num_coop  num_defect\n",
       "0       4838        1562\n",
       "1       5745         655\n",
       "2       6172         228\n",
       "3       6345          55\n",
       "4       6390          10\n",
       "5       6393           7\n",
       "6       6393           7\n",
       "7       6393           7\n",
       "8       6393           7\n",
       "9       6393           7\n",
       "10      6393           7"
      ]
     },
     "execution_count": 292,
     "metadata": {},
     "output_type": "execute_result"
    }
   ],
   "source": [
    "subset"
   ]
  },
  {
   "cell_type": "code",
   "execution_count": 293,
   "metadata": {
    "collapsed": true
   },
   "outputs": [],
   "source": [
    "averages = subset.mean()"
   ]
  },
  {
   "cell_type": "code",
   "execution_count": 294,
   "metadata": {
    "collapsed": false
   },
   "outputs": [
    {
     "data": {
      "text/plain": [
       "num_coop      6168\n",
       "num_defect     232\n",
       "dtype: float64"
      ]
     },
     "execution_count": 294,
     "metadata": {},
     "output_type": "execute_result"
    }
   ],
   "source": [
    "averages"
   ]
  },
  {
   "cell_type": "code",
   "execution_count": 296,
   "metadata": {
    "collapsed": false
   },
   "outputs": [
    {
     "data": {
      "text/plain": [
       "<matplotlib.axes._subplots.AxesSubplot at 0x7f410dca1710>"
      ]
     },
     "execution_count": 296,
     "metadata": {},
     "output_type": "execute_result"
    },
    {
     "data": {
      "image/png": "[encoded data removed]",
      "text/plain": [
       "<matplotlib.figure.Figure at 0x7f410dc5ad68>"
      ]
     },
     "metadata": {},
     "output_type": "display_data"
    }
   ],
   "source": [
    "averages.plot.bar()"
   ]
  },
  {
   "cell_type": "code",
   "execution_count": 298,
   "metadata": {
    "collapsed": false
   },
   "outputs": [
    {
     "data": {
      "text/plain": [
       "<matplotlib.axes._subplots.AxesSubplot at 0x7f410d777c50>"
      ]
     },
     "execution_count": 298,
     "metadata": {},
     "output_type": "execute_result"
    },
    {
     "data": {
      "image/png": "[encoded data removed]",
      "text/plain": [
       "<matplotlib.figure.Figure at 0x7f410d78d940>"
      ]
     },
     "metadata": {},
     "output_type": "display_data"
    }
   ],
   "source": [
    "data.plot.bar(stacked=True, logy=True, x=\"time\")"
   ]
  },
  {
   "cell_type": "code",
   "execution_count": 299,
   "metadata": {
    "collapsed": false
   },
   "outputs": [
    {
     "data": {
      "text/plain": [
       "<matplotlib.axes._subplots.AxesSubplot at 0x7f410da6fcf8>"
      ]
     },
     "execution_count": 299,
     "metadata": {},
     "output_type": "execute_result"
    },
    {
     "data": {
      "image/png": "[encoded data removed]",
      "text/plain": [
       "<matplotlib.figure.Figure at 0x7f410d6964a8>"
      ]
     },
     "metadata": {},
     "output_type": "display_data"
    }
   ],
   "source": [
    "data.plot.scatter(x=\"num_coop\", y=\"num_defect\")"
   ]
  },
  {
   "cell_type": "code",
   "execution_count": 302,
   "metadata": {
    "collapsed": false
   },
   "outputs": [],
   "source": [
    "transposed = data.T"
   ]
  },
  {
   "cell_type": "code",
   "execution_count": null,
   "metadata": {
    "collapsed": true
   },
   "outputs": [],
   "source": []
  },
  {
   "cell_type": "code",
   "execution_count": 305,
   "metadata": {
    "collapsed": false
   },
   "outputs": [],
   "source": [
    "transposed.columns = [\"otter\", \"bunny\", \"ferret\", \"dolphin\", \"magpie\", \"lobster\", \"elephant\", \"giraffe\", \"northern goshawk\", \"snail\", \"hippo\"]"
   ]
  },
  {
   "cell_type": "code",
   "execution_count": 306,
   "metadata": {
    "collapsed": false
   },
   "outputs": [
    {
     "data": {
      "text/html": [
       "<div>\n",
       "<table border=\"1\" class=\"dataframe\">\n",
       "  <thead>\n",
       "    <tr style=\"text-align: right;\">\n",
       "      <th></th>\n",
       "      <th>otter</th>\n",
       "      <th>bunny</th>\n",
       "      <th>ferret</th>\n",
       "      <th>dolphin</th>\n",
       "      <th>magpie</th>\n",
       "      <th>lobster</th>\n",
       "      <th>elephant</th>\n",
       "      <th>giraffe</th>\n",
       "      <th>northern goshawk</th>\n",
       "      <th>snail</th>\n",
       "      <th>hippo</th>\n",
       "    </tr>\n",
       "  </thead>\n",
       "  <tbody>\n",
       "    <tr>\n",
       "      <th>time</th>\n",
       "      <td>0</td>\n",
       "      <td>10</td>\n",
       "      <td>20</td>\n",
       "      <td>30</td>\n",
       "      <td>40</td>\n",
       "      <td>50</td>\n",
       "      <td>60</td>\n",
       "      <td>70</td>\n",
       "      <td>80</td>\n",
       "      <td>90</td>\n",
       "      <td>100</td>\n",
       "    </tr>\n",
       "    <tr>\n",
       "      <th>num_coop</th>\n",
       "      <td>4838</td>\n",
       "      <td>5745</td>\n",
       "      <td>6172</td>\n",
       "      <td>6345</td>\n",
       "      <td>6390</td>\n",
       "      <td>6393</td>\n",
       "      <td>6393</td>\n",
       "      <td>6393</td>\n",
       "      <td>6393</td>\n",
       "      <td>6393</td>\n",
       "      <td>6393</td>\n",
       "    </tr>\n",
       "    <tr>\n",
       "      <th>num_defect</th>\n",
       "      <td>1562</td>\n",
       "      <td>655</td>\n",
       "      <td>228</td>\n",
       "      <td>55</td>\n",
       "      <td>10</td>\n",
       "      <td>7</td>\n",
       "      <td>7</td>\n",
       "      <td>7</td>\n",
       "      <td>7</td>\n",
       "      <td>7</td>\n",
       "      <td>7</td>\n",
       "    </tr>\n",
       "  </tbody>\n",
       "</table>\n",
       "</div>"
      ],
      "text/plain": [
       "            otter  bunny  ferret  dolphin  magpie  lobster  elephant  giraffe  \\\n",
       "time            0     10      20       30      40       50        60       70   \n",
       "num_coop     4838   5745    6172     6345    6390     6393      6393     6393   \n",
       "num_defect   1562    655     228       55      10        7         7        7   \n",
       "\n",
       "            northern goshawk  snail  hippo  \n",
       "time                      80     90    100  \n",
       "num_coop                6393   6393   6393  \n",
       "num_defect                 7      7      7  "
      ]
     },
     "execution_count": 306,
     "metadata": {},
     "output_type": "execute_result"
    }
   ],
   "source": [
    "transposed"
   ]
  },
  {
   "cell_type": "code",
   "execution_count": 307,
   "metadata": {
    "collapsed": true
   },
   "outputs": [],
   "source": [
    "def convert_string_to_list(input_string):\n",
    "    new_list = []\n",
    "    \n",
    "    split_string = input_string.split(\",\")\n",
    "    \n",
    "    \n",
    "    "
   ]
  },
  {
   "cell_type": "code",
   "execution_count": 308,
   "metadata": {
    "collapsed": false
   },
   "outputs": [
    {
     "name": "stdout",
     "output_type": "stream",
     "text": [
      "Im running the code in convert_string_to_list\n"
     ]
    }
   ],
   "source": [
    "convert_string_to_list(\"4,5,6\")"
   ]
  },
  {
   "cell_type": "code",
   "execution_count": 309,
   "metadata": {
    "collapsed": false
   },
   "outputs": [
    {
     "data": {
      "text/plain": [
       "['4', '5', '6']"
      ]
     },
     "execution_count": 309,
     "metadata": {},
     "output_type": "execute_result"
    }
   ],
   "source": [
    "\"4,5,6\".split(\",\")"
   ]
  },
  {
   "cell_type": "code",
   "execution_count": 310,
   "metadata": {
    "collapsed": false
   },
   "outputs": [
    {
     "data": {
      "text/plain": [
       "['4', '5', '6']"
      ]
     },
     "execution_count": 310,
     "metadata": {},
     "output_type": "execute_result"
    }
   ],
   "source": [
    "\"4,:5,:6\".split(\",:\")"
   ]
  },
  {
   "cell_type": "code",
   "execution_count": 312,
   "metadata": {
    "collapsed": false
   },
   "outputs": [
    {
     "data": {
      "text/plain": [
       "['4', '5:6']"
      ]
     },
     "execution_count": 312,
     "metadata": {},
     "output_type": "execute_result"
    }
   ],
   "source": [
    "\"4,5:6\".split(\",\")"
   ]
  },
  {
   "cell_type": "code",
   "execution_count": 313,
   "metadata": {
    "collapsed": false
   },
   "outputs": [
    {
     "name": "stdout",
     "output_type": "stream",
     "text": [
      "num_string is 4\n",
      "new_string is 4\n",
      "list_of_numbers is []\n",
      "num_string is 5:6\n",
      "new_string is 5\n",
      "list_of_numbers is ['4']\n",
      "num_string is 5:6\n",
      "new_string is 6\n",
      "list_of_numbers is ['4', '5']\n"
     ]
    }
   ],
   "source": [
    "list_of_numbers = []\n",
    "for num_string in \"4,5:6\".split(\",\"):\n",
    "    for new_string in num_string.split(\":\"):\n",
    "        print(\"num_string is\", num_string)\n",
    "        print(\"new_string is\", new_string)\n",
    "        print(\"list_of_numbers is\", list_of_numbers)\n",
    "        list_of_numbers.append(new_string)\n",
    "        "
   ]
  },
  {
   "cell_type": "code",
   "execution_count": 314,
   "metadata": {
    "collapsed": false
   },
   "outputs": [
    {
     "data": {
      "text/plain": [
       "['4', '5', '6']"
      ]
     },
     "execution_count": 314,
     "metadata": {},
     "output_type": "execute_result"
    }
   ],
   "source": [
    "list_of_numbers"
   ]
  },
  {
   "cell_type": "code",
   "execution_count": 315,
   "metadata": {
    "collapsed": true
   },
   "outputs": [],
   "source": [
    "def convert_string_to_list(input_string):\n",
    "    new_list = []\n",
    "    \n",
    "    split_string = input_string.split(\",\")\n",
    "    for number in split_string:\n",
    "        new_list.append(int(number))\n",
    "    \n",
    "    return new_list"
   ]
  },
  {
   "cell_type": "code",
   "execution_count": 316,
   "metadata": {
    "collapsed": false
   },
   "outputs": [
    {
     "data": {
      "text/plain": [
       "[4, 5, 6]"
      ]
     },
     "execution_count": 316,
     "metadata": {},
     "output_type": "execute_result"
    }
   ],
   "source": [
    "convert_string_to_list(\"4,5,6\")"
   ]
  },
  {
   "cell_type": "code",
   "execution_count": 325,
   "metadata": {
    "collapsed": false
   },
   "outputs": [
    {
     "data": {
      "text/plain": [
       "4.0"
      ]
     },
     "execution_count": 325,
     "metadata": {},
     "output_type": "execute_result"
    }
   ],
   "source": [
    "float(\"4.0\")"
   ]
  },
  {
   "cell_type": "code",
   "execution_count": null,
   "metadata": {
    "collapsed": true
   },
   "outputs": [],
   "source": [
    "data_file = open(\"Desktop/intermediatefiles/0009021/0009021.cluster.aa.fa.aln.nt.phy.trim.paml.model2\", \"r\")\n",
    "data_lines = []\n",
    "dn_over_ds = []\n",
    "dn = []\n",
    "ds = []\n",
    "\n",
    "for i, line in enumerate(data_file):\n",
    "    if line.strip() == \"Nei & Gojobori 1986. dN/dS (dN, dS)\":\n",
    "        data_lines = list(range(i+4, i+9))\n",
    "        \n",
    "    if i in data_lines:\n",
    "        line = line.split()\n",
    "        line = line[1:]\n",
    "        \n",
    "        # Convert the list of strings to a list of ints\n",
    "        # this requires removing any parentheses in the strings\n",
    "        \n",
    "        for j in range(len(line)):\n",
    "            line[j] = float(line[j].strip(\"()\"))\n",
    "        \n",
    "        #\n",
    "        \n",
    "        for j in range(0, len(line), 3):\n",
    "            dn_over_ds.append(line[j])\n",
    "            \n",
    "        for j in range(1, len(line), 3):\n",
    "            dn.append(line[j])\n",
    "            \n",
    "        for j in range(2, len(line), 3):\n",
    "            ds.append(line[j])\n",
    "\n",
    "print(dn_over_ds)\n",
    "print(dn)\n",
    "print(ds)\n",
    "data_file.close()"
   ]
  },
  {
   "cell_type": "code",
   "execution_count": 326,
   "metadata": {
    "collapsed": true
   },
   "outputs": [],
   "source": [
    "line = \"A125421              0.0672 (0.1723 2.5644) 0.0512 (0.1204 2.3497) 0.6589 (0.1065 0.1617)\""
   ]
  },
  {
   "cell_type": "code",
   "execution_count": 328,
   "metadata": {
    "collapsed": false
   },
   "outputs": [
    {
     "data": {
      "text/plain": [
       "['0.0672',\n",
       " '(0.1723',\n",
       " '2.5644)',\n",
       " '0.0512',\n",
       " '(0.1204',\n",
       " '2.3497)',\n",
       " '0.6589',\n",
       " '(0.1065',\n",
       " '0.1617)']"
      ]
     },
     "execution_count": 328,
     "metadata": {},
     "output_type": "execute_result"
    }
   ],
   "source": [
    "line = line.split()\n",
    "line[1:]"
   ]
  },
  {
   "cell_type": "code",
   "execution_count": 329,
   "metadata": {
    "collapsed": true
   },
   "outputs": [],
   "source": [
    "def clean_list(input_list):\n",
    "    \n",
    "    new_list = []\n",
    "    for item in input_list:\n",
    "        item = item.strip(\"()\")\n",
    "        new_list.append(float(item))\n",
    "        \n",
    "    return new_list\n",
    "    "
   ]
  },
  {
   "cell_type": "code",
   "execution_count": 337,
   "metadata": {
    "collapsed": false
   },
   "outputs": [
    {
     "name": "stdout",
     "output_type": "stream",
     "text": [
      "[0.5516, 0.0795, 0.0805, 0.0672, 0.0512, 0.6589]\n",
      "[0.1125, 0.1445, 0.1795, 0.1723, 0.1204, 0.1065]\n",
      "[0.2039, 1.8175, 2.2292, 2.5644, 2.3497, 0.1617]\n",
      "['A50449', 'A18886', 'A91165', 'A125421']\n"
     ]
    }
   ],
   "source": [
    "data_file = open(\"Desktop/intermediatefiles/0009021/0009021.cluster.aa.fa.aln.nt.phy.trim.paml.model2\", \"r\")\n",
    "data_lines = []\n",
    "dn_over_ds = []\n",
    "dn = []\n",
    "ds = []\n",
    "labels = []\n",
    "\n",
    "\n",
    "for i, line in enumerate(data_file):\n",
    "    if line.strip() == \"Nei & Gojobori 1986. dN/dS (dN, dS)\":\n",
    "        data_lines = list(range(i+4, i+8))\n",
    "        \n",
    "    if i in data_lines:\n",
    "        line = line.split()\n",
    "        label = line[0]\n",
    "        labels.append(label)\n",
    "        line = line[1:]\n",
    "        \n",
    "        # Convert the list of strings to a list of ints\n",
    "        # this requires removing any parentheses in the strings\n",
    "        line = clean_list(line)\n",
    "        \n",
    "        #The first value on the line is dn/ds\n",
    "        # every third value after that is dn/ds\n",
    "        for j in range(0, len(line), 3):\n",
    "            dn_over_ds.append(line[j])\n",
    "        \n",
    "        #The second value on the line is dn\n",
    "        # every third value after that is also dn\n",
    "        for j in range(1, len(line), 3):\n",
    "            dn.append(line[j])\n",
    "            \n",
    "        for j in range(2, len(line), 3):\n",
    "            ds.append(line[j])\n",
    "\n",
    "print(dn_over_ds)\n",
    "print(dn)\n",
    "print(ds)\n",
    "print(labels)\n",
    "data_file.close()"
   ]
  },
  {
   "cell_type": "code",
   "execution_count": 330,
   "metadata": {
    "collapsed": false
   },
   "outputs": [
    {
     "data": {
      "text/plain": [
       "[0, 3, 6, 9]"
      ]
     },
     "execution_count": 330,
     "metadata": {},
     "output_type": "execute_result"
    }
   ],
   "source": [
    "list(range(0, 10, 3))\n",
    "    "
   ]
  },
  {
   "cell_type": "code",
   "execution_count": 331,
   "metadata": {
    "collapsed": false
   },
   "outputs": [
    {
     "data": {
      "text/plain": [
       "[0, 3, 6]"
      ]
     },
     "execution_count": 331,
     "metadata": {},
     "output_type": "execute_result"
    }
   ],
   "source": [
    "list(range(0, 9, 3))"
   ]
  },
  {
   "cell_type": "code",
   "execution_count": 332,
   "metadata": {
    "collapsed": false
   },
   "outputs": [
    {
     "data": {
      "text/plain": [
       "[1, 4, 7]"
      ]
     },
     "execution_count": 332,
     "metadata": {},
     "output_type": "execute_result"
    }
   ],
   "source": [
    "list(range(1, 9, 3))"
   ]
  },
  {
   "cell_type": "code",
   "execution_count": 338,
   "metadata": {
    "collapsed": true
   },
   "outputs": [],
   "source": [
    "def get_row_labels(labels):\n",
    "    row_labels = []\n",
    "    \n",
    "    for i,label in enumerate(labels):\n",
    "        if i == 0:\n",
    "            continue\n",
    "        elif i == 1:\n",
    "            row_labels.append(label)\n",
    "        elif i == 2:\n",
    "            row_labels.append(label)\n",
    "            row_labels.append(label)\n",
    "        elif i == 3:\n",
    "            row_labels.append(label)\n",
    "            row_labels.append(label)\n",
    "            row_labels.append(label)\n",
    "    return row_labels"
   ]
  },
  {
   "cell_type": "code",
   "execution_count": 339,
   "metadata": {
    "collapsed": false
   },
   "outputs": [
    {
     "data": {
      "text/plain": [
       "['A18886', 'A91165', 'A91165', 'A125421', 'A125421', 'A125421']"
      ]
     },
     "execution_count": 339,
     "metadata": {},
     "output_type": "execute_result"
    }
   ],
   "source": [
    "get_row_labels(['A50449', 'A18886', 'A91165', 'A125421'])"
   ]
  },
  {
   "cell_type": "code",
   "execution_count": 340,
   "metadata": {
    "collapsed": true
   },
   "outputs": [],
   "source": [
    "def get_row_labels(labels):\n",
    "    row_labels = []\n",
    "    \n",
    "    for i,label in enumerate(labels):\n",
    "        for _ in range(i):\n",
    "            row_labels.append(label)\n",
    "    return row_labels"
   ]
  },
  {
   "cell_type": "code",
   "execution_count": 341,
   "metadata": {
    "collapsed": false
   },
   "outputs": [
    {
     "data": {
      "text/plain": [
       "['A18886', 'A91165', 'A91165', 'A125421', 'A125421', 'A125421']"
      ]
     },
     "execution_count": 341,
     "metadata": {},
     "output_type": "execute_result"
    }
   ],
   "source": [
    "get_row_labels(['A50449', 'A18886', 'A91165', 'A125421'])"
   ]
  },
  {
   "cell_type": "code",
   "execution_count": null,
   "metadata": {
    "collapsed": true
   },
   "outputs": [],
   "source": [
    "# Level 1: Try to come up with a general rule for column labels\n",
    "\n",
    "# Level 2: Write a function that takes a list of labels and returns\n",
    "# the sequence of column labels"
   ]
  },
  {
   "cell_type": "code",
   "execution_count": 344,
   "metadata": {
    "collapsed": true
   },
   "outputs": [],
   "source": [
    "def get_col_labels(labels):\n",
    "    col_labels = []\n",
    "    \n",
    "    for i,label in enumerate(labels):\n",
    "        print(\"Starting loop\", i, label)\n",
    "        print(labels[i+1])\n",
    "        if i == 0:\n",
    "            col_labels.append(label)\n",
    "            col_labels.append(label)\n",
    "        elif i == 1:\n",
    "            col_labels.append(label)\n",
    "        if i == 0:\n",
    "            col_labels.append(label)\n",
    "            \n",
    "        print(\"ending loop. col_labels is now\", col_labels)"
   ]
  },
  {
   "cell_type": "code",
   "execution_count": 345,
   "metadata": {
    "collapsed": false
   },
   "outputs": [
    {
     "name": "stdout",
     "output_type": "stream",
     "text": [
      "Starting loop 0 A50449\n",
      "A18886\n",
      "ending loop. col_labels is now ['A50449', 'A50449', 'A50449']\n",
      "Starting loop 1 A18886\n",
      "A91165\n",
      "ending loop. col_labels is now ['A50449', 'A50449', 'A50449', 'A18886']\n",
      "Starting loop 2 A91165\n",
      "A125421\n",
      "ending loop. col_labels is now ['A50449', 'A50449', 'A50449', 'A18886']\n",
      "Starting loop 3 A125421\n"
     ]
    },
    {
     "ename": "IndexError",
     "evalue": "list index out of range",
     "output_type": "error",
     "traceback": [
      "\u001b[0;31m---------------------------------------------------------------------------\u001b[0m",
      "\u001b[0;31mIndexError\u001b[0m                                Traceback (most recent call last)",
      "\u001b[0;32m<ipython-input-345-4a2964872256>\u001b[0m in \u001b[0;36m<module>\u001b[0;34m()\u001b[0m\n\u001b[0;32m----> 1\u001b[0;31m \u001b[0mget_col_labels\u001b[0m\u001b[0;34m(\u001b[0m\u001b[0;34m[\u001b[0m\u001b[0;34m'A50449'\u001b[0m\u001b[0;34m,\u001b[0m \u001b[0;34m'A18886'\u001b[0m\u001b[0;34m,\u001b[0m \u001b[0;34m'A91165'\u001b[0m\u001b[0;34m,\u001b[0m \u001b[0;34m'A125421'\u001b[0m\u001b[0;34m]\u001b[0m\u001b[0;34m)\u001b[0m\u001b[0;34m\u001b[0m\u001b[0m\n\u001b[0m",
      "\u001b[0;32m<ipython-input-344-254263948edd>\u001b[0m in \u001b[0;36mget_col_labels\u001b[0;34m(labels)\u001b[0m\n\u001b[1;32m      4\u001b[0m     \u001b[0;32mfor\u001b[0m \u001b[0mi\u001b[0m\u001b[0;34m,\u001b[0m\u001b[0mlabel\u001b[0m \u001b[0;32min\u001b[0m \u001b[0menumerate\u001b[0m\u001b[0;34m(\u001b[0m\u001b[0mlabels\u001b[0m\u001b[0;34m)\u001b[0m\u001b[0;34m:\u001b[0m\u001b[0;34m\u001b[0m\u001b[0m\n\u001b[1;32m      5\u001b[0m         \u001b[0mprint\u001b[0m\u001b[0;34m(\u001b[0m\u001b[0;34m\"Starting loop\"\u001b[0m\u001b[0;34m,\u001b[0m \u001b[0mi\u001b[0m\u001b[0;34m,\u001b[0m \u001b[0mlabel\u001b[0m\u001b[0;34m)\u001b[0m\u001b[0;34m\u001b[0m\u001b[0m\n\u001b[0;32m----> 6\u001b[0;31m         \u001b[0mprint\u001b[0m\u001b[0;34m(\u001b[0m\u001b[0mlabels\u001b[0m\u001b[0;34m[\u001b[0m\u001b[0mi\u001b[0m\u001b[0;34m+\u001b[0m\u001b[0;36m1\u001b[0m\u001b[0;34m]\u001b[0m\u001b[0;34m)\u001b[0m\u001b[0;34m\u001b[0m\u001b[0m\n\u001b[0m\u001b[1;32m      7\u001b[0m         \u001b[0;32mif\u001b[0m \u001b[0mi\u001b[0m \u001b[0;34m==\u001b[0m \u001b[0;36m0\u001b[0m\u001b[0;34m:\u001b[0m\u001b[0;34m\u001b[0m\u001b[0m\n\u001b[1;32m      8\u001b[0m             \u001b[0mcol_labels\u001b[0m\u001b[0;34m.\u001b[0m\u001b[0mappend\u001b[0m\u001b[0;34m(\u001b[0m\u001b[0mlabel\u001b[0m\u001b[0;34m)\u001b[0m\u001b[0;34m\u001b[0m\u001b[0m\n",
      "\u001b[0;31mIndexError\u001b[0m: list index out of range"
     ]
    }
   ],
   "source": [
    "get_col_labels(['A50449', 'A18886', 'A91165', 'A125421'])"
   ]
  },
  {
   "cell_type": "code",
   "execution_count": 357,
   "metadata": {
    "collapsed": true
   },
   "outputs": [],
   "source": [
    "def get_col_labels(labels):\n",
    "    col_labels = []\n",
    "    \n",
    "    for i in range(len(labels)-1):\n",
    "        #print(labels[0:i+1])\n",
    "        #col_labels.append(labels[0:i+1])\n",
    "        col_labels.extend(labels[0:i+1])\n",
    "        \n",
    "    return col_labels"
   ]
  },
  {
   "cell_type": "code",
   "execution_count": null,
   "metadata": {
    "collapsed": true
   },
   "outputs": [],
   "source": []
  },
  {
   "cell_type": "code",
   "execution_count": null,
   "metadata": {
    "collapsed": true
   },
   "outputs": [],
   "source": []
  },
  {
   "cell_type": "code",
   "execution_count": null,
   "metadata": {
    "collapsed": true
   },
   "outputs": [],
   "source": []
  },
  {
   "cell_type": "code",
   "execution_count": 355,
   "metadata": {
    "collapsed": false
   },
   "outputs": [
    {
     "name": "stdout",
     "output_type": "stream",
     "text": [
      "['A50449']\n",
      "['A50449', 'A18886']\n",
      "['A50449', 'A18886', 'A91165']\n"
     ]
    },
    {
     "data": {
      "text/plain": [
       "['A50449', 'A50449', 'A18886', 'A50449', 'A18886', 'A91165']"
      ]
     },
     "execution_count": 355,
     "metadata": {},
     "output_type": "execute_result"
    }
   ],
   "source": [
    "get_col_labels(['A50449', 'A18886', 'A91165', 'A125421'])"
   ]
  },
  {
   "cell_type": "code",
   "execution_count": 358,
   "metadata": {
    "collapsed": false
   },
   "outputs": [
    {
     "name": "stdout",
     "output_type": "stream",
     "text": [
      "[0.5516, 0.0795, 0.0805, 0.0672, 0.0512, 0.6589]\n",
      "[0.1125, 0.1445, 0.1795, 0.1723, 0.1204, 0.1065]\n",
      "[0.2039, 1.8175, 2.2292, 2.5644, 2.3497, 0.1617]\n",
      "['A18886', 'A91165', 'A91165', 'A125421', 'A125421', 'A125421']\n",
      "['A50449', 'A50449', 'A18886', 'A50449', 'A18886', 'A91165']\n"
     ]
    }
   ],
   "source": [
    "data_file = open(\"Desktop/intermediatefiles/0009021/0009021.cluster.aa.fa.aln.nt.phy.trim.paml.model2\", \"r\")\n",
    "data_lines = []\n",
    "dn_over_ds = []\n",
    "dn = []\n",
    "ds = []\n",
    "labels = []\n",
    "\n",
    "\n",
    "for i, line in enumerate(data_file):\n",
    "    if line.strip() == \"Nei & Gojobori 1986. dN/dS (dN, dS)\":\n",
    "        data_lines = list(range(i+4, i+8))\n",
    "        \n",
    "    if i in data_lines:\n",
    "        line = line.split()\n",
    "        label = line[0]\n",
    "        labels.append(label)\n",
    "        line = line[1:]\n",
    "        \n",
    "        # Convert the list of strings to a list of ints\n",
    "        # this requires removing any parentheses in the strings\n",
    "        line = clean_list(line)\n",
    "        \n",
    "        #The first value on the line is dn/ds\n",
    "        # every third value after that is dn/ds\n",
    "        for j in range(0, len(line), 3):\n",
    "            dn_over_ds.append(line[j])\n",
    "        \n",
    "        #The second value on the line is dn\n",
    "        # every third value after that is also dn\n",
    "        for j in range(1, len(line), 3):\n",
    "            dn.append(line[j])\n",
    "            \n",
    "        for j in range(2, len(line), 3):\n",
    "            ds.append(line[j])\n",
    "\n",
    "print(dn_over_ds)\n",
    "print(dn)\n",
    "print(ds)\n",
    "row_labels = get_row_labels(labels)\n",
    "col_labels = get_col_labels(labels)\n",
    "print(row_labels)\n",
    "print(col_labels)\n",
    "data_file.close()"
   ]
  },
  {
   "cell_type": "code",
   "execution_count": 360,
   "metadata": {
    "collapsed": false
   },
   "outputs": [
    {
     "data": {
      "text/html": [
       "<div>\n",
       "<table border=\"1\" class=\"dataframe\">\n",
       "  <thead>\n",
       "    <tr style=\"text-align: right;\">\n",
       "      <th></th>\n",
       "    </tr>\n",
       "  </thead>\n",
       "  <tbody>\n",
       "  </tbody>\n",
       "</table>\n",
       "</div>"
      ],
      "text/plain": [
       "Empty DataFrame\n",
       "Columns: []\n",
       "Index: []"
      ]
     },
     "execution_count": 360,
     "metadata": {},
     "output_type": "execute_result"
    }
   ],
   "source": [
    "pandas.DataFrame()"
   ]
  },
  {
   "cell_type": "code",
   "execution_count": 361,
   "metadata": {
    "collapsed": true
   },
   "outputs": [],
   "source": [
    "phone_numbers = {\"emily\":\"831-428-2464\", \"emergency\":\"911\"}"
   ]
  },
  {
   "cell_type": "code",
   "execution_count": 362,
   "metadata": {
    "collapsed": false
   },
   "outputs": [
    {
     "data": {
      "text/plain": [
       "{'emergency': '911', 'emily': '831-428-2464'}"
      ]
     },
     "execution_count": 362,
     "metadata": {},
     "output_type": "execute_result"
    }
   ],
   "source": [
    "phone_numbers"
   ]
  },
  {
   "cell_type": "code",
   "execution_count": 363,
   "metadata": {
    "collapsed": false
   },
   "outputs": [
    {
     "data": {
      "text/plain": [
       "'911'"
      ]
     },
     "execution_count": 363,
     "metadata": {},
     "output_type": "execute_result"
    }
   ],
   "source": [
    "phone_numbers[\"emergency\"]"
   ]
  },
  {
   "cell_type": "code",
   "execution_count": 364,
   "metadata": {
    "collapsed": true
   },
   "outputs": [],
   "source": [
    "phone_numbers[\"emily\"] = \"555-555-5555\""
   ]
  },
  {
   "cell_type": "code",
   "execution_count": 365,
   "metadata": {
    "collapsed": false
   },
   "outputs": [
    {
     "data": {
      "text/plain": [
       "{'emergency': '911', 'emily': '555-555-5555'}"
      ]
     },
     "execution_count": 365,
     "metadata": {},
     "output_type": "execute_result"
    }
   ],
   "source": [
    "phone_numbers"
   ]
  },
  {
   "cell_type": "code",
   "execution_count": 366,
   "metadata": {
    "collapsed": true
   },
   "outputs": [],
   "source": [
    "phone_numbers[\"emily\"] = [\"555-555-5555\", \"831-428-2464\"]"
   ]
  },
  {
   "cell_type": "code",
   "execution_count": 367,
   "metadata": {
    "collapsed": false
   },
   "outputs": [
    {
     "data": {
      "text/plain": [
       "{'emergency': '911', 'emily': ['555-555-5555', '831-428-2464']}"
      ]
     },
     "execution_count": 367,
     "metadata": {},
     "output_type": "execute_result"
    }
   ],
   "source": [
    "phone_numbers"
   ]
  },
  {
   "cell_type": "code",
   "execution_count": 369,
   "metadata": {
    "collapsed": false
   },
   "outputs": [],
   "source": [
    "phone_numbers[\"emily\"] = {\"secret\" : \"555-555-5555\", \"cell\" : \"831-428-2464\"}"
   ]
  },
  {
   "cell_type": "code",
   "execution_count": 370,
   "metadata": {
    "collapsed": false
   },
   "outputs": [
    {
     "data": {
      "text/plain": [
       "{'emergency': '911',\n",
       " 'emily': {'cell': '831-428-2464', 'secret': '555-555-5555'}}"
      ]
     },
     "execution_count": 370,
     "metadata": {},
     "output_type": "execute_result"
    }
   ],
   "source": [
    "phone_numbers"
   ]
  },
  {
   "cell_type": "code",
   "execution_count": 371,
   "metadata": {
    "collapsed": false
   },
   "outputs": [
    {
     "data": {
      "text/plain": [
       "'555-555-5555'"
      ]
     },
     "execution_count": 371,
     "metadata": {},
     "output_type": "execute_result"
    }
   ],
   "source": [
    "phone_numbers[\"emily\"][\"secret\"]"
   ]
  },
  {
   "cell_type": "code",
   "execution_count": null,
   "metadata": {
    "collapsed": true
   },
   "outputs": [],
   "source": [
    "#Let’s say we have the dictionary \n",
    "#animals = {“cats”:6, “ferrets”:25, “dogs”:14}\n",
    "# Level 1: Retrieve the number of dogs\n",
    "# Level 2: Add 10 to the number of cats\n",
    "# Level 3: Try writing a loop over animals. "
   ]
  },
  {
   "cell_type": "code",
   "execution_count": null,
   "metadata": {
    "collapsed": true
   },
   "outputs": [],
   "source": [
    "# For level 3 try typing this:\n",
    "for thing in animals:\n",
    "    print(thing)\n",
    "    \n",
    "#What do you think the value stored in \"thing\" is?"
   ]
  },
  {
   "cell_type": "code",
   "execution_count": 373,
   "metadata": {
    "collapsed": false
   },
   "outputs": [],
   "source": [
    "animals = {\"cats\":6, \"ferrets\":25, \"dogs\":14}"
   ]
  },
  {
   "cell_type": "code",
   "execution_count": 374,
   "metadata": {
    "collapsed": false
   },
   "outputs": [
    {
     "data": {
      "text/plain": [
       "14"
      ]
     },
     "execution_count": 374,
     "metadata": {},
     "output_type": "execute_result"
    }
   ],
   "source": [
    "animals[\"dogs\"]"
   ]
  },
  {
   "cell_type": "code",
   "execution_count": 375,
   "metadata": {
    "collapsed": true
   },
   "outputs": [],
   "source": [
    "animals[\"cats\"] = animals[\"cats\"] + 10"
   ]
  },
  {
   "cell_type": "code",
   "execution_count": 376,
   "metadata": {
    "collapsed": false
   },
   "outputs": [
    {
     "data": {
      "text/plain": [
       "{'cats': 16, 'dogs': 14, 'ferrets': 25}"
      ]
     },
     "execution_count": 376,
     "metadata": {},
     "output_type": "execute_result"
    }
   ],
   "source": [
    "animals"
   ]
  },
  {
   "cell_type": "code",
   "execution_count": 378,
   "metadata": {
    "collapsed": false
   },
   "outputs": [
    {
     "name": "stdout",
     "output_type": "stream",
     "text": [
      "cats\n",
      "16\n",
      "dogs\n",
      "14\n",
      "ferrets\n",
      "25\n"
     ]
    }
   ],
   "source": [
    "for thing in animals:\n",
    "    print(thing)\n",
    "    print(animals[thing])"
   ]
  },
  {
   "cell_type": "code",
   "execution_count": 380,
   "metadata": {
    "collapsed": false
   },
   "outputs": [
    {
     "name": "stdout",
     "output_type": "stream",
     "text": [
      "0 cats\n",
      "1 dogs\n",
      "2 ferrets\n"
     ]
    }
   ],
   "source": [
    "for i,something in enumerate(animals):\n",
    "    print(i, something)"
   ]
  },
  {
   "cell_type": "code",
   "execution_count": 381,
   "metadata": {
    "collapsed": false
   },
   "outputs": [
    {
     "data": {
      "text/plain": [
       "dict_items([('cats', 16), ('dogs', 14), ('ferrets', 25)])"
      ]
     },
     "execution_count": 381,
     "metadata": {},
     "output_type": "execute_result"
    }
   ],
   "source": [
    "animals.items()"
   ]
  },
  {
   "cell_type": "code",
   "execution_count": 382,
   "metadata": {
    "collapsed": false
   },
   "outputs": [
    {
     "name": "stdout",
     "output_type": "stream",
     "text": [
      "cats 16\n",
      "dogs 14\n",
      "ferrets 25\n"
     ]
    }
   ],
   "source": [
    "for key,val in animals.items():\n",
    "    print(key, val)"
   ]
  },
  {
   "cell_type": "code",
   "execution_count": 383,
   "metadata": {
    "collapsed": false
   },
   "outputs": [
    {
     "ename": "KeyError",
     "evalue": "'frogs'",
     "output_type": "error",
     "traceback": [
      "\u001b[0;31m---------------------------------------------------------------------------\u001b[0m",
      "\u001b[0;31mKeyError\u001b[0m                                  Traceback (most recent call last)",
      "\u001b[0;32m<ipython-input-383-90c2ce732e51>\u001b[0m in \u001b[0;36m<module>\u001b[0;34m()\u001b[0m\n\u001b[0;32m----> 1\u001b[0;31m \u001b[0manimals\u001b[0m\u001b[0;34m[\u001b[0m\u001b[0;34m\"frogs\"\u001b[0m\u001b[0;34m]\u001b[0m\u001b[0;34m\u001b[0m\u001b[0m\n\u001b[0m",
      "\u001b[0;31mKeyError\u001b[0m: 'frogs'"
     ]
    }
   ],
   "source": [
    "animals[\"frogs\"]"
   ]
  },
  {
   "cell_type": "code",
   "execution_count": 384,
   "metadata": {
    "collapsed": true
   },
   "outputs": [],
   "source": [
    "animals[\"frogs\"] = 100"
   ]
  },
  {
   "cell_type": "code",
   "execution_count": 385,
   "metadata": {
    "collapsed": false
   },
   "outputs": [
    {
     "data": {
      "text/plain": [
       "{'cats': 16, 'dogs': 14, 'ferrets': 25, 'frogs': 100}"
      ]
     },
     "execution_count": 385,
     "metadata": {},
     "output_type": "execute_result"
    }
   ],
   "source": [
    "animals"
   ]
  },
  {
   "cell_type": "code",
   "execution_count": 386,
   "metadata": {
    "collapsed": true
   },
   "outputs": [],
   "source": [
    "data_dict = {\"A\":[1,2,3], \"B\":[4,5,6]}"
   ]
  },
  {
   "cell_type": "code",
   "execution_count": 387,
   "metadata": {
    "collapsed": false
   },
   "outputs": [
    {
     "data": {
      "text/html": [
       "<div>\n",
       "<table border=\"1\" class=\"dataframe\">\n",
       "  <thead>\n",
       "    <tr style=\"text-align: right;\">\n",
       "      <th></th>\n",
       "      <th>A</th>\n",
       "      <th>B</th>\n",
       "    </tr>\n",
       "  </thead>\n",
       "  <tbody>\n",
       "    <tr>\n",
       "      <th>0</th>\n",
       "      <td>1</td>\n",
       "      <td>4</td>\n",
       "    </tr>\n",
       "    <tr>\n",
       "      <th>1</th>\n",
       "      <td>2</td>\n",
       "      <td>5</td>\n",
       "    </tr>\n",
       "    <tr>\n",
       "      <th>2</th>\n",
       "      <td>3</td>\n",
       "      <td>6</td>\n",
       "    </tr>\n",
       "  </tbody>\n",
       "</table>\n",
       "</div>"
      ],
      "text/plain": [
       "   A  B\n",
       "0  1  4\n",
       "1  2  5\n",
       "2  3  6"
      ]
     },
     "execution_count": 387,
     "metadata": {},
     "output_type": "execute_result"
    }
   ],
   "source": [
    "pandas.DataFrame(data_dict)"
   ]
  },
  {
   "cell_type": "code",
   "execution_count": 389,
   "metadata": {
    "collapsed": true
   },
   "outputs": [],
   "source": [
    "data_dict = {\"A\":[1,2,3], \"B\":[4,5,6], \"C\":[7, 8]}"
   ]
  },
  {
   "cell_type": "code",
   "execution_count": null,
   "metadata": {
    "collapsed": true
   },
   "outputs": [],
   "source": []
  },
  {
   "cell_type": "code",
   "execution_count": 390,
   "metadata": {
    "collapsed": false
   },
   "outputs": [
    {
     "ename": "ValueError",
     "evalue": "arrays must all be same length",
     "output_type": "error",
     "traceback": [
      "\u001b[0;31m---------------------------------------------------------------------------\u001b[0m",
      "\u001b[0;31mValueError\u001b[0m                                Traceback (most recent call last)",
      "\u001b[0;32m<ipython-input-390-0217146402fb>\u001b[0m in \u001b[0;36m<module>\u001b[0;34m()\u001b[0m\n\u001b[0;32m----> 1\u001b[0;31m \u001b[0mpandas\u001b[0m\u001b[0;34m.\u001b[0m\u001b[0mDataFrame\u001b[0m\u001b[0;34m(\u001b[0m\u001b[0mdata_dict\u001b[0m\u001b[0;34m)\u001b[0m\u001b[0;34m\u001b[0m\u001b[0m\n\u001b[0m",
      "\u001b[0;32m/home/emily/repos/pandas-emily/pandas/core/frame.py\u001b[0m in \u001b[0;36m__init__\u001b[0;34m(self, data, index, columns, dtype, copy)\u001b[0m\n\u001b[1;32m    225\u001b[0m                                  dtype=dtype, copy=copy)\n\u001b[1;32m    226\u001b[0m         \u001b[0;32melif\u001b[0m \u001b[0misinstance\u001b[0m\u001b[0;34m(\u001b[0m\u001b[0mdata\u001b[0m\u001b[0;34m,\u001b[0m \u001b[0mdict\u001b[0m\u001b[0;34m)\u001b[0m\u001b[0;34m:\u001b[0m\u001b[0;34m\u001b[0m\u001b[0m\n\u001b[0;32m--> 227\u001b[0;31m             \u001b[0mmgr\u001b[0m \u001b[0;34m=\u001b[0m \u001b[0mself\u001b[0m\u001b[0;34m.\u001b[0m\u001b[0m_init_dict\u001b[0m\u001b[0;34m(\u001b[0m\u001b[0mdata\u001b[0m\u001b[0;34m,\u001b[0m \u001b[0mindex\u001b[0m\u001b[0;34m,\u001b[0m \u001b[0mcolumns\u001b[0m\u001b[0;34m,\u001b[0m \u001b[0mdtype\u001b[0m\u001b[0;34m=\u001b[0m\u001b[0mdtype\u001b[0m\u001b[0;34m)\u001b[0m\u001b[0;34m\u001b[0m\u001b[0m\n\u001b[0m\u001b[1;32m    228\u001b[0m         \u001b[0;32melif\u001b[0m \u001b[0misinstance\u001b[0m\u001b[0;34m(\u001b[0m\u001b[0mdata\u001b[0m\u001b[0;34m,\u001b[0m \u001b[0mma\u001b[0m\u001b[0;34m.\u001b[0m\u001b[0mMaskedArray\u001b[0m\u001b[0;34m)\u001b[0m\u001b[0;34m:\u001b[0m\u001b[0;34m\u001b[0m\u001b[0m\n\u001b[1;32m    229\u001b[0m             \u001b[0;32mimport\u001b[0m \u001b[0mnumpy\u001b[0m\u001b[0;34m.\u001b[0m\u001b[0mma\u001b[0m\u001b[0;34m.\u001b[0m\u001b[0mmrecords\u001b[0m \u001b[0;32mas\u001b[0m \u001b[0mmrecords\u001b[0m\u001b[0;34m\u001b[0m\u001b[0m\n",
      "\u001b[0;32m/home/emily/repos/pandas-emily/pandas/core/frame.py\u001b[0m in \u001b[0;36m_init_dict\u001b[0;34m(self, data, index, columns, dtype)\u001b[0m\n\u001b[1;32m    362\u001b[0m \u001b[0;34m\u001b[0m\u001b[0m\n\u001b[1;32m    363\u001b[0m         return _arrays_to_mgr(arrays, data_names, index, columns,\n\u001b[0;32m--> 364\u001b[0;31m                               dtype=dtype)\n\u001b[0m\u001b[1;32m    365\u001b[0m \u001b[0;34m\u001b[0m\u001b[0m\n\u001b[1;32m    366\u001b[0m     def _init_ndarray(self, values, index, columns, dtype=None,\n",
      "\u001b[0;32m/home/emily/repos/pandas-emily/pandas/core/frame.py\u001b[0m in \u001b[0;36m_arrays_to_mgr\u001b[0;34m(arrays, arr_names, index, columns, dtype)\u001b[0m\n\u001b[1;32m   5125\u001b[0m     \u001b[0;31m# figure out the index, if necessary\u001b[0m\u001b[0;34m\u001b[0m\u001b[0;34m\u001b[0m\u001b[0m\n\u001b[1;32m   5126\u001b[0m     \u001b[0;32mif\u001b[0m \u001b[0mindex\u001b[0m \u001b[0;32mis\u001b[0m \u001b[0;32mNone\u001b[0m\u001b[0;34m:\u001b[0m\u001b[0;34m\u001b[0m\u001b[0m\n\u001b[0;32m-> 5127\u001b[0;31m         \u001b[0mindex\u001b[0m \u001b[0;34m=\u001b[0m \u001b[0mextract_index\u001b[0m\u001b[0;34m(\u001b[0m\u001b[0marrays\u001b[0m\u001b[0;34m)\u001b[0m\u001b[0;34m\u001b[0m\u001b[0m\n\u001b[0m\u001b[1;32m   5128\u001b[0m     \u001b[0;32melse\u001b[0m\u001b[0;34m:\u001b[0m\u001b[0;34m\u001b[0m\u001b[0m\n\u001b[1;32m   5129\u001b[0m         \u001b[0mindex\u001b[0m \u001b[0;34m=\u001b[0m \u001b[0m_ensure_index\u001b[0m\u001b[0;34m(\u001b[0m\u001b[0mindex\u001b[0m\u001b[0;34m)\u001b[0m\u001b[0;34m\u001b[0m\u001b[0m\n",
      "\u001b[0;32m/home/emily/repos/pandas-emily/pandas/core/frame.py\u001b[0m in \u001b[0;36mextract_index\u001b[0;34m(data)\u001b[0m\n\u001b[1;32m   5173\u001b[0m             \u001b[0mlengths\u001b[0m \u001b[0;34m=\u001b[0m \u001b[0mlist\u001b[0m\u001b[0;34m(\u001b[0m\u001b[0mset\u001b[0m\u001b[0;34m(\u001b[0m\u001b[0mraw_lengths\u001b[0m\u001b[0;34m)\u001b[0m\u001b[0;34m)\u001b[0m\u001b[0;34m\u001b[0m\u001b[0m\n\u001b[1;32m   5174\u001b[0m             \u001b[0;32mif\u001b[0m \u001b[0mlen\u001b[0m\u001b[0;34m(\u001b[0m\u001b[0mlengths\u001b[0m\u001b[0;34m)\u001b[0m \u001b[0;34m>\u001b[0m \u001b[0;36m1\u001b[0m\u001b[0;34m:\u001b[0m\u001b[0;34m\u001b[0m\u001b[0m\n\u001b[0;32m-> 5175\u001b[0;31m                 \u001b[0;32mraise\u001b[0m \u001b[0mValueError\u001b[0m\u001b[0;34m(\u001b[0m\u001b[0;34m'arrays must all be same length'\u001b[0m\u001b[0;34m)\u001b[0m\u001b[0;34m\u001b[0m\u001b[0m\n\u001b[0m\u001b[1;32m   5176\u001b[0m \u001b[0;34m\u001b[0m\u001b[0m\n\u001b[1;32m   5177\u001b[0m             \u001b[0;32mif\u001b[0m \u001b[0mhave_dicts\u001b[0m\u001b[0;34m:\u001b[0m\u001b[0;34m\u001b[0m\u001b[0m\n",
      "\u001b[0;31mValueError\u001b[0m: arrays must all be same length"
     ]
    }
   ],
   "source": [
    "pandas.DataFrame(data_dict)"
   ]
  },
  {
   "cell_type": "code",
   "execution_count": 391,
   "metadata": {
    "collapsed": true
   },
   "outputs": [],
   "source": [
    "data_dict = {\"A\":[1,2,3], \"B\":[4,5,6], \"C\":[7, 8, 9], \"D\":[10,11,12], \"E\":[13,14,15]}"
   ]
  },
  {
   "cell_type": "code",
   "execution_count": 392,
   "metadata": {
    "collapsed": false
   },
   "outputs": [
    {
     "data": {
      "text/html": [
       "<div>\n",
       "<table border=\"1\" class=\"dataframe\">\n",
       "  <thead>\n",
       "    <tr style=\"text-align: right;\">\n",
       "      <th></th>\n",
       "      <th>A</th>\n",
       "      <th>B</th>\n",
       "      <th>C</th>\n",
       "      <th>D</th>\n",
       "      <th>E</th>\n",
       "    </tr>\n",
       "  </thead>\n",
       "  <tbody>\n",
       "    <tr>\n",
       "      <th>0</th>\n",
       "      <td>1</td>\n",
       "      <td>4</td>\n",
       "      <td>7</td>\n",
       "      <td>10</td>\n",
       "      <td>13</td>\n",
       "    </tr>\n",
       "    <tr>\n",
       "      <th>1</th>\n",
       "      <td>2</td>\n",
       "      <td>5</td>\n",
       "      <td>8</td>\n",
       "      <td>11</td>\n",
       "      <td>14</td>\n",
       "    </tr>\n",
       "    <tr>\n",
       "      <th>2</th>\n",
       "      <td>3</td>\n",
       "      <td>6</td>\n",
       "      <td>9</td>\n",
       "      <td>12</td>\n",
       "      <td>15</td>\n",
       "    </tr>\n",
       "  </tbody>\n",
       "</table>\n",
       "</div>"
      ],
      "text/plain": [
       "   A  B  C   D   E\n",
       "0  1  4  7  10  13\n",
       "1  2  5  8  11  14\n",
       "2  3  6  9  12  15"
      ]
     },
     "execution_count": 392,
     "metadata": {},
     "output_type": "execute_result"
    }
   ],
   "source": [
    "pandas.DataFrame(data_dict)"
   ]
  },
  {
   "cell_type": "code",
   "execution_count": 393,
   "metadata": {
    "collapsed": true
   },
   "outputs": [],
   "source": [
    "data_dict = {\"D\":[1,2,3], \"B\":[4,5,6], \"C\":[7, 8, 9], \"A\":[10,11,12], \"E\":[13,14,15]}"
   ]
  },
  {
   "cell_type": "code",
   "execution_count": 394,
   "metadata": {
    "collapsed": false
   },
   "outputs": [
    {
     "data": {
      "text/html": [
       "<div>\n",
       "<table border=\"1\" class=\"dataframe\">\n",
       "  <thead>\n",
       "    <tr style=\"text-align: right;\">\n",
       "      <th></th>\n",
       "      <th>A</th>\n",
       "      <th>B</th>\n",
       "      <th>C</th>\n",
       "      <th>D</th>\n",
       "      <th>E</th>\n",
       "    </tr>\n",
       "  </thead>\n",
       "  <tbody>\n",
       "    <tr>\n",
       "      <th>0</th>\n",
       "      <td>10</td>\n",
       "      <td>4</td>\n",
       "      <td>7</td>\n",
       "      <td>1</td>\n",
       "      <td>13</td>\n",
       "    </tr>\n",
       "    <tr>\n",
       "      <th>1</th>\n",
       "      <td>11</td>\n",
       "      <td>5</td>\n",
       "      <td>8</td>\n",
       "      <td>2</td>\n",
       "      <td>14</td>\n",
       "    </tr>\n",
       "    <tr>\n",
       "      <th>2</th>\n",
       "      <td>12</td>\n",
       "      <td>6</td>\n",
       "      <td>9</td>\n",
       "      <td>3</td>\n",
       "      <td>15</td>\n",
       "    </tr>\n",
       "  </tbody>\n",
       "</table>\n",
       "</div>"
      ],
      "text/plain": [
       "    A  B  C  D   E\n",
       "0  10  4  7  1  13\n",
       "1  11  5  8  2  14\n",
       "2  12  6  9  3  15"
      ]
     },
     "execution_count": 394,
     "metadata": {},
     "output_type": "execute_result"
    }
   ],
   "source": [
    "pandas.DataFrame(data_dict)"
   ]
  },
  {
   "cell_type": "code",
   "execution_count": 395,
   "metadata": {
    "collapsed": true
   },
   "outputs": [],
   "source": [
    "my_list = [5, 2, 1, 3]"
   ]
  },
  {
   "cell_type": "code",
   "execution_count": 396,
   "metadata": {
    "collapsed": true
   },
   "outputs": [],
   "source": [
    "my_list.sort()"
   ]
  },
  {
   "cell_type": "code",
   "execution_count": 397,
   "metadata": {
    "collapsed": false
   },
   "outputs": [
    {
     "data": {
      "text/plain": [
       "[1, 2, 3, 5]"
      ]
     },
     "execution_count": 397,
     "metadata": {},
     "output_type": "execute_result"
    }
   ],
   "source": [
    "my_list"
   ]
  },
  {
   "cell_type": "code",
   "execution_count": null,
   "metadata": {
    "collapsed": true
   },
   "outputs": [],
   "source": [
    "# Level 1: Put the rows dn, ds, dn_over_ds, row_label, and col_label \n",
    "# into a dictionary, and use that dictionary to construct a DataFrame.\n",
    "\n",
    "# Level 2: Put the chunk of code that parses the file into a function\n",
    "# that takes a string containing the path to the file and returns\n",
    "# a pandas DataFrame containing all of the data.\n"
   ]
  },
  {
   "cell_type": "code",
   "execution_count": 398,
   "metadata": {
    "collapsed": false
   },
   "outputs": [
    {
     "data": {
      "text/plain": [
       "{'dn': [0.1125, 0.1445, 0.1795, 0.1723, 0.1204, 0.1065],\n",
       " 'ds': [0.2039, 1.8175, 2.2292, 2.5644, 2.3497, 0.1617]}"
      ]
     },
     "execution_count": 398,
     "metadata": {},
     "output_type": "execute_result"
    }
   ],
   "source": [
    "{\"dn\":dn,\n",
    " \"ds\":ds\n",
    "}"
   ]
  },
  {
   "cell_type": "code",
   "execution_count": 399,
   "metadata": {
    "collapsed": true
   },
   "outputs": [],
   "source": [
    "data_dict = {\"dn\":dn, \"ds\":ds, \"dn/ds\":dn_over_ds, \n",
    "             \"row_label\":row_labels, \"col_label\":col_labels}"
   ]
  },
  {
   "cell_type": "code",
   "execution_count": 400,
   "metadata": {
    "collapsed": false
   },
   "outputs": [
    {
     "data": {
      "text/html": [
       "<div>\n",
       "<table border=\"1\" class=\"dataframe\">\n",
       "  <thead>\n",
       "    <tr style=\"text-align: right;\">\n",
       "      <th></th>\n",
       "      <th>col_label</th>\n",
       "      <th>dn</th>\n",
       "      <th>dn/ds</th>\n",
       "      <th>ds</th>\n",
       "      <th>row_label</th>\n",
       "    </tr>\n",
       "  </thead>\n",
       "  <tbody>\n",
       "    <tr>\n",
       "      <th>0</th>\n",
       "      <td>A50449</td>\n",
       "      <td>0.1125</td>\n",
       "      <td>0.5516</td>\n",
       "      <td>0.2039</td>\n",
       "      <td>A18886</td>\n",
       "    </tr>\n",
       "    <tr>\n",
       "      <th>1</th>\n",
       "      <td>A50449</td>\n",
       "      <td>0.1445</td>\n",
       "      <td>0.0795</td>\n",
       "      <td>1.8175</td>\n",
       "      <td>A91165</td>\n",
       "    </tr>\n",
       "    <tr>\n",
       "      <th>2</th>\n",
       "      <td>A18886</td>\n",
       "      <td>0.1795</td>\n",
       "      <td>0.0805</td>\n",
       "      <td>2.2292</td>\n",
       "      <td>A91165</td>\n",
       "    </tr>\n",
       "    <tr>\n",
       "      <th>3</th>\n",
       "      <td>A50449</td>\n",
       "      <td>0.1723</td>\n",
       "      <td>0.0672</td>\n",
       "      <td>2.5644</td>\n",
       "      <td>A125421</td>\n",
       "    </tr>\n",
       "    <tr>\n",
       "      <th>4</th>\n",
       "      <td>A18886</td>\n",
       "      <td>0.1204</td>\n",
       "      <td>0.0512</td>\n",
       "      <td>2.3497</td>\n",
       "      <td>A125421</td>\n",
       "    </tr>\n",
       "    <tr>\n",
       "      <th>5</th>\n",
       "      <td>A91165</td>\n",
       "      <td>0.1065</td>\n",
       "      <td>0.6589</td>\n",
       "      <td>0.1617</td>\n",
       "      <td>A125421</td>\n",
       "    </tr>\n",
       "  </tbody>\n",
       "</table>\n",
       "</div>"
      ],
      "text/plain": [
       "  col_label      dn   dn/ds      ds row_label\n",
       "0    A50449  0.1125  0.5516  0.2039    A18886\n",
       "1    A50449  0.1445  0.0795  1.8175    A91165\n",
       "2    A18886  0.1795  0.0805  2.2292    A91165\n",
       "3    A50449  0.1723  0.0672  2.5644   A125421\n",
       "4    A18886  0.1204  0.0512  2.3497   A125421\n",
       "5    A91165  0.1065  0.6589  0.1617   A125421"
      ]
     },
     "execution_count": 400,
     "metadata": {},
     "output_type": "execute_result"
    }
   ],
   "source": [
    "pandas.DataFrame(data_dict)"
   ]
  },
  {
   "cell_type": "code",
   "execution_count": 402,
   "metadata": {
    "collapsed": true
   },
   "outputs": [],
   "source": [
    "dn_ds_data = pandas.DataFrame(data_dict)"
   ]
  },
  {
   "cell_type": "code",
   "execution_count": null,
   "metadata": {
    "collapsed": true
   },
   "outputs": [],
   "source": []
  },
  {
   "cell_type": "code",
   "execution_count": 403,
   "metadata": {
    "collapsed": false
   },
   "outputs": [
    {
     "data": {
      "text/html": [
       "<div>\n",
       "<table border=\"1\" class=\"dataframe\">\n",
       "  <thead>\n",
       "    <tr style=\"text-align: right;\">\n",
       "      <th></th>\n",
       "      <th>dn</th>\n",
       "      <th>dn/ds</th>\n",
       "      <th>ds</th>\n",
       "    </tr>\n",
       "  </thead>\n",
       "  <tbody>\n",
       "    <tr>\n",
       "      <th>count</th>\n",
       "      <td>6.000000</td>\n",
       "      <td>6.000000</td>\n",
       "      <td>6.000000</td>\n",
       "    </tr>\n",
       "    <tr>\n",
       "      <th>mean</th>\n",
       "      <td>0.139283</td>\n",
       "      <td>0.248150</td>\n",
       "      <td>1.554400</td>\n",
       "    </tr>\n",
       "    <tr>\n",
       "      <th>std</th>\n",
       "      <td>0.031252</td>\n",
       "      <td>0.278883</td>\n",
       "      <td>1.090013</td>\n",
       "    </tr>\n",
       "    <tr>\n",
       "      <th>min</th>\n",
       "      <td>0.106500</td>\n",
       "      <td>0.051200</td>\n",
       "      <td>0.161700</td>\n",
       "    </tr>\n",
       "    <tr>\n",
       "      <th>25%</th>\n",
       "      <td>0.114475</td>\n",
       "      <td>0.070275</td>\n",
       "      <td>0.607300</td>\n",
       "    </tr>\n",
       "    <tr>\n",
       "      <th>50%</th>\n",
       "      <td>0.132450</td>\n",
       "      <td>0.080000</td>\n",
       "      <td>2.023350</td>\n",
       "    </tr>\n",
       "    <tr>\n",
       "      <th>75%</th>\n",
       "      <td>0.165350</td>\n",
       "      <td>0.433825</td>\n",
       "      <td>2.319575</td>\n",
       "    </tr>\n",
       "    <tr>\n",
       "      <th>max</th>\n",
       "      <td>0.179500</td>\n",
       "      <td>0.658900</td>\n",
       "      <td>2.564400</td>\n",
       "    </tr>\n",
       "  </tbody>\n",
       "</table>\n",
       "</div>"
      ],
      "text/plain": [
       "             dn     dn/ds        ds\n",
       "count  6.000000  6.000000  6.000000\n",
       "mean   0.139283  0.248150  1.554400\n",
       "std    0.031252  0.278883  1.090013\n",
       "min    0.106500  0.051200  0.161700\n",
       "25%    0.114475  0.070275  0.607300\n",
       "50%    0.132450  0.080000  2.023350\n",
       "75%    0.165350  0.433825  2.319575\n",
       "max    0.179500  0.658900  2.564400"
      ]
     },
     "execution_count": 403,
     "metadata": {},
     "output_type": "execute_result"
    }
   ],
   "source": [
    "dn_ds_data.describe()"
   ]
  },
  {
   "cell_type": "code",
   "execution_count": 404,
   "metadata": {
    "collapsed": true
   },
   "outputs": [],
   "source": [
    "def process_file(file_path):\n",
    "\n",
    "    data_file = open(file_path, \"r\")\n",
    "    data_lines = []\n",
    "    dn_over_ds = []\n",
    "    dn = []\n",
    "    ds = []\n",
    "    labels = []\n",
    "\n",
    "\n",
    "    for i, line in enumerate(data_file):\n",
    "        if line.strip() == \"Nei & Gojobori 1986. dN/dS (dN, dS)\":\n",
    "            data_lines = list(range(i+4, i+8))\n",
    "\n",
    "        if i in data_lines:\n",
    "            line = line.split()\n",
    "            label = line[0]\n",
    "            labels.append(label)\n",
    "            line = line[1:]\n",
    "\n",
    "            # Convert the list of strings to a list of ints\n",
    "            # this requires removing any parentheses in the strings\n",
    "            line = clean_list(line)\n",
    "\n",
    "            #The first value on the line is dn/ds\n",
    "            # every third value after that is dn/ds\n",
    "            for j in range(0, len(line), 3):\n",
    "                dn_over_ds.append(line[j])\n",
    "\n",
    "            #The second value on the line is dn\n",
    "            # every third value after that is also dn\n",
    "            for j in range(1, len(line), 3):\n",
    "                dn.append(line[j])\n",
    "\n",
    "            for j in range(2, len(line), 3):\n",
    "                ds.append(line[j])\n",
    "\n",
    "    row_labels = get_row_labels(labels)\n",
    "    col_labels = get_col_labels(labels)\n",
    "    data_file.close()\n",
    "    data_dict = {\"dn\":dn, \"ds\":ds, \"dn/ds\":dn_over_ds, \n",
    "             \"row_label\":row_labels, \"col_label\":col_labels}\n",
    "    dn_ds_data = pandas.DataFrame(data_dict)\n",
    "    return dn_ds_data\n",
    "    "
   ]
  },
  {
   "cell_type": "code",
   "execution_count": 405,
   "metadata": {
    "collapsed": false
   },
   "outputs": [
    {
     "data": {
      "text/html": [
       "<div>\n",
       "<table border=\"1\" class=\"dataframe\">\n",
       "  <thead>\n",
       "    <tr style=\"text-align: right;\">\n",
       "      <th></th>\n",
       "      <th>col_label</th>\n",
       "      <th>dn</th>\n",
       "      <th>dn/ds</th>\n",
       "      <th>ds</th>\n",
       "      <th>row_label</th>\n",
       "    </tr>\n",
       "  </thead>\n",
       "  <tbody>\n",
       "    <tr>\n",
       "      <th>0</th>\n",
       "      <td>A50449</td>\n",
       "      <td>0.1125</td>\n",
       "      <td>0.5516</td>\n",
       "      <td>0.2039</td>\n",
       "      <td>A18886</td>\n",
       "    </tr>\n",
       "    <tr>\n",
       "      <th>1</th>\n",
       "      <td>A50449</td>\n",
       "      <td>0.1445</td>\n",
       "      <td>0.0795</td>\n",
       "      <td>1.8175</td>\n",
       "      <td>A91165</td>\n",
       "    </tr>\n",
       "    <tr>\n",
       "      <th>2</th>\n",
       "      <td>A18886</td>\n",
       "      <td>0.1795</td>\n",
       "      <td>0.0805</td>\n",
       "      <td>2.2292</td>\n",
       "      <td>A91165</td>\n",
       "    </tr>\n",
       "    <tr>\n",
       "      <th>3</th>\n",
       "      <td>A50449</td>\n",
       "      <td>0.1723</td>\n",
       "      <td>0.0672</td>\n",
       "      <td>2.5644</td>\n",
       "      <td>A125421</td>\n",
       "    </tr>\n",
       "    <tr>\n",
       "      <th>4</th>\n",
       "      <td>A18886</td>\n",
       "      <td>0.1204</td>\n",
       "      <td>0.0512</td>\n",
       "      <td>2.3497</td>\n",
       "      <td>A125421</td>\n",
       "    </tr>\n",
       "    <tr>\n",
       "      <th>5</th>\n",
       "      <td>A91165</td>\n",
       "      <td>0.1065</td>\n",
       "      <td>0.6589</td>\n",
       "      <td>0.1617</td>\n",
       "      <td>A125421</td>\n",
       "    </tr>\n",
       "  </tbody>\n",
       "</table>\n",
       "</div>"
      ],
      "text/plain": [
       "  col_label      dn   dn/ds      ds row_label\n",
       "0    A50449  0.1125  0.5516  0.2039    A18886\n",
       "1    A50449  0.1445  0.0795  1.8175    A91165\n",
       "2    A18886  0.1795  0.0805  2.2292    A91165\n",
       "3    A50449  0.1723  0.0672  2.5644   A125421\n",
       "4    A18886  0.1204  0.0512  2.3497   A125421\n",
       "5    A91165  0.1065  0.6589  0.1617   A125421"
      ]
     },
     "execution_count": 405,
     "metadata": {},
     "output_type": "execute_result"
    }
   ],
   "source": [
    "process_file(\"Desktop/intermediatefiles/0009021/0009021.cluster.aa.fa.aln.nt.phy.trim.paml.model2\")"
   ]
  },
  {
   "cell_type": "code",
   "execution_count": 406,
   "metadata": {
    "collapsed": true
   },
   "outputs": [],
   "source": [
    "import glob"
   ]
  },
  {
   "cell_type": "code",
   "execution_count": 407,
   "metadata": {
    "collapsed": false
   },
   "outputs": [
    {
     "data": {
      "text/plain": [
       "['Desktop/data/inflammation-01.csv']"
      ]
     },
     "execution_count": 407,
     "metadata": {},
     "output_type": "execute_result"
    }
   ],
   "source": [
    "glob.glob(\"Desktop/data/inflammation-01.csv\")"
   ]
  },
  {
   "cell_type": "code",
   "execution_count": 408,
   "metadata": {
    "collapsed": false
   },
   "outputs": [
    {
     "data": {
      "text/plain": [
       "['Desktop/data/inflammation-05.csv',\n",
       " 'Desktop/data/inflammation-07.csv',\n",
       " 'Desktop/data/inflammation-06.csv',\n",
       " 'Desktop/data/inflammation-12.csv',\n",
       " 'Desktop/data/inflammation-03.csv',\n",
       " 'Desktop/data/inflammation-09.csv',\n",
       " 'Desktop/data/inflammation-04.csv',\n",
       " 'Desktop/data/inflammation-08.csv',\n",
       " 'Desktop/data/inflammation-01.csv',\n",
       " 'Desktop/data/inflammation-11.csv',\n",
       " 'Desktop/data/inflammation-10.csv',\n",
       " 'Desktop/data/inflammation-02.csv']"
      ]
     },
     "execution_count": 408,
     "metadata": {},
     "output_type": "execute_result"
    }
   ],
   "source": [
    "glob.glob(\"Desktop/data/inflammation*.csv\")"
   ]
  },
  {
   "cell_type": "code",
   "execution_count": 410,
   "metadata": {
    "collapsed": false
   },
   "outputs": [
    {
     "data": {
      "text/plain": [
       "['Desktop/data/inflammation-05.csv',\n",
       " 'Desktop/data/inflammation-07.csv',\n",
       " 'Desktop/data/inflammation-06.csv',\n",
       " 'Desktop/data/small-02.csv',\n",
       " 'Desktop/data/small-01.csv',\n",
       " 'Desktop/data/inflammation-12.csv',\n",
       " 'Desktop/data/inflammation-03.csv',\n",
       " 'Desktop/data/inflammation-09.csv',\n",
       " 'Desktop/data/inflammation-04.csv',\n",
       " 'Desktop/data/inflammation-08.csv',\n",
       " 'Desktop/data/inflammation-01.csv',\n",
       " 'Desktop/data/inflammation-11.csv',\n",
       " 'Desktop/data/inflammation-10.csv',\n",
       " 'Desktop/data/inflammation-02.csv',\n",
       " 'Desktop/data/small-03.csv']"
      ]
     },
     "execution_count": 410,
     "metadata": {},
     "output_type": "execute_result"
    }
   ],
   "source": [
    "# Challenge: use glob.glob() to get a list of all of the files in data\n",
    "glob.glob(\"Desktop/data/*.csv\")"
   ]
  },
  {
   "cell_type": "code",
   "execution_count": 412,
   "metadata": {
    "collapsed": false
   },
   "outputs": [],
   "source": [
    "file_list = glob.glob(\"Desktop/intermediatefiles/*/*.model2\")"
   ]
  },
  {
   "cell_type": "code",
   "execution_count": 414,
   "metadata": {
    "collapsed": false
   },
   "outputs": [
    {
     "name": "stdout",
     "output_type": "stream",
     "text": [
      "Desktop/intermediatefiles/0009296/0009296.cluster.aa.fa.aln.nt.phy.trim.paml.model2\n",
      "  col_label      dn   dn/ds      ds row_label\n",
      "0    A21380  0.0392  0.1081  0.3629    A58613\n",
      "1    A21380  0.1538  0.0724  2.1253    A92845\n",
      "2    A58613  0.1684  0.0708  2.3779    A92845\n",
      "3    A21380  0.1726  0.0777  2.2221   A127548\n",
      "4    A58613  0.1572  0.0686  2.2905   A127548\n",
      "5    A92845  0.0173  0.2538  0.0681   A127548\n",
      "Desktop/intermediatefiles/0009926/0009926.cluster.aa.fa.aln.nt.phy.trim.paml.model2\n"
     ]
    },
    {
     "ename": "ValueError",
     "evalue": "could not convert string to float: '0.2321)-1.0000'",
     "output_type": "error",
     "traceback": [
      "\u001b[0;31m---------------------------------------------------------------------------\u001b[0m",
      "\u001b[0;31mValueError\u001b[0m                                Traceback (most recent call last)",
      "\u001b[0;32m<ipython-input-414-466a33a74ac2>\u001b[0m in \u001b[0;36m<module>\u001b[0;34m()\u001b[0m\n\u001b[1;32m      1\u001b[0m \u001b[0;32mfor\u001b[0m \u001b[0mfilename\u001b[0m \u001b[0;32min\u001b[0m \u001b[0mfile_list\u001b[0m\u001b[0;34m:\u001b[0m\u001b[0;34m\u001b[0m\u001b[0m\n\u001b[1;32m      2\u001b[0m     \u001b[0mprint\u001b[0m\u001b[0;34m(\u001b[0m\u001b[0mfilename\u001b[0m\u001b[0;34m)\u001b[0m\u001b[0;34m\u001b[0m\u001b[0m\n\u001b[0;32m----> 3\u001b[0;31m     \u001b[0mprint\u001b[0m\u001b[0;34m(\u001b[0m\u001b[0mprocess_file\u001b[0m\u001b[0;34m(\u001b[0m\u001b[0mfilename\u001b[0m\u001b[0;34m)\u001b[0m\u001b[0;34m)\u001b[0m\u001b[0;34m\u001b[0m\u001b[0m\n\u001b[0m",
      "\u001b[0;32m<ipython-input-404-9d166669a717>\u001b[0m in \u001b[0;36mprocess_file\u001b[0;34m(file_path)\u001b[0m\n\u001b[1;32m     21\u001b[0m             \u001b[0;31m# Convert the list of strings to a list of ints\u001b[0m\u001b[0;34m\u001b[0m\u001b[0;34m\u001b[0m\u001b[0m\n\u001b[1;32m     22\u001b[0m             \u001b[0;31m# this requires removing any parentheses in the strings\u001b[0m\u001b[0;34m\u001b[0m\u001b[0;34m\u001b[0m\u001b[0m\n\u001b[0;32m---> 23\u001b[0;31m             \u001b[0mline\u001b[0m \u001b[0;34m=\u001b[0m \u001b[0mclean_list\u001b[0m\u001b[0;34m(\u001b[0m\u001b[0mline\u001b[0m\u001b[0;34m)\u001b[0m\u001b[0;34m\u001b[0m\u001b[0m\n\u001b[0m\u001b[1;32m     24\u001b[0m \u001b[0;34m\u001b[0m\u001b[0m\n\u001b[1;32m     25\u001b[0m             \u001b[0;31m#The first value on the line is dn/ds\u001b[0m\u001b[0;34m\u001b[0m\u001b[0;34m\u001b[0m\u001b[0m\n",
      "\u001b[0;32m<ipython-input-329-b2f01ee0bcb9>\u001b[0m in \u001b[0;36mclean_list\u001b[0;34m(input_list)\u001b[0m\n\u001b[1;32m      4\u001b[0m     \u001b[0;32mfor\u001b[0m \u001b[0mitem\u001b[0m \u001b[0;32min\u001b[0m \u001b[0minput_list\u001b[0m\u001b[0;34m:\u001b[0m\u001b[0;34m\u001b[0m\u001b[0m\n\u001b[1;32m      5\u001b[0m         \u001b[0mitem\u001b[0m \u001b[0;34m=\u001b[0m \u001b[0mitem\u001b[0m\u001b[0;34m.\u001b[0m\u001b[0mstrip\u001b[0m\u001b[0;34m(\u001b[0m\u001b[0;34m\"()\"\u001b[0m\u001b[0;34m)\u001b[0m\u001b[0;34m\u001b[0m\u001b[0m\n\u001b[0;32m----> 6\u001b[0;31m         \u001b[0mnew_list\u001b[0m\u001b[0;34m.\u001b[0m\u001b[0mappend\u001b[0m\u001b[0;34m(\u001b[0m\u001b[0mfloat\u001b[0m\u001b[0;34m(\u001b[0m\u001b[0mitem\u001b[0m\u001b[0;34m)\u001b[0m\u001b[0;34m)\u001b[0m\u001b[0;34m\u001b[0m\u001b[0m\n\u001b[0m\u001b[1;32m      7\u001b[0m \u001b[0;34m\u001b[0m\u001b[0m\n\u001b[1;32m      8\u001b[0m     \u001b[0;32mreturn\u001b[0m \u001b[0mnew_list\u001b[0m\u001b[0;34m\u001b[0m\u001b[0m\n",
      "\u001b[0;31mValueError\u001b[0m: could not convert string to float: '0.2321)-1.0000'"
     ]
    }
   ],
   "source": [
    "for filename in file_list:\n",
    "    print(filename)\n",
    "    print(process_file(filename))"
   ]
  },
  {
   "cell_type": "code",
   "execution_count": 415,
   "metadata": {
    "collapsed": false
   },
   "outputs": [
    {
     "name": "stdout",
     "output_type": "stream",
     "text": [
      "There was an error\n"
     ]
    }
   ],
   "source": [
    "try:\n",
    "    my_number = 100/0\n",
    "except:\n",
    "    print(\"There was an error\")"
   ]
  },
  {
   "cell_type": "code",
   "execution_count": 416,
   "metadata": {
    "collapsed": false
   },
   "outputs": [
    {
     "name": "stdout",
     "output_type": "stream",
     "text": [
      "  col_label      dn   dn/ds      ds row_label\n",
      "0    A21380  0.0392  0.1081  0.3629    A58613\n",
      "1    A21380  0.1538  0.0724  2.1253    A92845\n",
      "2    A58613  0.1684  0.0708  2.3779    A92845\n",
      "3    A21380  0.1726  0.0777  2.2221   A127548\n",
      "4    A58613  0.1572  0.0686  2.2905   A127548\n",
      "5    A92845  0.0173  0.2538  0.0681   A127548\n",
      "There's something wrong with Desktop/intermediatefiles/0009926/0009926.cluster.aa.fa.aln.nt.phy.trim.paml.model2\n",
      "There's something wrong with Desktop/intermediatefiles/0009857/0009857.cluster.aa.fa.aln.nt.phy.trim.paml.model2\n",
      "  col_label      dn   dn/ds      ds row_label\n",
      "0    A50449  0.1125  0.5516  0.2039    A18886\n",
      "1    A50449  0.1445  0.0795  1.8175    A91165\n",
      "2    A18886  0.1795  0.0805  2.2292    A91165\n",
      "3    A50449  0.1723  0.0672  2.5644   A125421\n",
      "4    A18886  0.1204  0.0512  2.3497   A125421\n",
      "5    A91165  0.1065  0.6589  0.1617   A125421\n"
     ]
    }
   ],
   "source": [
    "for filename in file_list:\n",
    "    try:\n",
    "        print(process_file(filename))\n",
    "        print(\"hi\")\n",
    "    except:\n",
    "        print(\"There's something wrong with\", filename)"
   ]
  },
  {
   "cell_type": "code",
   "execution_count": 417,
   "metadata": {
    "collapsed": false
   },
   "outputs": [
    {
     "name": "stdout",
     "output_type": "stream",
     "text": [
      "There's something wrong with Desktop/intermediatefiles/0009926/0009926.cluster.aa.fa.aln.nt.phy.trim.paml.model2\n",
      "There's something wrong with Desktop/intermediatefiles/0009857/0009857.cluster.aa.fa.aln.nt.phy.trim.paml.model2\n",
      "[  col_label      dn   dn/ds      ds row_label\n",
      "0    A21380  0.0392  0.1081  0.3629    A58613\n",
      "1    A21380  0.1538  0.0724  2.1253    A92845\n",
      "2    A58613  0.1684  0.0708  2.3779    A92845\n",
      "3    A21380  0.1726  0.0777  2.2221   A127548\n",
      "4    A58613  0.1572  0.0686  2.2905   A127548\n",
      "5    A92845  0.0173  0.2538  0.0681   A127548,   col_label      dn   dn/ds      ds row_label\n",
      "0    A50449  0.1125  0.5516  0.2039    A18886\n",
      "1    A50449  0.1445  0.0795  1.8175    A91165\n",
      "2    A18886  0.1795  0.0805  2.2292    A91165\n",
      "3    A50449  0.1723  0.0672  2.5644   A125421\n",
      "4    A18886  0.1204  0.0512  2.3497   A125421\n",
      "5    A91165  0.1065  0.6589  0.1617   A125421]\n"
     ]
    }
   ],
   "source": [
    "data_frames = []\n",
    "\n",
    "for filename in file_list:\n",
    "    try:\n",
    "        data_frames.append(process_file(filename))\n",
    "    except:\n",
    "        print(\"There's something wrong with\", filename)\n",
    "        \n",
    "print(data_frames)"
   ]
  },
  {
   "cell_type": "code",
   "execution_count": 419,
   "metadata": {
    "collapsed": false
   },
   "outputs": [],
   "source": [
    "all_data = pandas.concat(data_frames)"
   ]
  },
  {
   "cell_type": "code",
   "execution_count": 420,
   "metadata": {
    "collapsed": false
   },
   "outputs": [
    {
     "data": {
      "text/html": [
       "<div>\n",
       "<table border=\"1\" class=\"dataframe\">\n",
       "  <thead>\n",
       "    <tr style=\"text-align: right;\">\n",
       "      <th></th>\n",
       "      <th>index</th>\n",
       "      <th>col_label</th>\n",
       "      <th>dn</th>\n",
       "      <th>dn/ds</th>\n",
       "      <th>ds</th>\n",
       "      <th>row_label</th>\n",
       "    </tr>\n",
       "  </thead>\n",
       "  <tbody>\n",
       "    <tr>\n",
       "      <th>0</th>\n",
       "      <td>0</td>\n",
       "      <td>A21380</td>\n",
       "      <td>0.0392</td>\n",
       "      <td>0.1081</td>\n",
       "      <td>0.3629</td>\n",
       "      <td>A58613</td>\n",
       "    </tr>\n",
       "    <tr>\n",
       "      <th>1</th>\n",
       "      <td>1</td>\n",
       "      <td>A21380</td>\n",
       "      <td>0.1538</td>\n",
       "      <td>0.0724</td>\n",
       "      <td>2.1253</td>\n",
       "      <td>A92845</td>\n",
       "    </tr>\n",
       "    <tr>\n",
       "      <th>2</th>\n",
       "      <td>2</td>\n",
       "      <td>A58613</td>\n",
       "      <td>0.1684</td>\n",
       "      <td>0.0708</td>\n",
       "      <td>2.3779</td>\n",
       "      <td>A92845</td>\n",
       "    </tr>\n",
       "    <tr>\n",
       "      <th>3</th>\n",
       "      <td>3</td>\n",
       "      <td>A21380</td>\n",
       "      <td>0.1726</td>\n",
       "      <td>0.0777</td>\n",
       "      <td>2.2221</td>\n",
       "      <td>A127548</td>\n",
       "    </tr>\n",
       "    <tr>\n",
       "      <th>4</th>\n",
       "      <td>4</td>\n",
       "      <td>A58613</td>\n",
       "      <td>0.1572</td>\n",
       "      <td>0.0686</td>\n",
       "      <td>2.2905</td>\n",
       "      <td>A127548</td>\n",
       "    </tr>\n",
       "    <tr>\n",
       "      <th>5</th>\n",
       "      <td>5</td>\n",
       "      <td>A92845</td>\n",
       "      <td>0.0173</td>\n",
       "      <td>0.2538</td>\n",
       "      <td>0.0681</td>\n",
       "      <td>A127548</td>\n",
       "    </tr>\n",
       "    <tr>\n",
       "      <th>6</th>\n",
       "      <td>0</td>\n",
       "      <td>A50449</td>\n",
       "      <td>0.1125</td>\n",
       "      <td>0.5516</td>\n",
       "      <td>0.2039</td>\n",
       "      <td>A18886</td>\n",
       "    </tr>\n",
       "    <tr>\n",
       "      <th>7</th>\n",
       "      <td>1</td>\n",
       "      <td>A50449</td>\n",
       "      <td>0.1445</td>\n",
       "      <td>0.0795</td>\n",
       "      <td>1.8175</td>\n",
       "      <td>A91165</td>\n",
       "    </tr>\n",
       "    <tr>\n",
       "      <th>8</th>\n",
       "      <td>2</td>\n",
       "      <td>A18886</td>\n",
       "      <td>0.1795</td>\n",
       "      <td>0.0805</td>\n",
       "      <td>2.2292</td>\n",
       "      <td>A91165</td>\n",
       "    </tr>\n",
       "    <tr>\n",
       "      <th>9</th>\n",
       "      <td>3</td>\n",
       "      <td>A50449</td>\n",
       "      <td>0.1723</td>\n",
       "      <td>0.0672</td>\n",
       "      <td>2.5644</td>\n",
       "      <td>A125421</td>\n",
       "    </tr>\n",
       "    <tr>\n",
       "      <th>10</th>\n",
       "      <td>4</td>\n",
       "      <td>A18886</td>\n",
       "      <td>0.1204</td>\n",
       "      <td>0.0512</td>\n",
       "      <td>2.3497</td>\n",
       "      <td>A125421</td>\n",
       "    </tr>\n",
       "    <tr>\n",
       "      <th>11</th>\n",
       "      <td>5</td>\n",
       "      <td>A91165</td>\n",
       "      <td>0.1065</td>\n",
       "      <td>0.6589</td>\n",
       "      <td>0.1617</td>\n",
       "      <td>A125421</td>\n",
       "    </tr>\n",
       "  </tbody>\n",
       "</table>\n",
       "</div>"
      ],
      "text/plain": [
       "    index col_label      dn   dn/ds      ds row_label\n",
       "0       0    A21380  0.0392  0.1081  0.3629    A58613\n",
       "1       1    A21380  0.1538  0.0724  2.1253    A92845\n",
       "2       2    A58613  0.1684  0.0708  2.3779    A92845\n",
       "3       3    A21380  0.1726  0.0777  2.2221   A127548\n",
       "4       4    A58613  0.1572  0.0686  2.2905   A127548\n",
       "5       5    A92845  0.0173  0.2538  0.0681   A127548\n",
       "6       0    A50449  0.1125  0.5516  0.2039    A18886\n",
       "7       1    A50449  0.1445  0.0795  1.8175    A91165\n",
       "8       2    A18886  0.1795  0.0805  2.2292    A91165\n",
       "9       3    A50449  0.1723  0.0672  2.5644   A125421\n",
       "10      4    A18886  0.1204  0.0512  2.3497   A125421\n",
       "11      5    A91165  0.1065  0.6589  0.1617   A125421"
      ]
     },
     "execution_count": 420,
     "metadata": {},
     "output_type": "execute_result"
    }
   ],
   "source": [
    "all_data.reset_index()"
   ]
  },
  {
   "cell_type": "code",
   "execution_count": 421,
   "metadata": {
    "collapsed": false
   },
   "outputs": [
    {
     "data": {
      "text/html": [
       "<div>\n",
       "<table border=\"1\" class=\"dataframe\">\n",
       "  <thead>\n",
       "    <tr style=\"text-align: right;\">\n",
       "      <th></th>\n",
       "      <th>col_label</th>\n",
       "      <th>dn</th>\n",
       "      <th>dn/ds</th>\n",
       "      <th>ds</th>\n",
       "      <th>row_label</th>\n",
       "      <th>col_label</th>\n",
       "      <th>dn</th>\n",
       "      <th>dn/ds</th>\n",
       "      <th>ds</th>\n",
       "      <th>row_label</th>\n",
       "    </tr>\n",
       "  </thead>\n",
       "  <tbody>\n",
       "    <tr>\n",
       "      <th>0</th>\n",
       "      <td>A21380</td>\n",
       "      <td>0.0392</td>\n",
       "      <td>0.1081</td>\n",
       "      <td>0.3629</td>\n",
       "      <td>A58613</td>\n",
       "      <td>A50449</td>\n",
       "      <td>0.1125</td>\n",
       "      <td>0.5516</td>\n",
       "      <td>0.2039</td>\n",
       "      <td>A18886</td>\n",
       "    </tr>\n",
       "    <tr>\n",
       "      <th>1</th>\n",
       "      <td>A21380</td>\n",
       "      <td>0.1538</td>\n",
       "      <td>0.0724</td>\n",
       "      <td>2.1253</td>\n",
       "      <td>A92845</td>\n",
       "      <td>A50449</td>\n",
       "      <td>0.1445</td>\n",
       "      <td>0.0795</td>\n",
       "      <td>1.8175</td>\n",
       "      <td>A91165</td>\n",
       "    </tr>\n",
       "    <tr>\n",
       "      <th>2</th>\n",
       "      <td>A58613</td>\n",
       "      <td>0.1684</td>\n",
       "      <td>0.0708</td>\n",
       "      <td>2.3779</td>\n",
       "      <td>A92845</td>\n",
       "      <td>A18886</td>\n",
       "      <td>0.1795</td>\n",
       "      <td>0.0805</td>\n",
       "      <td>2.2292</td>\n",
       "      <td>A91165</td>\n",
       "    </tr>\n",
       "    <tr>\n",
       "      <th>3</th>\n",
       "      <td>A21380</td>\n",
       "      <td>0.1726</td>\n",
       "      <td>0.0777</td>\n",
       "      <td>2.2221</td>\n",
       "      <td>A127548</td>\n",
       "      <td>A50449</td>\n",
       "      <td>0.1723</td>\n",
       "      <td>0.0672</td>\n",
       "      <td>2.5644</td>\n",
       "      <td>A125421</td>\n",
       "    </tr>\n",
       "    <tr>\n",
       "      <th>4</th>\n",
       "      <td>A58613</td>\n",
       "      <td>0.1572</td>\n",
       "      <td>0.0686</td>\n",
       "      <td>2.2905</td>\n",
       "      <td>A127548</td>\n",
       "      <td>A18886</td>\n",
       "      <td>0.1204</td>\n",
       "      <td>0.0512</td>\n",
       "      <td>2.3497</td>\n",
       "      <td>A125421</td>\n",
       "    </tr>\n",
       "    <tr>\n",
       "      <th>5</th>\n",
       "      <td>A92845</td>\n",
       "      <td>0.0173</td>\n",
       "      <td>0.2538</td>\n",
       "      <td>0.0681</td>\n",
       "      <td>A127548</td>\n",
       "      <td>A91165</td>\n",
       "      <td>0.1065</td>\n",
       "      <td>0.6589</td>\n",
       "      <td>0.1617</td>\n",
       "      <td>A125421</td>\n",
       "    </tr>\n",
       "  </tbody>\n",
       "</table>\n",
       "</div>"
      ],
      "text/plain": [
       "  col_label      dn   dn/ds      ds row_label col_label      dn   dn/ds  \\\n",
       "0    A21380  0.0392  0.1081  0.3629    A58613    A50449  0.1125  0.5516   \n",
       "1    A21380  0.1538  0.0724  2.1253    A92845    A50449  0.1445  0.0795   \n",
       "2    A58613  0.1684  0.0708  2.3779    A92845    A18886  0.1795  0.0805   \n",
       "3    A21380  0.1726  0.0777  2.2221   A127548    A50449  0.1723  0.0672   \n",
       "4    A58613  0.1572  0.0686  2.2905   A127548    A18886  0.1204  0.0512   \n",
       "5    A92845  0.0173  0.2538  0.0681   A127548    A91165  0.1065  0.6589   \n",
       "\n",
       "       ds row_label  \n",
       "0  0.2039    A18886  \n",
       "1  1.8175    A91165  \n",
       "2  2.2292    A91165  \n",
       "3  2.5644   A125421  \n",
       "4  2.3497   A125421  \n",
       "5  0.1617   A125421  "
      ]
     },
     "execution_count": 421,
     "metadata": {},
     "output_type": "execute_result"
    }
   ],
   "source": [
    " pandas.concat(data_frames, axis=1)"
   ]
  },
  {
   "cell_type": "code",
   "execution_count": 422,
   "metadata": {
    "collapsed": true
   },
   "outputs": [],
   "source": [
    "all_data = pandas.concat(data_frames, axis=0)"
   ]
  },
  {
   "cell_type": "code",
   "execution_count": 423,
   "metadata": {
    "collapsed": false
   },
   "outputs": [
    {
     "data": {
      "text/plain": [
       "0    0.0392\n",
       "1    0.1538\n",
       "2    0.1684\n",
       "3    0.1726\n",
       "4    0.1572\n",
       "5    0.0173\n",
       "0    0.1125\n",
       "1    0.1445\n",
       "2    0.1795\n",
       "3    0.1723\n",
       "4    0.1204\n",
       "5    0.1065\n",
       "Name: dn, dtype: float64"
      ]
     },
     "execution_count": 423,
     "metadata": {},
     "output_type": "execute_result"
    }
   ],
   "source": [
    "all_data.loc[:, \"dn\"]"
   ]
  },
  {
   "cell_type": "code",
   "execution_count": 424,
   "metadata": {
    "collapsed": false
   },
   "outputs": [
    {
     "data": {
      "text/plain": [
       "0.12868333333333334"
      ]
     },
     "execution_count": 424,
     "metadata": {},
     "output_type": "execute_result"
    }
   ],
   "source": [
    "all_data.loc[:, \"dn\"].mean()"
   ]
  },
  {
   "cell_type": "code",
   "execution_count": 425,
   "metadata": {
    "collapsed": false
   },
   "outputs": [
    {
     "data": {
      "text/plain": [
       "dn       0.128683\n",
       "dn/ds    0.178358\n",
       "ds       1.564433\n",
       "dtype: float64"
      ]
     },
     "execution_count": 425,
     "metadata": {},
     "output_type": "execute_result"
    }
   ],
   "source": [
    "all_data.mean()"
   ]
  },
  {
   "cell_type": "code",
   "execution_count": 427,
   "metadata": {
    "collapsed": false
   },
   "outputs": [
    {
     "name": "stdout",
     "output_type": "stream",
     "text": [
      "Help on method to_csv in module pandas.core.frame:\n",
      "\n",
      "to_csv(path_or_buf=None, sep=',', na_rep='', float_format=None, columns=None, header=True, index=True, index_label=None, mode='w', encoding=None, compression=None, quoting=None, quotechar='\"', line_terminator='\\n', chunksize=None, tupleize_cols=False, date_format=None, doublequote=True, escapechar=None, decimal='.', **kwds) method of pandas.core.frame.DataFrame instance\n",
      "    Write DataFrame to a comma-separated values (csv) file\n",
      "    \n",
      "    Parameters\n",
      "    ----------\n",
      "    path_or_buf : string or file handle, default None\n",
      "        File path or object, if None is provided the result is returned as\n",
      "        a string.\n",
      "    sep : character, default ','\n",
      "        Field delimiter for the output file.\n",
      "    na_rep : string, default ''\n",
      "        Missing data representation\n",
      "    float_format : string, default None\n",
      "        Format string for floating point numbers\n",
      "    columns : sequence, optional\n",
      "        Columns to write\n",
      "    header : boolean or list of string, default True\n",
      "        Write out column names. If a list of string is given it is assumed\n",
      "        to be aliases for the column names\n",
      "    index : boolean, default True\n",
      "        Write row names (index)\n",
      "    index_label : string or sequence, or False, default None\n",
      "        Column label for index column(s) if desired. If None is given, and\n",
      "        `header` and `index` are True, then the index names are used. A\n",
      "        sequence should be given if the DataFrame uses MultiIndex.  If\n",
      "        False do not print fields for index names. Use index_label=False\n",
      "        for easier importing in R\n",
      "    nanRep : None\n",
      "        deprecated, use na_rep\n",
      "    mode : str\n",
      "        Python write mode, default 'w'\n",
      "    encoding : string, optional\n",
      "        A string representing the encoding to use in the output file,\n",
      "        defaults to 'ascii' on Python 2 and 'utf-8' on Python 3.\n",
      "    compression : string, optional\n",
      "        a string representing the compression to use in the output file,\n",
      "        allowed values are 'gzip', 'bz2',\n",
      "        only used when the first argument is a filename\n",
      "    line_terminator : string, default '\\n'\n",
      "        The newline character or character sequence to use in the output\n",
      "        file\n",
      "    quoting : optional constant from csv module\n",
      "        defaults to csv.QUOTE_MINIMAL\n",
      "    quotechar : string (length 1), default '\"'\n",
      "        character used to quote fields\n",
      "    doublequote : boolean, default True\n",
      "        Control quoting of `quotechar` inside a field\n",
      "    escapechar : string (length 1), default None\n",
      "        character used to escape `sep` and `quotechar` when appropriate\n",
      "    chunksize : int or None\n",
      "        rows to write at a time\n",
      "    tupleize_cols : boolean, default False\n",
      "        write multi_index columns as a list of tuples (if True)\n",
      "        or new (expanded format) if False)\n",
      "    date_format : string, default None\n",
      "        Format string for datetime objects\n",
      "    decimal: string, default '.'\n",
      "        Character recognized as decimal separator. E.g. use ',' for European data\n",
      "    \n",
      "        .. versionadded:: 0.16.0\n",
      "\n"
     ]
    }
   ],
   "source": [
    "help(all_data.to_csv)"
   ]
  },
  {
   "cell_type": "code",
   "execution_count": 429,
   "metadata": {
    "collapsed": true
   },
   "outputs": [],
   "source": [
    "all_data.to_csv(\"Desktop/dn_ds_data.csv\")"
   ]
  },
  {
   "cell_type": "code",
   "execution_count": 430,
   "metadata": {
    "collapsed": false
   },
   "outputs": [
    {
     "data": {
      "text/plain": [
       "0    0.0392\n",
       "1    0.1538\n",
       "2    0.1684\n",
       "3    0.1726\n",
       "4    0.1572\n",
       "5    0.0173\n",
       "0    0.1125\n",
       "1    0.1445\n",
       "2    0.1795\n",
       "3    0.1723\n",
       "4    0.1204\n",
       "5    0.1065\n",
       "Name: dn, dtype: float64"
      ]
     },
     "execution_count": 430,
     "metadata": {},
     "output_type": "execute_result"
    }
   ],
   "source": [
    "all_data[\"dn\"]"
   ]
  },
  {
   "cell_type": "code",
   "execution_count": 435,
   "metadata": {
    "collapsed": false
   },
   "outputs": [],
   "source": [
    "rearranged_data = all_data[[\"row_label\", \"col_label\", \"dn\", \"ds\", \"dn/ds\"]]"
   ]
  },
  {
   "cell_type": "code",
   "execution_count": 436,
   "metadata": {
    "collapsed": false
   },
   "outputs": [
    {
     "data": {
      "text/html": [
       "<div>\n",
       "<table border=\"1\" class=\"dataframe\">\n",
       "  <thead>\n",
       "    <tr style=\"text-align: right;\">\n",
       "      <th></th>\n",
       "      <th>row_label</th>\n",
       "      <th>col_label</th>\n",
       "      <th>dn</th>\n",
       "      <th>ds</th>\n",
       "      <th>dn/ds</th>\n",
       "    </tr>\n",
       "  </thead>\n",
       "  <tbody>\n",
       "    <tr>\n",
       "      <th>0</th>\n",
       "      <td>A58613</td>\n",
       "      <td>A21380</td>\n",
       "      <td>0.0392</td>\n",
       "      <td>0.3629</td>\n",
       "      <td>0.1081</td>\n",
       "    </tr>\n",
       "    <tr>\n",
       "      <th>1</th>\n",
       "      <td>A92845</td>\n",
       "      <td>A21380</td>\n",
       "      <td>0.1538</td>\n",
       "      <td>2.1253</td>\n",
       "      <td>0.0724</td>\n",
       "    </tr>\n",
       "    <tr>\n",
       "      <th>2</th>\n",
       "      <td>A92845</td>\n",
       "      <td>A58613</td>\n",
       "      <td>0.1684</td>\n",
       "      <td>2.3779</td>\n",
       "      <td>0.0708</td>\n",
       "    </tr>\n",
       "    <tr>\n",
       "      <th>3</th>\n",
       "      <td>A127548</td>\n",
       "      <td>A21380</td>\n",
       "      <td>0.1726</td>\n",
       "      <td>2.2221</td>\n",
       "      <td>0.0777</td>\n",
       "    </tr>\n",
       "    <tr>\n",
       "      <th>4</th>\n",
       "      <td>A127548</td>\n",
       "      <td>A58613</td>\n",
       "      <td>0.1572</td>\n",
       "      <td>2.2905</td>\n",
       "      <td>0.0686</td>\n",
       "    </tr>\n",
       "    <tr>\n",
       "      <th>5</th>\n",
       "      <td>A127548</td>\n",
       "      <td>A92845</td>\n",
       "      <td>0.0173</td>\n",
       "      <td>0.0681</td>\n",
       "      <td>0.2538</td>\n",
       "    </tr>\n",
       "    <tr>\n",
       "      <th>0</th>\n",
       "      <td>A18886</td>\n",
       "      <td>A50449</td>\n",
       "      <td>0.1125</td>\n",
       "      <td>0.2039</td>\n",
       "      <td>0.5516</td>\n",
       "    </tr>\n",
       "    <tr>\n",
       "      <th>1</th>\n",
       "      <td>A91165</td>\n",
       "      <td>A50449</td>\n",
       "      <td>0.1445</td>\n",
       "      <td>1.8175</td>\n",
       "      <td>0.0795</td>\n",
       "    </tr>\n",
       "    <tr>\n",
       "      <th>2</th>\n",
       "      <td>A91165</td>\n",
       "      <td>A18886</td>\n",
       "      <td>0.1795</td>\n",
       "      <td>2.2292</td>\n",
       "      <td>0.0805</td>\n",
       "    </tr>\n",
       "    <tr>\n",
       "      <th>3</th>\n",
       "      <td>A125421</td>\n",
       "      <td>A50449</td>\n",
       "      <td>0.1723</td>\n",
       "      <td>2.5644</td>\n",
       "      <td>0.0672</td>\n",
       "    </tr>\n",
       "    <tr>\n",
       "      <th>4</th>\n",
       "      <td>A125421</td>\n",
       "      <td>A18886</td>\n",
       "      <td>0.1204</td>\n",
       "      <td>2.3497</td>\n",
       "      <td>0.0512</td>\n",
       "    </tr>\n",
       "    <tr>\n",
       "      <th>5</th>\n",
       "      <td>A125421</td>\n",
       "      <td>A91165</td>\n",
       "      <td>0.1065</td>\n",
       "      <td>0.1617</td>\n",
       "      <td>0.6589</td>\n",
       "    </tr>\n",
       "  </tbody>\n",
       "</table>\n",
       "</div>"
      ],
      "text/plain": [
       "  row_label col_label      dn      ds   dn/ds\n",
       "0    A58613    A21380  0.0392  0.3629  0.1081\n",
       "1    A92845    A21380  0.1538  2.1253  0.0724\n",
       "2    A92845    A58613  0.1684  2.3779  0.0708\n",
       "3   A127548    A21380  0.1726  2.2221  0.0777\n",
       "4   A127548    A58613  0.1572  2.2905  0.0686\n",
       "5   A127548    A92845  0.0173  0.0681  0.2538\n",
       "0    A18886    A50449  0.1125  0.2039  0.5516\n",
       "1    A91165    A50449  0.1445  1.8175  0.0795\n",
       "2    A91165    A18886  0.1795  2.2292  0.0805\n",
       "3   A125421    A50449  0.1723  2.5644  0.0672\n",
       "4   A125421    A18886  0.1204  2.3497  0.0512\n",
       "5   A125421    A91165  0.1065  0.1617  0.6589"
      ]
     },
     "execution_count": 436,
     "metadata": {},
     "output_type": "execute_result"
    }
   ],
   "source": [
    "rearranged_data"
   ]
  },
  {
   "cell_type": "code",
   "execution_count": 437,
   "metadata": {
    "collapsed": true
   },
   "outputs": [],
   "source": [
    "import numpy as np"
   ]
  },
  {
   "cell_type": "code",
   "execution_count": 438,
   "metadata": {
    "collapsed": false
   },
   "outputs": [
    {
     "data": {
      "text/plain": [
       "array([1, 2, 3])"
      ]
     },
     "execution_count": 438,
     "metadata": {},
     "output_type": "execute_result"
    }
   ],
   "source": [
    "np.array([1,2,3])"
   ]
  },
  {
   "cell_type": "code",
   "execution_count": 439,
   "metadata": {
    "collapsed": true
   },
   "outputs": [],
   "source": [
    "my_array = np.array([1,2,3])"
   ]
  },
  {
   "cell_type": "code",
   "execution_count": 440,
   "metadata": {
    "collapsed": false
   },
   "outputs": [
    {
     "data": {
      "text/plain": [
       "1"
      ]
     },
     "execution_count": 440,
     "metadata": {},
     "output_type": "execute_result"
    }
   ],
   "source": [
    "my_array[0]"
   ]
  },
  {
   "cell_type": "code",
   "execution_count": 441,
   "metadata": {
    "collapsed": true
   },
   "outputs": [],
   "source": [
    "my_array[0] = 6"
   ]
  },
  {
   "cell_type": "code",
   "execution_count": 442,
   "metadata": {
    "collapsed": false
   },
   "outputs": [
    {
     "data": {
      "text/plain": [
       "array([6, 2, 3])"
      ]
     },
     "execution_count": 442,
     "metadata": {},
     "output_type": "execute_result"
    }
   ],
   "source": [
    "my_array"
   ]
  },
  {
   "cell_type": "code",
   "execution_count": 443,
   "metadata": {
    "collapsed": false
   },
   "outputs": [
    {
     "data": {
      "text/plain": [
       "3"
      ]
     },
     "execution_count": 443,
     "metadata": {},
     "output_type": "execute_result"
    }
   ],
   "source": [
    "len(my_array)"
   ]
  },
  {
   "cell_type": "code",
   "execution_count": 444,
   "metadata": {
    "collapsed": false
   },
   "outputs": [
    {
     "data": {
      "text/plain": [
       "array([[1, 2, 3],\n",
       "       [4, 5, 6]])"
      ]
     },
     "execution_count": 444,
     "metadata": {},
     "output_type": "execute_result"
    }
   ],
   "source": [
    "np.array([[1,2,3], [4,5,6]])"
   ]
  },
  {
   "cell_type": "code",
   "execution_count": 445,
   "metadata": {
    "collapsed": true
   },
   "outputs": [],
   "source": [
    "my_list_1 = [1,2,3]\n",
    "my_list_2 = [4,5,6]"
   ]
  },
  {
   "cell_type": "code",
   "execution_count": 446,
   "metadata": {
    "collapsed": false
   },
   "outputs": [
    {
     "data": {
      "text/plain": [
       "[[1, 2, 3], [4, 5, 6]]"
      ]
     },
     "execution_count": 446,
     "metadata": {},
     "output_type": "execute_result"
    }
   ],
   "source": [
    "[my_list_1, my_list_2]"
   ]
  },
  {
   "cell_type": "code",
   "execution_count": 447,
   "metadata": {
    "collapsed": true
   },
   "outputs": [],
   "source": [
    "my_2d_list = np.array([[1,2,3], [4,5,6]])"
   ]
  },
  {
   "cell_type": "code",
   "execution_count": 448,
   "metadata": {
    "collapsed": false
   },
   "outputs": [
    {
     "data": {
      "text/plain": [
       "numpy.ndarray"
      ]
     },
     "execution_count": 448,
     "metadata": {},
     "output_type": "execute_result"
    }
   ],
   "source": [
    "type(my_2d_list)"
   ]
  },
  {
   "cell_type": "code",
   "execution_count": 449,
   "metadata": {
    "collapsed": false
   },
   "outputs": [
    {
     "data": {
      "text/plain": [
       "(2, 3)"
      ]
     },
     "execution_count": 449,
     "metadata": {},
     "output_type": "execute_result"
    }
   ],
   "source": [
    "my_2d_list.shape"
   ]
  },
  {
   "cell_type": "code",
   "execution_count": 452,
   "metadata": {
    "collapsed": false
   },
   "outputs": [],
   "source": [
    "new_array = np.array([ [1,2],\n",
    "                      [3,4,5]\n",
    "                    ])"
   ]
  },
  {
   "cell_type": "code",
   "execution_count": 453,
   "metadata": {
    "collapsed": false
   },
   "outputs": [
    {
     "data": {
      "text/plain": [
       "(2,)"
      ]
     },
     "execution_count": 453,
     "metadata": {},
     "output_type": "execute_result"
    }
   ],
   "source": [
    "new_array.shape"
   ]
  },
  {
   "cell_type": "code",
   "execution_count": 454,
   "metadata": {
    "collapsed": true
   },
   "outputs": [],
   "source": [
    "my_3d_array = np.array([ [[1, 2, 3], [4,5,6]],\n",
    "                          [[7, 8, 9], [10, 11, 12]]\n",
    "                        ])"
   ]
  },
  {
   "cell_type": "code",
   "execution_count": 455,
   "metadata": {
    "collapsed": false
   },
   "outputs": [
    {
     "data": {
      "text/plain": [
       "array([[[ 1,  2,  3],\n",
       "        [ 4,  5,  6]],\n",
       "\n",
       "       [[ 7,  8,  9],\n",
       "        [10, 11, 12]]])"
      ]
     },
     "execution_count": 455,
     "metadata": {},
     "output_type": "execute_result"
    }
   ],
   "source": [
    "my_3d_array"
   ]
  },
  {
   "cell_type": "code",
   "execution_count": 456,
   "metadata": {
    "collapsed": false
   },
   "outputs": [
    {
     "data": {
      "text/plain": [
       "(2, 2, 3)"
      ]
     },
     "execution_count": 456,
     "metadata": {},
     "output_type": "execute_result"
    }
   ],
   "source": [
    "my_3d_array.shape"
   ]
  },
  {
   "cell_type": "code",
   "execution_count": 457,
   "metadata": {
    "collapsed": false
   },
   "outputs": [
    {
     "ename": "ValueError",
     "evalue": "invalid literal for int() with base 10: 'hello'",
     "output_type": "error",
     "traceback": [
      "\u001b[0;31m---------------------------------------------------------------------------\u001b[0m",
      "\u001b[0;31mValueError\u001b[0m                                Traceback (most recent call last)",
      "\u001b[0;32m<ipython-input-457-f4d699cab579>\u001b[0m in \u001b[0;36m<module>\u001b[0;34m()\u001b[0m\n\u001b[0;32m----> 1\u001b[0;31m \u001b[0mmy_array\u001b[0m\u001b[0;34m[\u001b[0m\u001b[0;36m0\u001b[0m\u001b[0;34m]\u001b[0m \u001b[0;34m=\u001b[0m \u001b[0;34m\"hello\"\u001b[0m\u001b[0;34m\u001b[0m\u001b[0m\n\u001b[0m",
      "\u001b[0;31mValueError\u001b[0m: invalid literal for int() with base 10: 'hello'"
     ]
    }
   ],
   "source": [
    "my_array[0] = \"hello\""
   ]
  },
  {
   "cell_type": "code",
   "execution_count": 458,
   "metadata": {
    "collapsed": false
   },
   "outputs": [
    {
     "data": {
      "text/plain": [
       "array([1, 2, 3])"
      ]
     },
     "execution_count": 458,
     "metadata": {},
     "output_type": "execute_result"
    }
   ],
   "source": [
    "my_2d_list[0]"
   ]
  },
  {
   "cell_type": "code",
   "execution_count": 459,
   "metadata": {
    "collapsed": false
   },
   "outputs": [
    {
     "data": {
      "text/plain": [
       "2"
      ]
     },
     "execution_count": 459,
     "metadata": {},
     "output_type": "execute_result"
    }
   ],
   "source": [
    "my_2d_list[0, 1]"
   ]
  },
  {
   "cell_type": "code",
   "execution_count": 460,
   "metadata": {
    "collapsed": false
   },
   "outputs": [
    {
     "data": {
      "text/plain": [
       "array([2, 3])"
      ]
     },
     "execution_count": 460,
     "metadata": {},
     "output_type": "execute_result"
    }
   ],
   "source": [
    "my_2d_list[0, 1:]"
   ]
  },
  {
   "cell_type": "code",
   "execution_count": 461,
   "metadata": {
    "collapsed": false
   },
   "outputs": [
    {
     "data": {
      "text/plain": [
       "2"
      ]
     },
     "execution_count": 461,
     "metadata": {},
     "output_type": "execute_result"
    }
   ],
   "source": [
    "my_2d_list[0][1]"
   ]
  },
  {
   "cell_type": "code",
   "execution_count": 462,
   "metadata": {
    "collapsed": false
   },
   "outputs": [
    {
     "data": {
      "text/plain": [
       "(3,)"
      ]
     },
     "execution_count": 462,
     "metadata": {},
     "output_type": "execute_result"
    }
   ],
   "source": [
    "my_array.shape"
   ]
  },
  {
   "cell_type": "code",
   "execution_count": 463,
   "metadata": {
    "collapsed": false
   },
   "outputs": [
    {
     "data": {
      "text/plain": [
       "array([6, 2, 3])"
      ]
     },
     "execution_count": 463,
     "metadata": {},
     "output_type": "execute_result"
    }
   ],
   "source": [
    "my_array"
   ]
  },
  {
   "cell_type": "code",
   "execution_count": null,
   "metadata": {
    "collapsed": true
   },
   "outputs": [],
   "source": [
    "# Level 1: Make a new 2D array with your favorite numbers\n",
    "# Level 2: Find the value in the upper left (row 0, column 0)\n",
    "# Level 3: Make a 4 dimensional array"
   ]
  },
  {
   "cell_type": "code",
   "execution_count": 464,
   "metadata": {
    "collapsed": true
   },
   "outputs": [],
   "source": [
    "practice_2d_array = np.array([ [2, 4, 6],\n",
    "                               [8, 10, 12]\n",
    "                             ])"
   ]
  },
  {
   "cell_type": "code",
   "execution_count": 465,
   "metadata": {
    "collapsed": false
   },
   "outputs": [
    {
     "data": {
      "text/plain": [
       "2"
      ]
     },
     "execution_count": 465,
     "metadata": {},
     "output_type": "execute_result"
    }
   ],
   "source": [
    "practice_2d_array[0, 0]"
   ]
  },
  {
   "cell_type": "code",
   "execution_count": 466,
   "metadata": {
    "collapsed": true
   },
   "outputs": [],
   "source": [
    "my_4d_array = np.array([[[[1,2,3]]]])"
   ]
  },
  {
   "cell_type": "code",
   "execution_count": 467,
   "metadata": {
    "collapsed": false
   },
   "outputs": [
    {
     "data": {
      "text/plain": [
       "(1, 1, 1, 3)"
      ]
     },
     "execution_count": 467,
     "metadata": {},
     "output_type": "execute_result"
    }
   ],
   "source": [
    "my_4d_array.shape"
   ]
  },
  {
   "cell_type": "code",
   "execution_count": 468,
   "metadata": {
    "collapsed": false
   },
   "outputs": [
    {
     "data": {
      "text/plain": [
       "array([0, 1, 2, 3, 4])"
      ]
     },
     "execution_count": 468,
     "metadata": {},
     "output_type": "execute_result"
    }
   ],
   "source": [
    "#The numpy arange function\n",
    "np.arange(5)"
   ]
  },
  {
   "cell_type": "code",
   "execution_count": 469,
   "metadata": {
    "collapsed": false
   },
   "outputs": [
    {
     "data": {
      "text/plain": [
       "array([4, 5, 6, 7, 8, 9])"
      ]
     },
     "execution_count": 469,
     "metadata": {},
     "output_type": "execute_result"
    }
   ],
   "source": [
    "np.arange(4, 10)"
   ]
  },
  {
   "cell_type": "code",
   "execution_count": 470,
   "metadata": {
    "collapsed": false
   },
   "outputs": [
    {
     "data": {
      "text/plain": [
       "array([4, 6, 8])"
      ]
     },
     "execution_count": 470,
     "metadata": {},
     "output_type": "execute_result"
    }
   ],
   "source": [
    "np.arange(4, 10, 2)"
   ]
  },
  {
   "cell_type": "code",
   "execution_count": 471,
   "metadata": {
    "collapsed": false
   },
   "outputs": [
    {
     "data": {
      "text/plain": [
       "array([ 10.        ,  11.11111111,  12.22222222,  13.33333333,\n",
       "        14.44444444,  15.55555556,  16.66666667,  17.77777778,\n",
       "        18.88888889,  20.        ])"
      ]
     },
     "execution_count": 471,
     "metadata": {},
     "output_type": "execute_result"
    }
   ],
   "source": [
    "np.linspace(10, 20, 10)"
   ]
  },
  {
   "cell_type": "code",
   "execution_count": 472,
   "metadata": {
    "collapsed": false
   },
   "outputs": [
    {
     "data": {
      "text/plain": [
       "array([ 11.,  12.,  13.,  14.,  15.,  16.,  17.,  18.,  19.,  20.])"
      ]
     },
     "execution_count": 472,
     "metadata": {},
     "output_type": "execute_result"
    }
   ],
   "source": [
    "np.linspace(11, 20, 10)"
   ]
  },
  {
   "cell_type": "code",
   "execution_count": 473,
   "metadata": {
    "collapsed": false
   },
   "outputs": [
    {
     "data": {
      "text/plain": [
       "array([  5.        ,   5.55555556,   6.11111111,   6.66666667,\n",
       "         7.22222222,   7.77777778,   8.33333333,   8.88888889,\n",
       "         9.44444444,  10.        ])"
      ]
     },
     "execution_count": 473,
     "metadata": {},
     "output_type": "execute_result"
    }
   ],
   "source": [
    "# Make an array of 10 numbers between 5 \n",
    "# and 10 using np.linspace\n",
    "np.linspace(5, 10, 10)"
   ]
  },
  {
   "cell_type": "code",
   "execution_count": 474,
   "metadata": {
    "collapsed": false
   },
   "outputs": [
    {
     "name": "stdout",
     "output_type": "stream",
     "text": [
      "Help on function asmatrix in module numpy.matrixlib.defmatrix:\n",
      "\n",
      "asmatrix(data, dtype=None)\n",
      "    Interpret the input as a matrix.\n",
      "    \n",
      "    Unlike `matrix`, `asmatrix` does not make a copy if the input is already\n",
      "    a matrix or an ndarray.  Equivalent to ``matrix(data, copy=False)``.\n",
      "    \n",
      "    Parameters\n",
      "    ----------\n",
      "    data : array_like\n",
      "        Input data.\n",
      "    dtype : data-type\n",
      "       Data-type of the output matrix.\n",
      "    \n",
      "    Returns\n",
      "    -------\n",
      "    mat : matrix\n",
      "        `data` interpreted as a matrix.\n",
      "    \n",
      "    Examples\n",
      "    --------\n",
      "    >>> x = np.array([[1, 2], [3, 4]])\n",
      "    \n",
      "    >>> m = np.asmatrix(x)\n",
      "    \n",
      "    >>> x[0,0] = 5\n",
      "    \n",
      "    >>> m\n",
      "    matrix([[5, 2],\n",
      "            [3, 4]])\n",
      "\n"
     ]
    }
   ],
   "source": [
    "help(np.mat)"
   ]
  },
  {
   "cell_type": "code",
   "execution_count": 475,
   "metadata": {
    "collapsed": true
   },
   "outputs": [],
   "source": [
    "import math"
   ]
  },
  {
   "cell_type": "code",
   "execution_count": 476,
   "metadata": {
    "collapsed": false
   },
   "outputs": [
    {
     "data": {
      "text/plain": [
       "5.0"
      ]
     },
     "execution_count": 476,
     "metadata": {},
     "output_type": "execute_result"
    }
   ],
   "source": [
    "math.sqrt(25)"
   ]
  },
  {
   "cell_type": "code",
   "execution_count": 480,
   "metadata": {
    "collapsed": false
   },
   "outputs": [
    {
     "data": {
      "text/plain": [
       "1.3862943611198906"
      ]
     },
     "execution_count": 480,
     "metadata": {},
     "output_type": "execute_result"
    }
   ],
   "source": [
    "math.log(4)"
   ]
  },
  {
   "cell_type": "code",
   "execution_count": 481,
   "metadata": {
    "collapsed": false
   },
   "outputs": [
    {
     "data": {
      "text/plain": [
       "array([[ 4,  8, 12],\n",
       "       [16, 20, 24]])"
      ]
     },
     "execution_count": 481,
     "metadata": {},
     "output_type": "execute_result"
    }
   ],
   "source": [
    "my_2d_list * 4"
   ]
  },
  {
   "cell_type": "code",
   "execution_count": 482,
   "metadata": {
    "collapsed": false
   },
   "outputs": [
    {
     "data": {
      "text/plain": [
       "array([[ 2,  4,  6],\n",
       "       [ 8, 10, 12]])"
      ]
     },
     "execution_count": 482,
     "metadata": {},
     "output_type": "execute_result"
    }
   ],
   "source": [
    "my_2d_list + my_2d_list"
   ]
  },
  {
   "cell_type": "code",
   "execution_count": 483,
   "metadata": {
    "collapsed": false
   },
   "outputs": [
    {
     "data": {
      "text/plain": [
       "array([[1, 2, 3],\n",
       "       [4, 5, 6]])"
      ]
     },
     "execution_count": 483,
     "metadata": {},
     "output_type": "execute_result"
    }
   ],
   "source": [
    "my_2d_list"
   ]
  },
  {
   "cell_type": "code",
   "execution_count": 484,
   "metadata": {
    "collapsed": false
   },
   "outputs": [
    {
     "data": {
      "text/plain": [
       "array([[ 1,  4,  9],\n",
       "       [16, 25, 36]])"
      ]
     },
     "execution_count": 484,
     "metadata": {},
     "output_type": "execute_result"
    }
   ],
   "source": [
    "my_2d_list * my_2d_list"
   ]
  },
  {
   "cell_type": "code",
   "execution_count": null,
   "metadata": {
    "collapsed": false
   },
   "outputs": [],
   "source": [
    "import scipy"
   ]
  },
  {
   "cell_type": "code",
   "execution_count": null,
   "metadata": {
    "collapsed": true
   },
   "outputs": [],
   "source": []
  },
  {
   "cell_type": "code",
   "execution_count": 486,
   "metadata": {
    "collapsed": true
   },
   "outputs": [],
   "source": [
    "def f_x(x):\n",
    "    return x ** 2"
   ]
  },
  {
   "cell_type": "code",
   "execution_count": 487,
   "metadata": {
    "collapsed": false
   },
   "outputs": [
    {
     "data": {
      "text/plain": [
       "4"
      ]
     },
     "execution_count": 487,
     "metadata": {},
     "output_type": "execute_result"
    }
   ],
   "source": [
    "f_x(2)"
   ]
  },
  {
   "cell_type": "code",
   "execution_count": 488,
   "metadata": {
    "collapsed": true
   },
   "outputs": [],
   "source": [
    "def pop_growth(N):\n",
    "    \"\"\"\n",
    "    This function calculates the increase in population for a given \n",
    "    time step. Assumes population growth rate (r) is .05\n",
    "    Input: N - the current size of the population\n",
    "    Returns: The number of new population members in this time step\n",
    "    \"\"\"\n",
    "    return .05 * N"
   ]
  },
  {
   "cell_type": "code",
   "execution_count": 489,
   "metadata": {
    "collapsed": false
   },
   "outputs": [
    {
     "data": {
      "text/plain": [
       "5.0"
      ]
     },
     "execution_count": 489,
     "metadata": {},
     "output_type": "execute_result"
    }
   ],
   "source": [
    "pop_growth(100)"
   ]
  },
  {
   "cell_type": "code",
   "execution_count": 490,
   "metadata": {
    "collapsed": false
   },
   "outputs": [
    {
     "name": "stdout",
     "output_type": "stream",
     "text": [
      "Time: 0 Population size: 1050.0\n",
      "Time: 1 Population size: 1102.5\n",
      "Time: 2 Population size: 1157.625\n",
      "Time: 3 Population size: 1215.50625\n",
      "Time: 4 Population size: 1276.2815624999998\n",
      "Time: 5 Population size: 1340.0956406249998\n",
      "Time: 6 Population size: 1407.1004226562497\n",
      "Time: 7 Population size: 1477.4554437890622\n",
      "Time: 8 Population size: 1551.3282159785153\n",
      "Time: 9 Population size: 1628.894626777441\n",
      "Time: 10 Population size: 1710.3393581163132\n",
      "Time: 11 Population size: 1795.8563260221288\n",
      "Time: 12 Population size: 1885.6491423232353\n",
      "Time: 13 Population size: 1979.9315994393971\n",
      "Time: 14 Population size: 2078.928179411367\n",
      "Time: 15 Population size: 2182.8745883819356\n",
      "Time: 16 Population size: 2292.0183178010325\n",
      "Time: 17 Population size: 2406.619233691084\n",
      "Time: 18 Population size: 2526.950195375638\n",
      "Time: 19 Population size: 2653.29770514442\n",
      "Time: 20 Population size: 2785.962590401641\n",
      "Time: 21 Population size: 2925.260719921723\n",
      "Time: 22 Population size: 3071.5237559178095\n",
      "Time: 23 Population size: 3225.0999437136998\n",
      "Time: 24 Population size: 3386.354940899385\n",
      "Time: 25 Population size: 3555.672687944354\n",
      "Time: 26 Population size: 3733.4563223415716\n",
      "Time: 27 Population size: 3920.1291384586502\n",
      "Time: 28 Population size: 4116.135595381583\n",
      "Time: 29 Population size: 4321.942375150662\n",
      "Time: 30 Population size: 4538.039493908195\n",
      "Time: 31 Population size: 4764.941468603605\n",
      "Time: 32 Population size: 5003.188542033786\n",
      "Time: 33 Population size: 5253.347969135475\n",
      "Time: 34 Population size: 5516.015367592248\n",
      "Time: 35 Population size: 5791.816135971861\n",
      "Time: 36 Population size: 6081.4069427704535\n",
      "Time: 37 Population size: 6385.477289908976\n",
      "Time: 38 Population size: 6704.751154404425\n",
      "Time: 39 Population size: 7039.988712124646\n",
      "Time: 40 Population size: 7391.988147730878\n",
      "Time: 41 Population size: 7761.587555117422\n",
      "Time: 42 Population size: 8149.666932873293\n",
      "Time: 43 Population size: 8557.150279516958\n",
      "Time: 44 Population size: 8985.007793492807\n",
      "Time: 45 Population size: 9434.258183167447\n",
      "Time: 46 Population size: 9905.971092325819\n",
      "Time: 47 Population size: 10401.26964694211\n",
      "Time: 48 Population size: 10921.333129289214\n",
      "Time: 49 Population size: 11467.399785753674\n",
      "Time: 50 Population size: 12040.769775041357\n",
      "Time: 51 Population size: 12642.808263793426\n",
      "Time: 52 Population size: 13274.948676983096\n",
      "Time: 53 Population size: 13938.696110832252\n",
      "Time: 54 Population size: 14635.630916373864\n",
      "Time: 55 Population size: 15367.412462192558\n",
      "Time: 56 Population size: 16135.783085302186\n",
      "Time: 57 Population size: 16942.572239567296\n",
      "Time: 58 Population size: 17789.700851545662\n",
      "Time: 59 Population size: 18679.185894122944\n",
      "Time: 60 Population size: 19613.14518882909\n",
      "Time: 61 Population size: 20593.802448270544\n",
      "Time: 62 Population size: 21623.492570684073\n",
      "Time: 63 Population size: 22704.66719921828\n",
      "Time: 64 Population size: 23839.900559179194\n",
      "Time: 65 Population size: 25031.895587138155\n",
      "Time: 66 Population size: 26283.49036649506\n",
      "Time: 67 Population size: 27597.664884819817\n",
      "Time: 68 Population size: 28977.548129060808\n",
      "Time: 69 Population size: 30426.42553551385\n",
      "Time: 70 Population size: 31947.74681228954\n",
      "Time: 71 Population size: 33545.134152904015\n",
      "Time: 72 Population size: 35222.39086054922\n",
      "Time: 73 Population size: 36983.51040357668\n",
      "Time: 74 Population size: 38832.68592375551\n",
      "Time: 75 Population size: 40774.320219943285\n",
      "Time: 76 Population size: 42813.03623094045\n",
      "Time: 77 Population size: 44953.688042487476\n",
      "Time: 78 Population size: 47201.37244461185\n",
      "Time: 79 Population size: 49561.441066842446\n",
      "Time: 80 Population size: 52039.513120184565\n",
      "Time: 81 Population size: 54641.48877619379\n",
      "Time: 82 Population size: 57373.56321500348\n",
      "Time: 83 Population size: 60242.241375753656\n",
      "Time: 84 Population size: 63254.35344454134\n",
      "Time: 85 Population size: 66417.0711167684\n",
      "Time: 86 Population size: 69737.92467260682\n",
      "Time: 87 Population size: 73224.82090623716\n",
      "Time: 88 Population size: 76886.06195154903\n",
      "Time: 89 Population size: 80730.36504912647\n",
      "Time: 90 Population size: 84766.8833015828\n",
      "Time: 91 Population size: 89005.22746666193\n",
      "Time: 92 Population size: 93455.48883999503\n",
      "Time: 93 Population size: 98128.26328199478\n",
      "Time: 94 Population size: 103034.67644609451\n",
      "Time: 95 Population size: 108186.41026839924\n",
      "Time: 96 Population size: 113595.7307818192\n",
      "Time: 97 Population size: 119275.51732091016\n",
      "Time: 98 Population size: 125239.29318695568\n",
      "Time: 99 Population size: 131501.25784630346\n"
     ]
    }
   ],
   "source": [
    "pop_size = 1000\n",
    "for i in range(100):\n",
    "    pop_size += pop_growth(pop_size)\n",
    "    print(\"Time:\", i, \"Population size:\", pop_size)"
   ]
  },
  {
   "cell_type": "code",
   "execution_count": null,
   "metadata": {
    "collapsed": true
   },
   "outputs": [],
   "source": [
    "import pandas"
   ]
  },
  {
   "cell_type": "code",
   "execution_count": 492,
   "metadata": {
    "collapsed": false
   },
   "outputs": [
    {
     "data": {
      "text/html": [
       "<div>\n",
       "<table border=\"1\" class=\"dataframe\">\n",
       "  <thead>\n",
       "    <tr style=\"text-align: right;\">\n",
       "      <th></th>\n",
       "      <th>time</th>\n",
       "      <th>population</th>\n",
       "    </tr>\n",
       "  </thead>\n",
       "  <tbody>\n",
       "  </tbody>\n",
       "</table>\n",
       "</div>"
      ],
      "text/plain": [
       "Empty DataFrame\n",
       "Columns: [time, population]\n",
       "Index: []"
      ]
     },
     "execution_count": 492,
     "metadata": {},
     "output_type": "execute_result"
    }
   ],
   "source": [
    "data = pandas.DataFrame({\"time\":[], \"population\":[]})\n",
    "data[[\"time\", \"population\"]]"
   ]
  },
  {
   "cell_type": "code",
   "execution_count": 495,
   "metadata": {
    "collapsed": false
   },
   "outputs": [
    {
     "data": {
      "text/html": [
       "<div>\n",
       "<table border=\"1\" class=\"dataframe\">\n",
       "  <thead>\n",
       "    <tr style=\"text-align: right;\">\n",
       "      <th></th>\n",
       "      <th>0</th>\n",
       "      <th>1</th>\n",
       "    </tr>\n",
       "  </thead>\n",
       "  <tbody>\n",
       "    <tr>\n",
       "      <th>0</th>\n",
       "      <td>0</td>\n",
       "      <td>1</td>\n",
       "    </tr>\n",
       "  </tbody>\n",
       "</table>\n",
       "</div>"
      ],
      "text/plain": [
       "   0  1\n",
       "0  0  1"
      ]
     },
     "execution_count": 495,
     "metadata": {},
     "output_type": "execute_result"
    }
   ],
   "source": [
    "pandas.DataFrame([0,1]).T"
   ]
  },
  {
   "cell_type": "code",
   "execution_count": 496,
   "metadata": {
    "collapsed": true
   },
   "outputs": [],
   "source": [
    "test = pandas.DataFrame([0,1]).T"
   ]
  },
  {
   "cell_type": "code",
   "execution_count": 497,
   "metadata": {
    "collapsed": false
   },
   "outputs": [
    {
     "data": {
      "text/html": [
       "<div>\n",
       "<table border=\"1\" class=\"dataframe\">\n",
       "  <thead>\n",
       "    <tr style=\"text-align: right;\">\n",
       "      <th></th>\n",
       "      <th>population</th>\n",
       "      <th>time</th>\n",
       "      <th>0</th>\n",
       "      <th>1</th>\n",
       "    </tr>\n",
       "  </thead>\n",
       "  <tbody>\n",
       "    <tr>\n",
       "      <th>0</th>\n",
       "      <td>NaN</td>\n",
       "      <td>NaN</td>\n",
       "      <td>0</td>\n",
       "      <td>1</td>\n",
       "    </tr>\n",
       "  </tbody>\n",
       "</table>\n",
       "</div>"
      ],
      "text/plain": [
       "   population  time  0  1\n",
       "0         NaN   NaN  0  1"
      ]
     },
     "execution_count": 497,
     "metadata": {},
     "output_type": "execute_result"
    }
   ],
   "source": [
    "pandas.concat([data, test])"
   ]
  },
  {
   "cell_type": "code",
   "execution_count": 493,
   "metadata": {
    "collapsed": false
   },
   "outputs": [
    {
     "ename": "TypeError",
     "evalue": "cannot concatenate a non-NDFrame object",
     "output_type": "error",
     "traceback": [
      "\u001b[0;31m---------------------------------------------------------------------------\u001b[0m",
      "\u001b[0;31mTypeError\u001b[0m                                 Traceback (most recent call last)",
      "\u001b[0;32m<ipython-input-493-27abb2e7b1c3>\u001b[0m in \u001b[0;36m<module>\u001b[0;34m()\u001b[0m\n\u001b[0;32m----> 1\u001b[0;31m \u001b[0mpandas\u001b[0m\u001b[0;34m.\u001b[0m\u001b[0mconcat\u001b[0m\u001b[0;34m(\u001b[0m\u001b[0;34m[\u001b[0m\u001b[0mdata\u001b[0m\u001b[0;34m,\u001b[0m \u001b[0;34m[\u001b[0m\u001b[0;36m0\u001b[0m\u001b[0;34m,\u001b[0m \u001b[0;36m1\u001b[0m\u001b[0;34m]\u001b[0m\u001b[0;34m]\u001b[0m\u001b[0;34m)\u001b[0m\u001b[0;34m\u001b[0m\u001b[0m\n\u001b[0m",
      "\u001b[0;32m/home/emily/repos/pandas-emily/pandas/tools/merge.py\u001b[0m in \u001b[0;36mconcat\u001b[0;34m(objs, axis, join, join_axes, ignore_index, keys, levels, names, verify_integrity, copy)\u001b[0m\n\u001b[1;32m    808\u001b[0m                        \u001b[0mkeys\u001b[0m\u001b[0;34m=\u001b[0m\u001b[0mkeys\u001b[0m\u001b[0;34m,\u001b[0m \u001b[0mlevels\u001b[0m\u001b[0;34m=\u001b[0m\u001b[0mlevels\u001b[0m\u001b[0;34m,\u001b[0m \u001b[0mnames\u001b[0m\u001b[0;34m=\u001b[0m\u001b[0mnames\u001b[0m\u001b[0;34m,\u001b[0m\u001b[0;34m\u001b[0m\u001b[0m\n\u001b[1;32m    809\u001b[0m                        \u001b[0mverify_integrity\u001b[0m\u001b[0;34m=\u001b[0m\u001b[0mverify_integrity\u001b[0m\u001b[0;34m,\u001b[0m\u001b[0;34m\u001b[0m\u001b[0m\n\u001b[0;32m--> 810\u001b[0;31m                        copy=copy)\n\u001b[0m\u001b[1;32m    811\u001b[0m     \u001b[0;32mreturn\u001b[0m \u001b[0mop\u001b[0m\u001b[0;34m.\u001b[0m\u001b[0mget_result\u001b[0m\u001b[0;34m(\u001b[0m\u001b[0;34m)\u001b[0m\u001b[0;34m\u001b[0m\u001b[0m\n\u001b[1;32m    812\u001b[0m \u001b[0;34m\u001b[0m\u001b[0m\n",
      "\u001b[0;32m/home/emily/repos/pandas-emily/pandas/tools/merge.py\u001b[0m in \u001b[0;36m__init__\u001b[0;34m(self, objs, axis, join, join_axes, keys, levels, names, ignore_index, verify_integrity, copy)\u001b[0m\n\u001b[1;32m    864\u001b[0m         \u001b[0;32mfor\u001b[0m \u001b[0mobj\u001b[0m \u001b[0;32min\u001b[0m \u001b[0mobjs\u001b[0m\u001b[0;34m:\u001b[0m\u001b[0;34m\u001b[0m\u001b[0m\n\u001b[1;32m    865\u001b[0m             \u001b[0;32mif\u001b[0m \u001b[0;32mnot\u001b[0m \u001b[0misinstance\u001b[0m\u001b[0;34m(\u001b[0m\u001b[0mobj\u001b[0m\u001b[0;34m,\u001b[0m \u001b[0mNDFrame\u001b[0m\u001b[0;34m)\u001b[0m\u001b[0;34m:\u001b[0m\u001b[0;34m\u001b[0m\u001b[0m\n\u001b[0;32m--> 866\u001b[0;31m                 \u001b[0;32mraise\u001b[0m \u001b[0mTypeError\u001b[0m\u001b[0;34m(\u001b[0m\u001b[0;34m\"cannot concatenate a non-NDFrame object\"\u001b[0m\u001b[0;34m)\u001b[0m\u001b[0;34m\u001b[0m\u001b[0m\n\u001b[0m\u001b[1;32m    867\u001b[0m \u001b[0;34m\u001b[0m\u001b[0m\n\u001b[1;32m    868\u001b[0m             \u001b[0;31m# consolidate\u001b[0m\u001b[0;34m\u001b[0m\u001b[0;34m\u001b[0m\u001b[0m\n",
      "\u001b[0;31mTypeError\u001b[0m: cannot concatenate a non-NDFrame object"
     ]
    }
   ],
   "source": [
    "pandas.concat([data, [0, 1]])"
   ]
  },
  {
   "cell_type": "code",
   "execution_count": null,
   "metadata": {
    "collapsed": true
   },
   "outputs": [],
   "source": [
    "test = pandas.DataFrame({\"time\":[]})"
   ]
  },
  {
   "cell_type": "code",
   "execution_count": 498,
   "metadata": {
    "collapsed": true
   },
   "outputs": [],
   "source": [
    "times = []\n",
    "pop_sizes = []\n",
    "\n",
    "pop_size = 1000\n",
    "for i in range(100):\n",
    "    pop_size += pop_growth(pop_size)\n",
    "    times.append(i)\n",
    "    pop_sizes.append(pop_size)"
   ]
  },
  {
   "cell_type": "code",
   "execution_count": 501,
   "metadata": {
    "collapsed": false
   },
   "outputs": [],
   "source": [
    "data = pandas.DataFrame({\"time\":times, \"population\":pop_sizes})\n",
    "data = data[[\"time\", \"population\"]]"
   ]
  },
  {
   "cell_type": "code",
   "execution_count": 502,
   "metadata": {
    "collapsed": false
   },
   "outputs": [
    {
     "data": {
      "text/html": [
       "<div>\n",
       "<table border=\"1\" class=\"dataframe\">\n",
       "  <thead>\n",
       "    <tr style=\"text-align: right;\">\n",
       "      <th></th>\n",
       "      <th>time</th>\n",
       "      <th>population</th>\n",
       "    </tr>\n",
       "  </thead>\n",
       "  <tbody>\n",
       "    <tr>\n",
       "      <th>0</th>\n",
       "      <td>0</td>\n",
       "      <td>1050.000000</td>\n",
       "    </tr>\n",
       "    <tr>\n",
       "      <th>1</th>\n",
       "      <td>1</td>\n",
       "      <td>1102.500000</td>\n",
       "    </tr>\n",
       "    <tr>\n",
       "      <th>2</th>\n",
       "      <td>2</td>\n",
       "      <td>1157.625000</td>\n",
       "    </tr>\n",
       "    <tr>\n",
       "      <th>3</th>\n",
       "      <td>3</td>\n",
       "      <td>1215.506250</td>\n",
       "    </tr>\n",
       "    <tr>\n",
       "      <th>4</th>\n",
       "      <td>4</td>\n",
       "      <td>1276.281562</td>\n",
       "    </tr>\n",
       "  </tbody>\n",
       "</table>\n",
       "</div>"
      ],
      "text/plain": [
       "   time   population\n",
       "0     0  1050.000000\n",
       "1     1  1102.500000\n",
       "2     2  1157.625000\n",
       "3     3  1215.506250\n",
       "4     4  1276.281562"
      ]
     },
     "execution_count": 502,
     "metadata": {},
     "output_type": "execute_result"
    }
   ],
   "source": [
    "data.head()"
   ]
  },
  {
   "cell_type": "code",
   "execution_count": 507,
   "metadata": {
    "collapsed": false
   },
   "outputs": [
    {
     "data": {
      "text/html": [
       "<div>\n",
       "<table border=\"1\" class=\"dataframe\">\n",
       "  <thead>\n",
       "    <tr style=\"text-align: right;\">\n",
       "      <th></th>\n",
       "      <th>population</th>\n",
       "      <th>time</th>\n",
       "    </tr>\n",
       "  </thead>\n",
       "  <tbody>\n",
       "    <tr>\n",
       "      <th>0</th>\n",
       "      <td>1050.000000</td>\n",
       "      <td>0</td>\n",
       "    </tr>\n",
       "    <tr>\n",
       "      <th>1</th>\n",
       "      <td>1102.500000</td>\n",
       "      <td>1</td>\n",
       "    </tr>\n",
       "    <tr>\n",
       "      <th>2</th>\n",
       "      <td>1157.625000</td>\n",
       "      <td>2</td>\n",
       "    </tr>\n",
       "    <tr>\n",
       "      <th>3</th>\n",
       "      <td>1215.506250</td>\n",
       "      <td>3</td>\n",
       "    </tr>\n",
       "    <tr>\n",
       "      <th>4</th>\n",
       "      <td>1276.281562</td>\n",
       "      <td>4</td>\n",
       "    </tr>\n",
       "  </tbody>\n",
       "</table>\n",
       "</div>"
      ],
      "text/plain": [
       "    population  time\n",
       "0  1050.000000     0\n",
       "1  1102.500000     1\n",
       "2  1157.625000     2\n",
       "3  1215.506250     3\n",
       "4  1276.281562     4"
      ]
     },
     "execution_count": 507,
     "metadata": {},
     "output_type": "execute_result"
    }
   ],
   "source": [
    "data = pandas.DataFrame({\"population\":pop_sizes, \"time\":times})\n",
    "data.head()"
   ]
  },
  {
   "cell_type": "code",
   "execution_count": 509,
   "metadata": {
    "collapsed": false
   },
   "outputs": [
    {
     "data": {
      "text/plain": [
       "0    1050.000000\n",
       "1    1102.500000\n",
       "2    1157.625000\n",
       "3    1215.506250\n",
       "4    1276.281562\n",
       "Name: population, dtype: float64"
      ]
     },
     "execution_count": 509,
     "metadata": {},
     "output_type": "execute_result"
    }
   ],
   "source": [
    "data[\"population\"].head()"
   ]
  },
  {
   "cell_type": "code",
   "execution_count": 510,
   "metadata": {
    "collapsed": false
   },
   "outputs": [
    {
     "data": {
      "text/plain": [
       "0    0\n",
       "1    1\n",
       "2    2\n",
       "3    3\n",
       "4    4\n",
       "Name: time, dtype: int64"
      ]
     },
     "execution_count": 510,
     "metadata": {},
     "output_type": "execute_result"
    }
   ],
   "source": [
    "data[\"time\"].head()"
   ]
  },
  {
   "cell_type": "code",
   "execution_count": 511,
   "metadata": {
    "collapsed": false
   },
   "outputs": [
    {
     "data": {
      "text/html": [
       "<div>\n",
       "<table border=\"1\" class=\"dataframe\">\n",
       "  <thead>\n",
       "    <tr style=\"text-align: right;\">\n",
       "      <th></th>\n",
       "      <th>population</th>\n",
       "      <th>time</th>\n",
       "    </tr>\n",
       "  </thead>\n",
       "  <tbody>\n",
       "    <tr>\n",
       "      <th>0</th>\n",
       "      <td>1050.000000</td>\n",
       "      <td>0</td>\n",
       "    </tr>\n",
       "    <tr>\n",
       "      <th>1</th>\n",
       "      <td>1102.500000</td>\n",
       "      <td>1</td>\n",
       "    </tr>\n",
       "    <tr>\n",
       "      <th>2</th>\n",
       "      <td>1157.625000</td>\n",
       "      <td>2</td>\n",
       "    </tr>\n",
       "    <tr>\n",
       "      <th>3</th>\n",
       "      <td>1215.506250</td>\n",
       "      <td>3</td>\n",
       "    </tr>\n",
       "    <tr>\n",
       "      <th>4</th>\n",
       "      <td>1276.281562</td>\n",
       "      <td>4</td>\n",
       "    </tr>\n",
       "  </tbody>\n",
       "</table>\n",
       "</div>"
      ],
      "text/plain": [
       "    population  time\n",
       "0  1050.000000     0\n",
       "1  1102.500000     1\n",
       "2  1157.625000     2\n",
       "3  1215.506250     3\n",
       "4  1276.281562     4"
      ]
     },
     "execution_count": 511,
     "metadata": {},
     "output_type": "execute_result"
    }
   ],
   "source": [
    "data[[\"population\", \"time\"]].head()"
   ]
  },
  {
   "cell_type": "code",
   "execution_count": 512,
   "metadata": {
    "collapsed": false
   },
   "outputs": [
    {
     "data": {
      "text/html": [
       "<div>\n",
       "<table border=\"1\" class=\"dataframe\">\n",
       "  <thead>\n",
       "    <tr style=\"text-align: right;\">\n",
       "      <th></th>\n",
       "      <th>time</th>\n",
       "      <th>population</th>\n",
       "    </tr>\n",
       "  </thead>\n",
       "  <tbody>\n",
       "    <tr>\n",
       "      <th>0</th>\n",
       "      <td>0</td>\n",
       "      <td>1050.000000</td>\n",
       "    </tr>\n",
       "    <tr>\n",
       "      <th>1</th>\n",
       "      <td>1</td>\n",
       "      <td>1102.500000</td>\n",
       "    </tr>\n",
       "    <tr>\n",
       "      <th>2</th>\n",
       "      <td>2</td>\n",
       "      <td>1157.625000</td>\n",
       "    </tr>\n",
       "    <tr>\n",
       "      <th>3</th>\n",
       "      <td>3</td>\n",
       "      <td>1215.506250</td>\n",
       "    </tr>\n",
       "    <tr>\n",
       "      <th>4</th>\n",
       "      <td>4</td>\n",
       "      <td>1276.281562</td>\n",
       "    </tr>\n",
       "  </tbody>\n",
       "</table>\n",
       "</div>"
      ],
      "text/plain": [
       "   time   population\n",
       "0     0  1050.000000\n",
       "1     1  1102.500000\n",
       "2     2  1157.625000\n",
       "3     3  1215.506250\n",
       "4     4  1276.281562"
      ]
     },
     "execution_count": 512,
     "metadata": {},
     "output_type": "execute_result"
    }
   ],
   "source": [
    "data[[\"time\", \"population\"]].head()"
   ]
  },
  {
   "cell_type": "code",
   "execution_count": null,
   "metadata": {
    "collapsed": true
   },
   "outputs": [],
   "source": [
    "%matplotlib inline"
   ]
  },
  {
   "cell_type": "code",
   "execution_count": 513,
   "metadata": {
    "collapsed": false
   },
   "outputs": [
    {
     "data": {
      "text/plain": [
       "<matplotlib.axes._subplots.AxesSubplot at 0x7f410d562978>"
      ]
     },
     "execution_count": 513,
     "metadata": {},
     "output_type": "execute_result"
    },
    {
     "data": {
      "image/png": "[encoded data removed]",
      "text/plain": [
       "<matplotlib.figure.Figure at 0x7f410d56a9e8>"
      ]
     },
     "metadata": {},
     "output_type": "display_data"
    }
   ],
   "source": [
    "data.plot(x=\"time\")"
   ]
  },
  {
   "cell_type": "code",
   "execution_count": 514,
   "metadata": {
    "collapsed": false
   },
   "outputs": [
    {
     "data": {
      "text/plain": [
       "<matplotlib.axes._subplots.AxesSubplot at 0x7f410d4fd198>"
      ]
     },
     "execution_count": 514,
     "metadata": {},
     "output_type": "execute_result"
    },
    {
     "data": {
      "image/png": "[encoded data removed]",
      "text/plain": [
       "<matplotlib.figure.Figure at 0x7f410d4bd048>"
      ]
     },
     "metadata": {},
     "output_type": "display_data"
    }
   ],
   "source": [
    "data.plot()"
   ]
  },
  {
   "cell_type": "code",
   "execution_count": 515,
   "metadata": {
    "collapsed": false
   },
   "outputs": [
    {
     "data": {
      "text/plain": [
       "<matplotlib.text.Text at 0x7f410d448358>"
      ]
     },
     "execution_count": 515,
     "metadata": {},
     "output_type": "execute_result"
    },
    {
     "data": {
      "image/png": "[encoded data removed]",
      "text/plain": [
       "<matplotlib.figure.Figure at 0x7f410d4dd908>"
      ]
     },
     "metadata": {},
     "output_type": "display_data"
    }
   ],
   "source": [
    "fig = data.plot(x=\"time\")\n",
    "fig.set_ylabel(\"Population Size\")"
   ]
  },
  {
   "cell_type": "code",
   "execution_count": 518,
   "metadata": {
    "collapsed": false
   },
   "outputs": [
    {
     "data": {
      "text/plain": [
       "<matplotlib.text.Text at 0x7f410d3b4a90>"
      ]
     },
     "execution_count": 518,
     "metadata": {},
     "output_type": "execute_result"
    },
    {
     "data": {
      "image/png": "[encoded data removed]",
      "text/plain": [
       "<matplotlib.figure.Figure at 0x7f410d36de10>"
      ]
     },
     "metadata": {},
     "output_type": "display_data"
    }
   ],
   "source": [
    "fig = data.plot(x=\"time\")\n",
    "fig.set_ylabel(\"Population Size\")\n",
    "fig.set_xlabel(\"Time\")"
   ]
  },
  {
   "cell_type": "code",
   "execution_count": 521,
   "metadata": {
    "collapsed": false
   },
   "outputs": [],
   "source": [
    "fig.get_figure().savefig(\"growth.png\", dpi=300)"
   ]
  },
  {
   "cell_type": "code",
   "execution_count": 527,
   "metadata": {
    "collapsed": false
   },
   "outputs": [
    {
     "data": {
      "image/png": "[encoded data removed]",
      "text/plain": [
       "<matplotlib.figure.Figure at 0x7f410c9c3b38>"
      ]
     },
     "metadata": {},
     "output_type": "display_data"
    }
   ],
   "source": [
    "fig = coop_and_defect.plot(subplots=True)"
   ]
  },
  {
   "cell_type": "code",
   "execution_count": 535,
   "metadata": {
    "collapsed": false
   },
   "outputs": [
    {
     "data": {
      "image/png": "[encoded data removed]",
      "text/plain": [
       "<matplotlib.figure.Figure at 0x7f410c8c2128>"
      ]
     },
     "metadata": {},
     "output_type": "display_data"
    }
   ],
   "source": [
    "fig = coop_and_defect[[\"num_coop\"]].plot()"
   ]
  },
  {
   "cell_type": "code",
   "execution_count": 536,
   "metadata": {
    "collapsed": false
   },
   "outputs": [
    {
     "data": {
      "image/png": "[encoded data removed]",
      "text/plain": [
       "<matplotlib.figure.Figure at 0x7f410c86cac8>"
      ]
     },
     "metadata": {},
     "output_type": "display_data"
    }
   ],
   "source": [
    "fig = coop_and_defect.plot(subplots=True)"
   ]
  },
  {
   "cell_type": "code",
   "execution_count": 537,
   "metadata": {
    "collapsed": false
   },
   "outputs": [
    {
     "data": {
      "text/plain": [
       "array([<matplotlib.axes._subplots.AxesSubplot object at 0x7f410c858198>,\n",
       "       <matplotlib.axes._subplots.AxesSubplot object at 0x7f410c7b8898>], dtype=object)"
      ]
     },
     "execution_count": 537,
     "metadata": {},
     "output_type": "execute_result"
    }
   ],
   "source": [
    "fig[0].get_figure()"
   ]
  },
  {
   "cell_type": "code",
   "execution_count": null,
   "metadata": {
    "collapsed": true
   },
   "outputs": [],
   "source": []
  },
  {
   "cell_type": "code",
   "execution_count": 534,
   "metadata": {
    "collapsed": false
   },
   "outputs": [
    {
     "data": {
      "text/html": [
       "<div>\n",
       "<table border=\"1\" class=\"dataframe\">\n",
       "  <thead>\n",
       "    <tr style=\"text-align: right;\">\n",
       "      <th></th>\n",
       "      <th>num_coop</th>\n",
       "      <th>num_defect</th>\n",
       "    </tr>\n",
       "  </thead>\n",
       "  <tbody>\n",
       "    <tr>\n",
       "      <th>0</th>\n",
       "      <td>4838</td>\n",
       "      <td>1562</td>\n",
       "    </tr>\n",
       "    <tr>\n",
       "      <th>1</th>\n",
       "      <td>5745</td>\n",
       "      <td>655</td>\n",
       "    </tr>\n",
       "    <tr>\n",
       "      <th>2</th>\n",
       "      <td>6172</td>\n",
       "      <td>228</td>\n",
       "    </tr>\n",
       "    <tr>\n",
       "      <th>3</th>\n",
       "      <td>6345</td>\n",
       "      <td>55</td>\n",
       "    </tr>\n",
       "    <tr>\n",
       "      <th>4</th>\n",
       "      <td>6390</td>\n",
       "      <td>10</td>\n",
       "    </tr>\n",
       "  </tbody>\n",
       "</table>\n",
       "</div>"
      ],
      "text/plain": [
       "   num_coop  num_defect\n",
       "0      4838        1562\n",
       "1      5745         655\n",
       "2      6172         228\n",
       "3      6345          55\n",
       "4      6390          10"
      ]
     },
     "execution_count": 534,
     "metadata": {},
     "output_type": "execute_result"
    }
   ],
   "source": [
    "coop_and_defect.head()"
   ]
  },
  {
   "cell_type": "code",
   "execution_count": null,
   "metadata": {
    "collapsed": true
   },
   "outputs": [],
   "source": []
  },
  {
   "cell_type": "code",
   "execution_count": 532,
   "metadata": {
    "collapsed": false
   },
   "outputs": [],
   "source": [
    "fig[0].get_figure().savefig(\"test.png\")"
   ]
  },
  {
   "cell_type": "code",
   "execution_count": 538,
   "metadata": {
    "collapsed": true
   },
   "outputs": [],
   "source": [
    "def pop_growth(N):\n",
    "    \"\"\"\n",
    "    This function calculates the increase in population for a given \n",
    "    time step. Assumes population growth rate (r) is .05\n",
    "    Input: N - the current size of the population\n",
    "    Returns: The number of new population members in this time step\n",
    "    \"\"\"\n",
    "    K = 100000\n",
    "    r = 0.05\n",
    "    return (r * N * (K-N)) / K"
   ]
  },
  {
   "cell_type": "code",
   "execution_count": 543,
   "metadata": {
    "collapsed": true
   },
   "outputs": [],
   "source": [
    "times = []\n",
    "pop_sizes = []\n",
    "\n",
    "pop_size = 1000\n",
    "for i in range(1000):\n",
    "    pop_size += pop_growth(pop_size)\n",
    "    times.append(i)\n",
    "    pop_sizes.append(pop_size)"
   ]
  },
  {
   "cell_type": "code",
   "execution_count": 544,
   "metadata": {
    "collapsed": true
   },
   "outputs": [],
   "source": [
    "data = pandas.DataFrame({\"time\":times, \"population\":pop_sizes})\n",
    "data = data[[\"time\", \"population\"]]"
   ]
  },
  {
   "cell_type": "code",
   "execution_count": 545,
   "metadata": {
    "collapsed": false
   },
   "outputs": [
    {
     "data": {
      "text/plain": [
       "<matplotlib.axes._subplots.AxesSubplot at 0x7f410c6c4860>"
      ]
     },
     "execution_count": 545,
     "metadata": {},
     "output_type": "execute_result"
    },
    {
     "data": {
      "image/png": "[encoded data removed]",
      "text/plain": [
       "<matplotlib.figure.Figure at 0x7f410c6ebac8>"
      ]
     },
     "metadata": {},
     "output_type": "display_data"
    }
   ],
   "source": [
    "data.plot(x=\"time\")"
   ]
  },
  {
   "cell_type": "code",
   "execution_count": null,
   "metadata": {
    "collapsed": true
   },
   "outputs": [],
   "source": [
    "## Starting a new model of evolution"
   ]
  },
  {
   "cell_type": "code",
   "execution_count": 546,
   "metadata": {
    "collapsed": true
   },
   "outputs": [],
   "source": [
    "import math"
   ]
  },
  {
   "cell_type": "code",
   "execution_count": 548,
   "metadata": {
    "collapsed": false
   },
   "outputs": [
    {
     "data": {
      "text/plain": [
       "10"
      ]
     },
     "execution_count": 548,
     "metadata": {},
     "output_type": "execute_result"
    }
   ],
   "source": [
    "abs(-10)"
   ]
  },
  {
   "cell_type": "code",
   "execution_count": 550,
   "metadata": {
    "collapsed": false
   },
   "outputs": [
    {
     "data": {
      "text/plain": [
       "inf"
      ]
     },
     "execution_count": 550,
     "metadata": {},
     "output_type": "execute_result"
    }
   ],
   "source": [
    "float(\"inf\")"
   ]
  },
  {
   "cell_type": "code",
   "execution_count": null,
   "metadata": {
    "collapsed": true
   },
   "outputs": [],
   "source": []
  },
  {
   "cell_type": "code",
   "execution_count": null,
   "metadata": {
    "collapsed": true
   },
   "outputs": [],
   "source": []
  },
  {
   "cell_type": "code",
   "execution_count": 553,
   "metadata": {
    "collapsed": true
   },
   "outputs": [],
   "source": [
    "def fitness(individual):\n",
    "    \"\"\"\n",
    "    Calculates the fitness of an individual\n",
    "    Input: a floating point number representing a member of the pop\n",
    "    Return: the fitness as a floating point number\n",
    "    \"\"\"\n",
    "    denominator = abs(10 - individual)\n",
    "    if denominator != 0:\n",
    "        return 1/denominator\n",
    "    return float(\"inf\")"
   ]
  },
  {
   "cell_type": "code",
   "execution_count": null,
   "metadata": {
    "collapsed": true
   },
   "outputs": [],
   "source": []
  },
  {
   "cell_type": "code",
   "execution_count": 554,
   "metadata": {
    "collapsed": false
   },
   "outputs": [
    {
     "data": {
      "text/plain": [
       "0.1"
      ]
     },
     "execution_count": 554,
     "metadata": {},
     "output_type": "execute_result"
    }
   ],
   "source": [
    "fitness(0)\n"
   ]
  },
  {
   "cell_type": "code",
   "execution_count": 555,
   "metadata": {
    "collapsed": false
   },
   "outputs": [
    {
     "data": {
      "text/plain": [
       "10.000000000000036"
      ]
     },
     "execution_count": 555,
     "metadata": {},
     "output_type": "execute_result"
    }
   ],
   "source": [
    "fitness(9.9)"
   ]
  },
  {
   "cell_type": "code",
   "execution_count": 556,
   "metadata": {
    "collapsed": false
   },
   "outputs": [
    {
     "data": {
      "text/plain": [
       "inf"
      ]
     },
     "execution_count": 556,
     "metadata": {},
     "output_type": "execute_result"
    }
   ],
   "source": [
    "fitness(10)"
   ]
  },
  {
   "cell_type": "code",
   "execution_count": 557,
   "metadata": {
    "collapsed": false
   },
   "outputs": [
    {
     "data": {
      "text/plain": [
       "1.0"
      ]
     },
     "execution_count": 557,
     "metadata": {},
     "output_type": "execute_result"
    }
   ],
   "source": [
    "fitness(11)"
   ]
  },
  {
   "cell_type": "code",
   "execution_count": 558,
   "metadata": {
    "collapsed": false
   },
   "outputs": [
    {
     "data": {
      "text/plain": [
       "1000000.0007484005"
      ]
     },
     "execution_count": 558,
     "metadata": {},
     "output_type": "execute_result"
    }
   ],
   "source": [
    "fitness(9.999999)"
   ]
  },
  {
   "cell_type": "code",
   "execution_count": 559,
   "metadata": {
    "collapsed": false
   },
   "outputs": [
    {
     "data": {
      "text/plain": [
       "1.0"
      ]
     },
     "execution_count": 559,
     "metadata": {},
     "output_type": "execute_result"
    }
   ],
   "source": [
    "fitness(9)"
   ]
  },
  {
   "cell_type": "code",
   "execution_count": 560,
   "metadata": {
    "collapsed": true
   },
   "outputs": [],
   "source": [
    "import random"
   ]
  },
  {
   "cell_type": "code",
   "execution_count": 561,
   "metadata": {
    "collapsed": false
   },
   "outputs": [
    {
     "data": {
      "text/plain": [
       "0.5975068057787262"
      ]
     },
     "execution_count": 561,
     "metadata": {},
     "output_type": "execute_result"
    }
   ],
   "source": [
    "random.random()"
   ]
  },
  {
   "cell_type": "code",
   "execution_count": 562,
   "metadata": {
    "collapsed": false
   },
   "outputs": [
    {
     "data": {
      "text/plain": [
       "0.4337868534233903"
      ]
     },
     "execution_count": 562,
     "metadata": {},
     "output_type": "execute_result"
    }
   ],
   "source": [
    "random.random()"
   ]
  },
  {
   "cell_type": "code",
   "execution_count": 563,
   "metadata": {
    "collapsed": true
   },
   "outputs": [],
   "source": [
    "population = []\n",
    "for i in range(20):\n",
    "    population.append(random.random())"
   ]
  },
  {
   "cell_type": "code",
   "execution_count": 564,
   "metadata": {
    "collapsed": false
   },
   "outputs": [
    {
     "data": {
      "text/plain": [
       "[0.48656484054462557,\n",
       " 0.7220597175257737,\n",
       " 0.7579040789708221,\n",
       " 0.297318280950695,\n",
       " 0.4755845287308451,\n",
       " 0.5733039726153929,\n",
       " 0.7889428842669635,\n",
       " 0.0629624972764613,\n",
       " 0.47501157061870836,\n",
       " 0.05316663248173803,\n",
       " 0.9025102998531265,\n",
       " 0.506590914985089,\n",
       " 0.508603841818786,\n",
       " 0.7369638799177614,\n",
       " 0.3120800441695165,\n",
       " 0.7420245339339104,\n",
       " 0.6337295949744373,\n",
       " 0.26037351422605726,\n",
       " 0.9886223379044372,\n",
       " 0.6705812491263046]"
      ]
     },
     "execution_count": 564,
     "metadata": {},
     "output_type": "execute_result"
    }
   ],
   "source": [
    "population"
   ]
  },
  {
   "cell_type": "code",
   "execution_count": 566,
   "metadata": {
    "collapsed": false
   },
   "outputs": [
    {
     "data": {
      "text/plain": [
       "0.8882806891061829"
      ]
     },
     "execution_count": 566,
     "metadata": {},
     "output_type": "execute_result"
    }
   ],
   "source": [
    "random.normalvariate(0, 1)"
   ]
  },
  {
   "cell_type": "code",
   "execution_count": 567,
   "metadata": {
    "collapsed": false
   },
   "outputs": [
    {
     "data": {
      "text/plain": [
       "-0.09324724041280623"
      ]
     },
     "execution_count": 567,
     "metadata": {},
     "output_type": "execute_result"
    }
   ],
   "source": [
    "random.normalvariate(0, 1)"
   ]
  },
  {
   "cell_type": "code",
   "execution_count": 568,
   "metadata": {
    "collapsed": false
   },
   "outputs": [
    {
     "data": {
      "text/plain": [
       "-0.8473263123931949"
      ]
     },
     "execution_count": 568,
     "metadata": {},
     "output_type": "execute_result"
    }
   ],
   "source": [
    "random.normalvariate(0, 1)"
   ]
  },
  {
   "cell_type": "code",
   "execution_count": 569,
   "metadata": {
    "collapsed": false
   },
   "outputs": [
    {
     "data": {
      "text/plain": [
       "0.5831561447565018"
      ]
     },
     "execution_count": 569,
     "metadata": {},
     "output_type": "execute_result"
    }
   ],
   "source": [
    "random.normalvariate(0, 1)"
   ]
  },
  {
   "cell_type": "code",
   "execution_count": null,
   "metadata": {
    "collapsed": true
   },
   "outputs": [],
   "source": []
  },
  {
   "cell_type": "code",
   "execution_count": 570,
   "metadata": {
    "collapsed": true
   },
   "outputs": [],
   "source": [
    "def mutate(individual):\n",
    "    return individual + random.normalvariate(0, 1)\n",
    "    "
   ]
  },
  {
   "cell_type": "code",
   "execution_count": 571,
   "metadata": {
    "collapsed": false
   },
   "outputs": [
    {
     "data": {
      "text/plain": [
       "2.75794769607448"
      ]
     },
     "execution_count": 571,
     "metadata": {},
     "output_type": "execute_result"
    }
   ],
   "source": [
    "mutate(5)"
   ]
  },
  {
   "cell_type": "code",
   "execution_count": 572,
   "metadata": {
    "collapsed": false
   },
   "outputs": [
    {
     "data": {
      "text/plain": [
       "6.353734422500867"
      ]
     },
     "execution_count": 572,
     "metadata": {},
     "output_type": "execute_result"
    }
   ],
   "source": [
    "mutate(5)"
   ]
  },
  {
   "cell_type": "code",
   "execution_count": 573,
   "metadata": {
    "collapsed": false
   },
   "outputs": [
    {
     "data": {
      "text/plain": [
       "5.203979279656348"
      ]
     },
     "execution_count": 573,
     "metadata": {},
     "output_type": "execute_result"
    }
   ],
   "source": [
    "mutate(5)"
   ]
  },
  {
   "cell_type": "code",
   "execution_count": 574,
   "metadata": {
    "collapsed": false
   },
   "outputs": [
    {
     "name": "stdout",
     "output_type": "stream",
     "text": [
      "Help on method choice in module random:\n",
      "\n",
      "choice(seq) method of random.Random instance\n",
      "    Choose a random element from a non-empty sequence.\n",
      "\n"
     ]
    }
   ],
   "source": [
    "help(random.choice)"
   ]
  },
  {
   "cell_type": "code",
   "execution_count": 575,
   "metadata": {
    "collapsed": false
   },
   "outputs": [
    {
     "data": {
      "text/plain": [
       "5"
      ]
     },
     "execution_count": 575,
     "metadata": {},
     "output_type": "execute_result"
    }
   ],
   "source": [
    "random.choice([5,2,5,1,2,6])"
   ]
  },
  {
   "cell_type": "code",
   "execution_count": 576,
   "metadata": {
    "collapsed": false
   },
   "outputs": [
    {
     "data": {
      "text/plain": [
       "1"
      ]
     },
     "execution_count": 576,
     "metadata": {},
     "output_type": "execute_result"
    }
   ],
   "source": [
    "random.choice([5,2,5,1,2,6])"
   ]
  },
  {
   "cell_type": "code",
   "execution_count": 577,
   "metadata": {
    "collapsed": false
   },
   "outputs": [
    {
     "ename": "AttributeError",
     "evalue": "'module' object has no attribute 'choices'",
     "output_type": "error",
     "traceback": [
      "\u001b[0;31m---------------------------------------------------------------------------\u001b[0m",
      "\u001b[0;31mAttributeError\u001b[0m                            Traceback (most recent call last)",
      "\u001b[0;32m<ipython-input-577-15d237f45f12>\u001b[0m in \u001b[0;36m<module>\u001b[0;34m()\u001b[0m\n\u001b[0;32m----> 1\u001b[0;31m \u001b[0mrandom\u001b[0m\u001b[0;34m.\u001b[0m\u001b[0mchoices\u001b[0m\u001b[0;34m(\u001b[0m\u001b[0;34m[\u001b[0m\u001b[0;36m5\u001b[0m\u001b[0;34m,\u001b[0m\u001b[0;36m3\u001b[0m\u001b[0;34m,\u001b[0m\u001b[0;36m1\u001b[0m\u001b[0;34m,\u001b[0m\u001b[0;36m3\u001b[0m\u001b[0;34m,\u001b[0m\u001b[0;36m6\u001b[0m\u001b[0;34m,\u001b[0m\u001b[0;36m3\u001b[0m\u001b[0;34m]\u001b[0m\u001b[0;34m,\u001b[0m \u001b[0mk\u001b[0m\u001b[0;34m=\u001b[0m\u001b[0;36m4\u001b[0m\u001b[0;34m)\u001b[0m\u001b[0;34m\u001b[0m\u001b[0m\n\u001b[0m",
      "\u001b[0;31mAttributeError\u001b[0m: 'module' object has no attribute 'choices'"
     ]
    }
   ],
   "source": [
    "random.choices([5,3,1,3,6,3], k=4)"
   ]
  },
  {
   "cell_type": "code",
   "execution_count": 578,
   "metadata": {
    "collapsed": false
   },
   "outputs": [
    {
     "data": {
      "text/plain": [
       "9"
      ]
     },
     "execution_count": 578,
     "metadata": {},
     "output_type": "execute_result"
    }
   ],
   "source": [
    "max([5,1,2,9])"
   ]
  },
  {
   "cell_type": "code",
   "execution_count": null,
   "metadata": {
    "collapsed": true
   },
   "outputs": [],
   "source": []
  },
  {
   "cell_type": "code",
   "execution_count": 583,
   "metadata": {
    "collapsed": true
   },
   "outputs": [],
   "source": [
    "def time_step(population):\n",
    "    next_generation = []\n",
    "    \n",
    "    for i in range(len(population)):\n",
    "        \n",
    "        tournament = []\n",
    "        fitnesses = []\n",
    "        for j in range(4):\n",
    "            chosen_individual = random.choice(population)\n",
    "            individual_fitness = fitness(chosen_individual)\n",
    "            tournament.append(chosen_individual)\n",
    "            fitnesses.append(individual_fitness)\n",
    "\n",
    "        best_individual = tournament[0]\n",
    "        best_fitness = fitnesses[0]\n",
    "        for k in range(len(tournament)):\n",
    "            if fitnesses[k] > best_fitness:\n",
    "                best_individual = tournament[k]\n",
    "                best_fitness = fitnesses[k]\n",
    "            \n",
    "        offspring = mutate(best_individual)\n",
    "        next_generation.append(offspring)\n",
    "    \n",
    "    return next_generation\n",
    "    "
   ]
  },
  {
   "cell_type": "code",
   "execution_count": 579,
   "metadata": {
    "collapsed": false
   },
   "outputs": [
    {
     "data": {
      "text/plain": [
       "True"
      ]
     },
     "execution_count": 579,
     "metadata": {},
     "output_type": "execute_result"
    }
   ],
   "source": [
    "4 > 0"
   ]
  },
  {
   "cell_type": "code",
   "execution_count": 580,
   "metadata": {
    "collapsed": false
   },
   "outputs": [
    {
     "data": {
      "text/plain": [
       "False"
      ]
     },
     "execution_count": 580,
     "metadata": {},
     "output_type": "execute_result"
    }
   ],
   "source": [
    "4 > 9"
   ]
  },
  {
   "cell_type": "code",
   "execution_count": 581,
   "metadata": {
    "collapsed": false
   },
   "outputs": [
    {
     "data": {
      "text/plain": [
       "False"
      ]
     },
     "execution_count": 581,
     "metadata": {},
     "output_type": "execute_result"
    }
   ],
   "source": [
    "4 > 4"
   ]
  },
  {
   "cell_type": "code",
   "execution_count": 582,
   "metadata": {
    "collapsed": false
   },
   "outputs": [
    {
     "data": {
      "text/plain": [
       "True"
      ]
     },
     "execution_count": 582,
     "metadata": {},
     "output_type": "execute_result"
    }
   ],
   "source": [
    "4 >= 4"
   ]
  },
  {
   "cell_type": "code",
   "execution_count": 584,
   "metadata": {
    "collapsed": false
   },
   "outputs": [
    {
     "data": {
      "text/plain": [
       "[0.48656484054462557,\n",
       " 0.7220597175257737,\n",
       " 0.7579040789708221,\n",
       " 0.297318280950695,\n",
       " 0.4755845287308451,\n",
       " 0.5733039726153929,\n",
       " 0.7889428842669635,\n",
       " 0.0629624972764613,\n",
       " 0.47501157061870836,\n",
       " 0.05316663248173803,\n",
       " 0.9025102998531265,\n",
       " 0.506590914985089,\n",
       " 0.508603841818786,\n",
       " 0.7369638799177614,\n",
       " 0.3120800441695165,\n",
       " 0.7420245339339104,\n",
       " 0.6337295949744373,\n",
       " 0.26037351422605726,\n",
       " 0.9886223379044372,\n",
       " 0.6705812491263046]"
      ]
     },
     "execution_count": 584,
     "metadata": {},
     "output_type": "execute_result"
    }
   ],
   "source": [
    "population"
   ]
  },
  {
   "cell_type": "code",
   "execution_count": 585,
   "metadata": {
    "collapsed": false
   },
   "outputs": [
    {
     "data": {
      "text/plain": [
       "[1.7036849393196059,\n",
       " 0.2454371520493741,\n",
       " 0.49994007823436554,\n",
       " 0.276418590153571,\n",
       " 0.35331723145270144,\n",
       " 1.8029054107909235,\n",
       " 0.2502508192257744,\n",
       " 2.614230943687765,\n",
       " 1.0312058808958273,\n",
       " 1.0411093495506876,\n",
       " -0.5311484414600955,\n",
       " 0.8313441545442739,\n",
       " -1.4238539754771007,\n",
       " 0.439570957734741,\n",
       " 1.9458613690758702,\n",
       " 0.4209931496714596,\n",
       " 0.4981165768723366,\n",
       " 0.10274372136976925,\n",
       " 3.1742185591256433,\n",
       " -0.5479036989235626]"
      ]
     },
     "execution_count": 585,
     "metadata": {},
     "output_type": "execute_result"
    }
   ],
   "source": [
    "time_step(population)"
   ]
  },
  {
   "cell_type": "code",
   "execution_count": 586,
   "metadata": {
    "collapsed": true
   },
   "outputs": [],
   "source": [
    "population = []\n",
    "for i in range(20):\n",
    "    population.append(random.random())\n",
    "\n",
    "for i in range(100):\n",
    "    population = time_step(population)"
   ]
  },
  {
   "cell_type": "code",
   "execution_count": 587,
   "metadata": {
    "collapsed": false
   },
   "outputs": [
    {
     "data": {
      "text/plain": [
       "[10.760913447033507,\n",
       " 10.360212919710607,\n",
       " 9.898986819156008,\n",
       " 9.601471576498334,\n",
       " 10.959085233966485,\n",
       " 10.199974201537518,\n",
       " 7.784863248217668,\n",
       " 9.066406686434604,\n",
       " 9.937527554366495,\n",
       " 9.63178001209295,\n",
       " 10.625609077775245,\n",
       " 10.811126778275305,\n",
       " 9.731719360567542,\n",
       " 9.37929391275516,\n",
       " 9.926478505076384,\n",
       " 9.51878138904981,\n",
       " 11.934312759721278,\n",
       " 9.491327942619819,\n",
       " 10.103128688323633,\n",
       " 9.128484110277919]"
      ]
     },
     "execution_count": 587,
     "metadata": {},
     "output_type": "execute_result"
    }
   ],
   "source": [
    "population"
   ]
  },
  {
   "cell_type": "code",
   "execution_count": 588,
   "metadata": {
    "collapsed": false
   },
   "outputs": [
    {
     "data": {
      "text/plain": [
       "2.0"
      ]
     },
     "execution_count": 588,
     "metadata": {},
     "output_type": "execute_result"
    }
   ],
   "source": [
    "np.mean([1,2,3])"
   ]
  },
  {
   "cell_type": "code",
   "execution_count": null,
   "metadata": {
    "collapsed": true
   },
   "outputs": [],
   "source": [
    "import numpy as np"
   ]
  },
  {
   "cell_type": "code",
   "execution_count": 589,
   "metadata": {
    "collapsed": true
   },
   "outputs": [],
   "source": [
    "population = []\n",
    "for i in range(20):\n",
    "    population.append(random.random())\n",
    "\n",
    "times = []\n",
    "#avg_fitness = []\n",
    "#best_fitness = []\n",
    "avg_trait_val = []    \n",
    "    \n",
    "for i in range(100):\n",
    "    population = time_step(population)\n",
    "    avg_trait_val.append(np.mean(population))\n",
    "    times.append(i)"
   ]
  },
  {
   "cell_type": "code",
   "execution_count": 591,
   "metadata": {
    "collapsed": false
   },
   "outputs": [],
   "source": [
    "evolution_data = pandas.DataFrame({\"time\":times, \"trait\":avg_trait_val})"
   ]
  },
  {
   "cell_type": "code",
   "execution_count": 592,
   "metadata": {
    "collapsed": false
   },
   "outputs": [
    {
     "data": {
      "text/plain": [
       "<matplotlib.axes._subplots.AxesSubplot at 0x7f410d2a2898>"
      ]
     },
     "execution_count": 592,
     "metadata": {},
     "output_type": "execute_result"
    },
    {
     "data": {
      "image/png": "[encoded data removed]",
      "text/plain": [
       "<matplotlib.figure.Figure at 0x7f410d2ade10>"
      ]
     },
     "metadata": {},
     "output_type": "display_data"
    }
   ],
   "source": [
    "evolution_data.plot(x=\"time\")"
   ]
  },
  {
   "cell_type": "code",
   "execution_count": null,
   "metadata": {
    "collapsed": true
   },
   "outputs": [],
   "source": [
    "var = 5\n",
    "if var > 0:\n",
    "    print(\"var is greater than 0\")\n",
    "    print(var)\n",
    "    var = var + 1\n",
    "else:\n",
    "    print(\"var is not greater than 0\")\n",
    "    print(var)\n",
    "    var = var -1\n",
    "    \n",
    "print(\"done!\")"
   ]
  },
  {
   "cell_type": "code",
   "execution_count": null,
   "metadata": {
    "collapsed": true
   },
   "outputs": [],
   "source": []
  },
  {
   "cell_type": "code",
   "execution_count": null,
   "metadata": {
    "collapsed": true
   },
   "outputs": [],
   "source": [
    "\n"
   ]
  },
  {
   "cell_type": "code",
   "execution_count": null,
   "metadata": {
    "collapsed": true
   },
   "outputs": [],
   "source": []
  },
  {
   "cell_type": "code",
   "execution_count": null,
   "metadata": {
    "collapsed": true
   },
   "outputs": [],
   "source": []
  },
  {
   "cell_type": "code",
   "execution_count": null,
   "metadata": {
    "collapsed": true
   },
   "outputs": [],
   "source": []
  },
  {
   "cell_type": "code",
   "execution_count": null,
   "metadata": {
    "collapsed": true
   },
   "outputs": [],
   "source": []
  },
  {
   "cell_type": "code",
   "execution_count": null,
   "metadata": {
    "collapsed": true
   },
   "outputs": [],
   "source": []
  },
  {
   "cell_type": "code",
   "execution_count": null,
   "metadata": {
    "collapsed": true
   },
   "outputs": [],
   "source": []
  },
  {
   "cell_type": "code",
   "execution_count": null,
   "metadata": {
    "collapsed": true
   },
   "outputs": [],
   "source": []
  },
  {
   "cell_type": "code",
   "execution_count": null,
   "metadata": {
    "collapsed": true
   },
   "outputs": [],
   "source": []
  },
  {
   "cell_type": "code",
   "execution_count": null,
   "metadata": {
    "collapsed": true
   },
   "outputs": [],
   "source": []
  },
  {
   "cell_type": "code",
   "execution_count": null,
   "metadata": {
    "collapsed": true
   },
   "outputs": [],
   "source": []
  },
  {
   "cell_type": "code",
   "execution_count": null,
   "metadata": {
    "collapsed": true
   },
   "outputs": [],
   "source": []
  },
  {
   "cell_type": "code",
   "execution_count": null,
   "metadata": {
    "collapsed": true
   },
   "outputs": [],
   "source": []
  },
  {
   "cell_type": "code",
   "execution_count": null,
   "metadata": {
    "collapsed": true
   },
   "outputs": [],
   "source": []
  },
  {
   "cell_type": "code",
   "execution_count": null,
   "metadata": {
    "collapsed": true
   },
   "outputs": [],
   "source": []
  },
  {
   "cell_type": "code",
   "execution_count": null,
   "metadata": {
    "collapsed": true
   },
   "outputs": [],
   "source": []
  },
  {
   "cell_type": "code",
   "execution_count": null,
   "metadata": {
    "collapsed": true
   },
   "outputs": [],
   "source": []
  },
  {
   "cell_type": "code",
   "execution_count": null,
   "metadata": {
    "collapsed": true
   },
   "outputs": [],
   "source": []
  },
  {
   "cell_type": "code",
   "execution_count": null,
   "metadata": {
    "collapsed": true
   },
   "outputs": [],
   "source": []
  },
  {
   "cell_type": "code",
   "execution_count": null,
   "metadata": {
    "collapsed": true
   },
   "outputs": [],
   "source": []
  },
  {
   "cell_type": "code",
   "execution_count": null,
   "metadata": {
    "collapsed": true
   },
   "outputs": [],
   "source": []
  },
  {
   "cell_type": "code",
   "execution_count": null,
   "metadata": {
    "collapsed": true
   },
   "outputs": [],
   "source": []
  },
  {
   "cell_type": "code",
   "execution_count": null,
   "metadata": {
    "collapsed": true
   },
   "outputs": [],
   "source": []
  },
  {
   "cell_type": "code",
   "execution_count": null,
   "metadata": {
    "collapsed": true
   },
   "outputs": [],
   "source": []
  },
  {
   "cell_type": "code",
   "execution_count": null,
   "metadata": {
    "collapsed": true
   },
   "outputs": [],
   "source": []
  },
  {
   "cell_type": "code",
   "execution_count": null,
   "metadata": {
    "collapsed": true
   },
   "outputs": [],
   "source": []
  },
  {
   "cell_type": "code",
   "execution_count": null,
   "metadata": {
    "collapsed": true
   },
   "outputs": [],
   "source": []
  },
  {
   "cell_type": "code",
   "execution_count": null,
   "metadata": {
    "collapsed": true
   },
   "outputs": [],
   "source": []
  },
  {
   "cell_type": "code",
   "execution_count": null,
   "metadata": {
    "collapsed": true
   },
   "outputs": [],
   "source": []
  },
  {
   "cell_type": "code",
   "execution_count": null,
   "metadata": {
    "collapsed": true
   },
   "outputs": [],
   "source": []
  },
  {
   "cell_type": "code",
   "execution_count": null,
   "metadata": {
    "collapsed": true
   },
   "outputs": [],
   "source": []
  },
  {
   "cell_type": "code",
   "execution_count": null,
   "metadata": {
    "collapsed": true
   },
   "outputs": [],
   "source": []
  },
  {
   "cell_type": "code",
   "execution_count": null,
   "metadata": {
    "collapsed": true
   },
   "outputs": [],
   "source": []
  },
  {
   "cell_type": "code",
   "execution_count": null,
   "metadata": {
    "collapsed": true
   },
   "outputs": [],
   "source": []
  },
  {
   "cell_type": "code",
   "execution_count": null,
   "metadata": {
    "collapsed": true
   },
   "outputs": [],
   "source": []
  },
  {
   "cell_type": "code",
   "execution_count": null,
   "metadata": {
    "collapsed": true
   },
   "outputs": [],
   "source": []
  },
  {
   "cell_type": "code",
   "execution_count": null,
   "metadata": {
    "collapsed": true
   },
   "outputs": [],
   "source": []
  },
  {
   "cell_type": "code",
   "execution_count": null,
   "metadata": {
    "collapsed": true
   },
   "outputs": [],
   "source": []
  },
  {
   "cell_type": "code",
   "execution_count": null,
   "metadata": {
    "collapsed": true
   },
   "outputs": [],
   "source": []
  },
  {
   "cell_type": "code",
   "execution_count": null,
   "metadata": {
    "collapsed": true
   },
   "outputs": [],
   "source": []
  },
  {
   "cell_type": "code",
   "execution_count": null,
   "metadata": {
    "collapsed": true
   },
   "outputs": [],
   "source": []
  },
  {
   "cell_type": "code",
   "execution_count": null,
   "metadata": {
    "collapsed": true
   },
   "outputs": [],
   "source": []
  },
  {
   "cell_type": "code",
   "execution_count": null,
   "metadata": {
    "collapsed": true
   },
   "outputs": [],
   "source": []
  },
  {
   "cell_type": "code",
   "execution_count": null,
   "metadata": {
    "collapsed": true
   },
   "outputs": [],
   "source": []
  },
  {
   "cell_type": "code",
   "execution_count": null,
   "metadata": {
    "collapsed": true
   },
   "outputs": [],
   "source": []
  },
  {
   "cell_type": "code",
   "execution_count": null,
   "metadata": {
    "collapsed": false
   },
   "outputs": [],
   "source": []
  },
  {
   "cell_type": "code",
   "execution_count": null,
   "metadata": {
    "collapsed": true
   },
   "outputs": [],
   "source": []
  },
  {
   "cell_type": "code",
   "execution_count": 167,
   "metadata": {
    "collapsed": true
   },
   "outputs": [],
   "source": [
    "\n",
    "    "
   ]
  },
  {
   "cell_type": "code",
   "execution_count": null,
   "metadata": {
    "collapsed": false
   },
   "outputs": [],
   "source": []
  },
  {
   "cell_type": "code",
   "execution_count": null,
   "metadata": {
    "collapsed": true
   },
   "outputs": [],
   "source": []
  },
  {
   "cell_type": "code",
   "execution_count": null,
   "metadata": {
    "collapsed": true
   },
   "outputs": [],
   "source": []
  },
  {
   "cell_type": "code",
   "execution_count": null,
   "metadata": {
    "collapsed": true
   },
   "outputs": [],
   "source": []
  },
  {
   "cell_type": "code",
   "execution_count": null,
   "metadata": {
    "collapsed": false
   },
   "outputs": [],
   "source": []
  },
  {
   "cell_type": "code",
   "execution_count": null,
   "metadata": {
    "collapsed": true
   },
   "outputs": [],
   "source": []
  },
  {
   "cell_type": "code",
   "execution_count": null,
   "metadata": {
    "collapsed": true
   },
   "outputs": [],
   "source": []
  },
  {
   "cell_type": "code",
   "execution_count": null,
   "metadata": {
    "collapsed": true
   },
   "outputs": [],
   "source": []
  },
  {
   "cell_type": "code",
   "execution_count": null,
   "metadata": {
    "collapsed": true
   },
   "outputs": [],
   "source": []
  },
  {
   "cell_type": "code",
   "execution_count": null,
   "metadata": {
    "collapsed": true
   },
   "outputs": [],
   "source": []
  },
  {
   "cell_type": "code",
   "execution_count": null,
   "metadata": {
    "collapsed": true
   },
   "outputs": [],
   "source": []
  },
  {
   "cell_type": "code",
   "execution_count": null,
   "metadata": {
    "collapsed": true
   },
   "outputs": [],
   "source": []
  },
  {
   "cell_type": "code",
   "execution_count": null,
   "metadata": {
    "collapsed": true
   },
   "outputs": [],
   "source": []
  },
  {
   "cell_type": "code",
   "execution_count": null,
   "metadata": {
    "collapsed": true
   },
   "outputs": [],
   "source": []
  },
  {
   "cell_type": "code",
   "execution_count": null,
   "metadata": {
    "collapsed": true
   },
   "outputs": [],
   "source": []
  },
  {
   "cell_type": "code",
   "execution_count": null,
   "metadata": {
    "collapsed": true
   },
   "outputs": [],
   "source": []
  },
  {
   "cell_type": "code",
   "execution_count": null,
   "metadata": {
    "collapsed": true
   },
   "outputs": [],
   "source": []
  },
  {
   "cell_type": "code",
   "execution_count": null,
   "metadata": {
    "collapsed": true
   },
   "outputs": [],
   "source": []
  },
  {
   "cell_type": "code",
   "execution_count": null,
   "metadata": {
    "collapsed": true
   },
   "outputs": [],
   "source": []
  },
  {
   "cell_type": "code",
   "execution_count": null,
   "metadata": {
    "collapsed": true
   },
   "outputs": [],
   "source": []
  },
  {
   "cell_type": "code",
   "execution_count": null,
   "metadata": {
    "collapsed": true
   },
   "outputs": [],
   "source": []
  },
  {
   "cell_type": "code",
   "execution_count": null,
   "metadata": {
    "collapsed": true
   },
   "outputs": [],
   "source": []
  },
  {
   "cell_type": "code",
   "execution_count": null,
   "metadata": {
    "collapsed": true
   },
   "outputs": [],
   "source": []
  },
  {
   "cell_type": "code",
   "execution_count": null,
   "metadata": {
    "collapsed": true
   },
   "outputs": [],
   "source": []
  },
  {
   "cell_type": "code",
   "execution_count": null,
   "metadata": {
    "collapsed": true
   },
   "outputs": [],
   "source": []
  },
  {
   "cell_type": "code",
   "execution_count": null,
   "metadata": {
    "collapsed": true
   },
   "outputs": [],
   "source": []
  },
  {
   "cell_type": "code",
   "execution_count": null,
   "metadata": {
    "collapsed": true
   },
   "outputs": [],
   "source": []
  },
  {
   "cell_type": "code",
   "execution_count": null,
   "metadata": {
    "collapsed": true
   },
   "outputs": [],
   "source": []
  },
  {
   "cell_type": "code",
   "execution_count": null,
   "metadata": {
    "collapsed": true
   },
   "outputs": [],
   "source": []
  },
  {
   "cell_type": "code",
   "execution_count": null,
   "metadata": {
    "collapsed": true
   },
   "outputs": [],
   "source": []
  },
  {
   "cell_type": "code",
   "execution_count": null,
   "metadata": {
    "collapsed": true
   },
   "outputs": [],
   "source": []
  },
  {
   "cell_type": "code",
   "execution_count": null,
   "metadata": {
    "collapsed": true
   },
   "outputs": [],
   "source": []
  },
  {
   "cell_type": "code",
   "execution_count": null,
   "metadata": {
    "collapsed": true
   },
   "outputs": [],
   "source": []
  },
  {
   "cell_type": "code",
   "execution_count": null,
   "metadata": {
    "collapsed": true
   },
   "outputs": [],
   "source": []
  },
  {
   "cell_type": "code",
   "execution_count": null,
   "metadata": {
    "collapsed": true
   },
   "outputs": [],
   "source": []
  },
  {
   "cell_type": "code",
   "execution_count": null,
   "metadata": {
    "collapsed": true
   },
   "outputs": [],
   "source": []
  },
  {
   "cell_type": "code",
   "execution_count": null,
   "metadata": {
    "collapsed": true
   },
   "outputs": [],
   "source": []
  },
  {
   "cell_type": "code",
   "execution_count": null,
   "metadata": {
    "collapsed": true
   },
   "outputs": [],
   "source": []
  },
  {
   "cell_type": "code",
   "execution_count": null,
   "metadata": {
    "collapsed": true
   },
   "outputs": [],
   "source": []
  },
  {
   "cell_type": "code",
   "execution_count": null,
   "metadata": {
    "collapsed": true
   },
   "outputs": [],
   "source": []
  },
  {
   "cell_type": "code",
   "execution_count": null,
   "metadata": {
    "collapsed": true
   },
   "outputs": [],
   "source": []
  },
  {
   "cell_type": "code",
   "execution_count": null,
   "metadata": {
    "collapsed": true
   },
   "outputs": [],
   "source": []
  },
  {
   "cell_type": "code",
   "execution_count": null,
   "metadata": {
    "collapsed": true
   },
   "outputs": [],
   "source": []
  },
  {
   "cell_type": "code",
   "execution_count": null,
   "metadata": {
    "collapsed": true
   },
   "outputs": [],
   "source": []
  },
  {
   "cell_type": "code",
   "execution_count": null,
   "metadata": {
    "collapsed": true
   },
   "outputs": [],
   "source": []
  },
  {
   "cell_type": "code",
   "execution_count": null,
   "metadata": {
    "collapsed": false
   },
   "outputs": [],
   "source": []
  },
  {
   "cell_type": "code",
   "execution_count": null,
   "metadata": {
    "collapsed": true
   },
   "outputs": [],
   "source": []
  },
  {
   "cell_type": "code",
   "execution_count": null,
   "metadata": {
    "collapsed": true
   },
   "outputs": [],
   "source": []
  },
  {
   "cell_type": "code",
   "execution_count": null,
   "metadata": {
    "collapsed": true
   },
   "outputs": [],
   "source": []
  }
 ],
 "metadata": {
  "kernelspec": {
   "display_name": "Python 3",
   "language": "python",
   "name": "python3"
  },
  "language_info": {
   "codemirror_mode": {
    "name": "ipython",
    "version": 3
   },
   "file_extension": ".py",
   "mimetype": "text/x-python",
   "name": "python",
   "nbconvert_exporter": "python",
   "pygments_lexer": "ipython3",
   "version": "3.4.5"
  }
 },
 "nbformat": 4,
 "nbformat_minor": 2
}
